{
 "cells": [
  {
   "cell_type": "markdown",
   "metadata": {},
   "source": [
    "# IMPORT THESE:"
   ]
  },
  {
   "cell_type": "code",
   "execution_count": 1,
   "metadata": {},
   "outputs": [],
   "source": [
    "import json\n",
    "import time\n",
    "import requests\n",
    "import pandas as pd\n",
    "from selenium import webdriver\n",
    "from collections import Counter"
   ]
  },
  {
   "cell_type": "code",
   "execution_count": 2,
   "metadata": {},
   "outputs": [],
   "source": [
    "pd.set_option('display.max_columns', 25)\n",
    "pd.set_option('display.max_colwidth', 600)"
   ]
  },
  {
   "cell_type": "markdown",
   "metadata": {},
   "source": [
    "# Scraping weekly EPL stats (by EPL team & players)"
   ]
  },
  {
   "cell_type": "code",
   "execution_count": 3,
   "metadata": {},
   "outputs": [],
   "source": [
    "url = 'https://fantasy.premierleague.com/api/bootstrap-static/'\n",
    "\n",
    "def get_json_data(url):\n",
    "    response = requests.get(url)\n",
    "    jobs = response.json()\n",
    "    return jobs\n",
    "\n",
    "#filter out players with less than 330\n",
    "all_players = get_json_data(url)['elements']\n",
    "all_teams = get_json_data(url)['teams']\n",
    "positions = get_json_data(url)['element_types']"
   ]
  },
  {
   "cell_type": "code",
   "execution_count": 4,
   "metadata": {},
   "outputs": [],
   "source": [
    "# ev = get_json_data(url)"
   ]
  },
  {
   "cell_type": "code",
   "execution_count": 5,
   "metadata": {},
   "outputs": [],
   "source": [
    "# with open('fantasy_EPL_0.json', 'w', encoding='utf-8') as f:\n",
    "#     json.dump(ev, f, ensure_ascii=False, indent=4)"
   ]
  },
  {
   "cell_type": "code",
   "execution_count": 6,
   "metadata": {},
   "outputs": [],
   "source": [
    "# df = pd.DataFrame(all_players)"
   ]
  },
  {
   "cell_type": "code",
   "execution_count": 7,
   "metadata": {},
   "outputs": [],
   "source": [
    "# df.set_index('web_name')"
   ]
  },
  {
   "cell_type": "code",
   "execution_count": 8,
   "metadata": {},
   "outputs": [],
   "source": [
    "# df.columns"
   ]
  },
  {
   "cell_type": "code",
   "execution_count": 9,
   "metadata": {},
   "outputs": [],
   "source": [
    "# cols = ['web_name', 'now_cost', 'total_points', 'minutes', 'selected_by_percent', 'points_per_game',\n",
    "#         'goals_scored', 'assists', 'yellow_cards', 'red_cards', 'own_goals',\n",
    "#         'form', 'ict_index', 'creativity','influence', 'threat', 'value_season', 'bonus', 'bps',\n",
    "#         'clean_sheets', 'goals_conceded', 'penalties_missed', 'saves', 'penalties_saved', \n",
    "#         'special', 'status', 'transfers_in','transfers_out', 'transfers_in_event', 'transfers_out_event',\n",
    "#         'value_form', 'dreamteam_count', 'in_dreamteam',  'ep_next', 'ep_this', 'event_points',\n",
    "#         'chance_of_playing_next_round', 'chance_of_playing_this_round', 'cost_change_event', \n",
    "#         'cost_change_event_fall', 'cost_change_start', 'cost_change_start_fall', 'element_type', \n",
    "#         'code', 'squad_number', 'team', 'team_code', 'id', 'photo', 'news_added', 'first_name', 'second_name']"
   ]
  },
  {
   "cell_type": "code",
   "execution_count": 10,
   "metadata": {},
   "outputs": [],
   "source": [
    "# df = df[cols]"
   ]
  },
  {
   "cell_type": "code",
   "execution_count": 11,
   "metadata": {},
   "outputs": [],
   "source": [
    "# Test\n",
    "# df[df.web_name=='Kean']"
   ]
  },
  {
   "cell_type": "code",
   "execution_count": 12,
   "metadata": {},
   "outputs": [],
   "source": [
    "# df.to_csv('EPL_fantasy_weeklystats_0.csv', index=False)\n",
    "# df.to_csv('./testing_AWS_satire/EPL_fantasy_weeklystats_0.csv', index=False)"
   ]
  },
  {
   "cell_type": "code",
   "execution_count": 13,
   "metadata": {},
   "outputs": [],
   "source": [
    "# df_t = pd.DataFrame(all_teams)"
   ]
  },
  {
   "cell_type": "code",
   "execution_count": 14,
   "metadata": {},
   "outputs": [],
   "source": [
    "# df_t.to_csv('EPL_fantasy_weeklytable_0.csv', index=False)"
   ]
  },
  {
   "cell_type": "code",
   "execution_count": 15,
   "metadata": {},
   "outputs": [],
   "source": [
    "# ls"
   ]
  },
  {
   "cell_type": "code",
   "execution_count": 16,
   "metadata": {},
   "outputs": [],
   "source": [
    "# aa = pd.read_csv('/Users/asproul/Desktop/projects/fantasy_EPL_update2019/package/foundation/weekly_2019-20_data_scrapes/EPL_fantasy_weeklystats_2.csv')"
   ]
  },
  {
   "cell_type": "code",
   "execution_count": null,
   "metadata": {},
   "outputs": [],
   "source": [
    "# Test:\n",
    "# aa[aa['total_points']==26]"
   ]
  },
  {
   "cell_type": "code",
   "execution_count": null,
   "metadata": {},
   "outputs": [],
   "source": [
    "games = get_json_data(url)['events']"
   ]
  },
  {
   "cell_type": "code",
   "execution_count": null,
   "metadata": {},
   "outputs": [
    {
     "name": "stdout",
     "output_type": "stream",
     "text": [
      "['2019-08-09T18:00:00Z', '2019-08-17T10:30:00Z', '2019-08-23T18:00:00Z', '2019-08-31T10:30:00Z', '2019-09-14T10:30:00Z', '2019-09-20T18:00:00Z', '2019-09-28T10:30:00Z', '2019-10-05T10:30:00Z', '2019-10-19T10:30:00Z', '2019-10-25T18:00:00Z', '2019-11-02T11:30:00Z', '2019-11-08T19:00:00Z', '2019-11-23T11:30:00Z', '2019-11-30T11:30:00Z', '2019-12-03T18:30:00Z', '2019-12-07T11:30:00Z', '2019-12-14T11:30:00Z', '2019-12-21T11:30:00Z', '2019-12-26T11:30:00Z', '2019-12-28T11:30:00Z', '2020-01-01T11:30:00Z', '2020-01-10T19:00:00Z', '2020-01-18T11:30:00Z', '2020-01-21T18:30:00Z', '2020-02-01T14:00:00Z', '2020-02-08T14:00:00Z', '2020-02-22T14:00:00Z', '2020-02-29T14:00:00Z', '2020-03-07T14:00:00Z', '2020-03-14T14:00:00Z', '2020-03-21T14:00:00Z', '2020-04-04T13:00:00Z', '2020-04-11T13:00:00Z', '2020-04-18T13:00:00Z', '2020-04-25T13:00:00Z', '2020-05-02T13:00:00Z', '2020-05-09T13:00:00Z', '2020-05-17T13:00:00Z']\n"
     ]
    }
   ],
   "source": [
    "df_games = pd.DataFrame(games)\n",
    "print(list(df_games.deadline_time))"
   ]
  },
  {
   "cell_type": "code",
   "execution_count": null,
   "metadata": {},
   "outputs": [],
   "source": [
    "deadlines_list = ['2019-08-09T18:00:00Z', '2019-08-17T10:30:00Z', '2019-08-23T18:00:00Z', '2019-08-31T10:30:00Z', '2019-09-14T10:30:00Z', '2019-09-20T18:00:00Z', '2019-09-28T10:30:00Z', '2019-10-05T10:30:00Z', '2019-10-19T10:30:00Z', '2019-10-25T18:00:00Z', '2019-11-02T14:00:00Z', '2019-11-09T14:00:00Z', '2019-11-23T14:00:00Z', '2019-11-30T14:00:00Z', '2019-12-03T18:45:00Z', '2019-12-07T14:00:00Z', '2019-12-14T14:00:00Z', '2019-12-21T14:00:00Z', '2019-12-26T14:00:00Z', '2019-12-28T14:00:00Z', '2020-01-01T14:00:00Z', '2020-01-11T14:00:00Z', '2020-01-18T14:00:00Z', '2020-01-21T18:45:00Z', '2020-02-01T14:00:00Z', '2020-02-08T14:00:00Z', '2020-02-22T14:00:00Z', '2020-02-29T14:00:00Z', '2020-03-07T14:00:00Z', '2020-03-14T14:00:00Z', '2020-03-21T14:00:00Z', '2020-04-04T13:00:00Z', '2020-04-11T13:00:00Z', '2020-04-18T13:00:00Z', '2020-04-25T13:00:00Z', '2020-05-02T13:00:00Z', '2020-05-09T13:00:00Z', '2020-05-17T13:00:00Z']"
   ]
  },
  {
   "cell_type": "markdown",
   "metadata": {},
   "source": [
    "-         **Friday, August 9, 2019 at 8:00:00 pm    EDT UTC-4 hours** - New York (USA - New York) \n",
    "- **Saturday, August 10, 2019 at 1:00:00 am BST UTC+1 hour** - London (England) \n",
    "-           **Saturday, August 10, 2019 at 00:00:00** - Corresponding UTC (GMT) "
   ]
  },
  {
   "cell_type": "code",
   "execution_count": null,
   "metadata": {},
   "outputs": [
    {
     "name": "stdout",
     "output_type": "stream",
     "text": [
      "2018-09-15T13:00:00Z\n"
     ]
    }
   ],
   "source": [
    "import datetime\n",
    "\n",
    "x = datetime.datetime(2018, 9, 15,13,0,0)\n",
    "\n",
    "\n",
    "# '2019-08-09T18:00:00Z'\n",
    "\n",
    "# print(x.strftime(\"%b %d %Y %H:%M:%S\"))\n",
    "print(x.strftime(\"%Y-%m-%dT%H:%M:%SZ\"))"
   ]
  },
  {
   "cell_type": "code",
   "execution_count": null,
   "metadata": {},
   "outputs": [],
   "source": [
    "# '2018-09-15T13:00:00Z'\n",
    "# '2020-04-25T13:00:00Z'\n",
    "# deadlines_list"
   ]
  },
  {
   "cell_type": "code",
   "execution_count": null,
   "metadata": {},
   "outputs": [],
   "source": [
    "updated_deadline_list = []"
   ]
  },
  {
   "cell_type": "code",
   "execution_count": null,
   "metadata": {},
   "outputs": [],
   "source": [
    "for date in deadlines_list:\n",
    "    updated_deadline_list.append(pd.Timestamp(date) - pd.Timedelta(minutes=20))"
   ]
  },
  {
   "cell_type": "code",
   "execution_count": null,
   "metadata": {},
   "outputs": [
    {
     "data": {
      "text/plain": [
       "Timestamp('2018-09-15 12:40:00+0000', tz='UTC')"
      ]
     },
     "execution_count": 25,
     "metadata": {},
     "output_type": "execute_result"
    }
   ],
   "source": [
    "pd.Timestamp('2018-09-15T13:00:00Z') - pd.Timedelta(minutes=20)"
   ]
  },
  {
   "cell_type": "code",
   "execution_count": null,
   "metadata": {},
   "outputs": [
    {
     "name": "stdout",
     "output_type": "stream",
     "text": [
      "[Timestamp('2019-08-09 17:40:00+0000', tz='UTC'), Timestamp('2019-08-17 10:10:00+0000', tz='UTC'), Timestamp('2019-08-23 17:40:00+0000', tz='UTC'), Timestamp('2019-08-31 10:10:00+0000', tz='UTC'), Timestamp('2019-09-14 10:10:00+0000', tz='UTC'), Timestamp('2019-09-20 17:40:00+0000', tz='UTC'), Timestamp('2019-09-28 10:10:00+0000', tz='UTC'), Timestamp('2019-10-05 10:10:00+0000', tz='UTC'), Timestamp('2019-10-19 10:10:00+0000', tz='UTC'), Timestamp('2019-10-25 17:40:00+0000', tz='UTC'), Timestamp('2019-11-02 13:40:00+0000', tz='UTC'), Timestamp('2019-11-09 13:40:00+0000', tz='UTC'), Timestamp('2019-11-23 13:40:00+0000', tz='UTC'), Timestamp('2019-11-30 13:40:00+0000', tz='UTC'), Timestamp('2019-12-03 18:25:00+0000', tz='UTC'), Timestamp('2019-12-07 13:40:00+0000', tz='UTC'), Timestamp('2019-12-14 13:40:00+0000', tz='UTC'), Timestamp('2019-12-21 13:40:00+0000', tz='UTC'), Timestamp('2019-12-26 13:40:00+0000', tz='UTC'), Timestamp('2019-12-28 13:40:00+0000', tz='UTC'), Timestamp('2020-01-01 13:40:00+0000', tz='UTC'), Timestamp('2020-01-11 13:40:00+0000', tz='UTC'), Timestamp('2020-01-18 13:40:00+0000', tz='UTC'), Timestamp('2020-01-21 18:25:00+0000', tz='UTC'), Timestamp('2020-02-01 13:40:00+0000', tz='UTC'), Timestamp('2020-02-08 13:40:00+0000', tz='UTC'), Timestamp('2020-02-22 13:40:00+0000', tz='UTC'), Timestamp('2020-02-29 13:40:00+0000', tz='UTC'), Timestamp('2020-03-07 13:40:00+0000', tz='UTC'), Timestamp('2020-03-14 13:40:00+0000', tz='UTC'), Timestamp('2020-03-21 13:40:00+0000', tz='UTC'), Timestamp('2020-04-04 12:40:00+0000', tz='UTC'), Timestamp('2020-04-11 12:40:00+0000', tz='UTC'), Timestamp('2020-04-18 12:40:00+0000', tz='UTC'), Timestamp('2020-04-25 12:40:00+0000', tz='UTC'), Timestamp('2020-05-02 12:40:00+0000', tz='UTC'), Timestamp('2020-05-09 12:40:00+0000', tz='UTC'), Timestamp('2020-05-17 12:40:00+0000', tz='UTC')]\n"
     ]
    }
   ],
   "source": [
    "print(updated_deadline_list)"
   ]
  },
  {
   "cell_type": "markdown",
   "metadata": {},
   "source": [
    "---"
   ]
  },
  {
   "cell_type": "markdown",
   "metadata": {},
   "source": [
    "# Scraping the weekly top ranked EPL Fantasy Teams (by users)"
   ]
  },
  {
   "cell_type": "markdown",
   "metadata": {},
   "source": [
    "#### Notes:"
   ]
  },
  {
   "cell_type": "code",
   "execution_count": null,
   "metadata": {},
   "outputs": [],
   "source": [
    "driver = webdriver.Chrome()\n",
    "page = 1\n",
    "url = 'https://fantasy.premierleague.com/leagues/314/standings/c?phase=1&page_new_entries=1&page_standings=' + str(page)\n",
    "driver.get(url)"
   ]
  },
  {
   "cell_type": "markdown",
   "metadata": {},
   "source": [
    "#### Structure of INDIVIDUAL USER url:"
   ]
  },
  {
   "cell_type": "code",
   "execution_count": null,
   "metadata": {},
   "outputs": [],
   "source": [
    "example_base = 'https://fantasy.premierleague.com/'\n",
    "\n",
    "example_individual_user = 'entry/INTEGER'\n",
    "\n",
    "example_specific_game_week = 'event/INTEGER'"
   ]
  },
  {
   "cell_type": "markdown",
   "metadata": {},
   "source": [
    "#### Agenda:\n",
    "\n",
    "- get list of top 100 users\n",
    "- scrape their weekly roster and points total"
   ]
  },
  {
   "cell_type": "code",
   "execution_count": null,
   "metadata": {},
   "outputs": [],
   "source": [
    "base_url = 'https://fantasy.premierleague.com/'"
   ]
  },
  {
   "cell_type": "markdown",
   "metadata": {},
   "source": [
    "## Implementation:"
   ]
  },
  {
   "cell_type": "code",
   "execution_count": null,
   "metadata": {},
   "outputs": [],
   "source": [
    "driver = webdriver.Chrome()"
   ]
  },
  {
   "cell_type": "code",
   "execution_count": null,
   "metadata": {},
   "outputs": [],
   "source": [
    "users = []\n",
    "total_points = []\n",
    "current_week_ranks = []\n",
    "game_week_points = []\n",
    "user_team_urls = []\n",
    "user_id_num = []\n",
    "lineups = []\n",
    "user_squad = []\n",
    "formations = []"
   ]
  },
  {
   "cell_type": "code",
   "execution_count": null,
   "metadata": {},
   "outputs": [],
   "source": [
    "def scrape_weekly_user_points(userz, total_pointz, rankz, gwt_pointz, user_pagez, user_idz):\n",
    "    pages = [1,2]\n",
    "    url = 'https://fantasy.premierleague.com/leagues/314/standings/c?phase=1&page_new_entries=1&page_standings='\n",
    "    for page in pages:\n",
    "        driver.get(url + str(page))\n",
    "        time.sleep(1)\n",
    "        table = driver.find_element_by_css_selector('tbody')\n",
    "        rows = table.find_elements_by_css_selector('tr')\n",
    "        for row in rows:\n",
    "            user = row.find_elements_by_css_selector('td')[1].text.split('\\n',1)[-1]\n",
    "            tot_points = row.find_elements_by_css_selector('td')[3].text\n",
    "            rank = row.find_elements_by_css_selector('td')[0].text\n",
    "            user_url = row.find_elements_by_css_selector('td')[1].find_element_by_css_selector('a').get_attribute('href')\n",
    "            user_id = user_url.split('entry/')[1].split('/event')[0]\n",
    "            weekly_points = row.find_elements_by_css_selector('td')[2].text\n",
    "            userz.append(user), total_pointz.append(tot_points), rankz.append(rank)\n",
    "            gwt_pointz.append(weekly_points), user_pagez.append(user_url), user_idz.append(user_id)\n",
    "#     return listy1, listy2"
   ]
  },
  {
   "cell_type": "code",
   "execution_count": null,
   "metadata": {},
   "outputs": [],
   "source": [
    "def scrape_user_lineups(urls, uzer_squad, formationz):\n",
    "    count = 1\n",
    "    for url in urls:\n",
    "        driver.get(url)\n",
    "        time.sleep(1.5)\n",
    "        driver.find_elements_by_class_name('Tab__Link-sc-19t48gi-1')[1].click()\n",
    "        time.sleep(.5)\n",
    "        tables = driver.find_elements_by_css_selector('tbody')\n",
    "        starter_rows = tables[0].find_elements_by_css_selector('tr')\n",
    "        team = []\n",
    "        starters = []\n",
    "        subs = []\n",
    "        formation = {'GKP':0, 'DEF':0, 'MID':0, 'FWD':0}\n",
    "        counts = {'GKP':0, 'DEF':0, 'MID':0, 'FWD':0} \n",
    "        for i in range(1, len(starter_rows)+1):\n",
    "            position = driver.find_element_by_xpath(f'//*[@id=\"root\"]/div[2]/div/div[1]/div[4]/div/div/div/div/div[1]/table/tbody/tr[{str(i)}]/td[3]/button/div/div[2]/div[2]/span[2]').text\n",
    "            formation[position] += 1\n",
    "            counts[position] += 1\n",
    "            starters.append((driver.find_element_by_xpath(f'//*[@id=\"root\"]/div[2]/div/div[1]/div[4]/div/div/div/div/div[1]/table/tbody/tr[{str(i)}]/td[3]/button/div/div[2]/div[1]').text + '-' + \n",
    "                             driver.find_element_by_xpath(f'//*[@id=\"root\"]/div[2]/div/div[1]/div[4]/div/div/div/div/div[1]/table/tbody/tr[{str(i)}]/td[3]/button/div/div[2]/div[2]/span[1]').text + '-' + \n",
    "                             'start' + '=' + \n",
    "                             driver.find_element_by_xpath(f'//*[@id=\"root\"]/div[2]/div/div[1]/div[4]/div/div/div/div/div[1]/table/tbody/tr[{str(i)}]/td[3]/button/div/div[2]/div[2]/span[2]').text + '_' +\n",
    "                             str(formation[position])))\n",
    "            \n",
    "        sub_rows = tables[1].find_elements_by_css_selector('tr')\n",
    "        for i in range(1, len(sub_rows)+1):\n",
    "            position = driver.find_element_by_xpath(f'//*[@id=\"root\"]/div[2]/div/div[1]/div[4]/div/div/div/div/div[2]/table/tbody/tr[{str(i)}]/td[3]/button/div/div[2]/div[2]/span[2]').text\n",
    "            counts[position] += 1\n",
    "            subs.append((driver.find_element_by_xpath(f'//*[@id=\"root\"]/div[2]/div/div[1]/div[4]/div/div/div/div/div[2]/table/tbody/tr[{str(i)}]/td[3]/button/div/div[2]/div[1]').text + '-' + \n",
    "                         driver.find_element_by_xpath(f'//*[@id=\"root\"]/div[2]/div/div[1]/div[4]/div/div/div/div/div[2]/table/tbody/tr[{str(i)}]/td[3]/button/div/div[2]/div[2]/span[1]').text + '-' + \n",
    "                         'sub' + '=' + \n",
    "                        driver.find_element_by_xpath(f'//*[@id=\"root\"]/div[2]/div/div[1]/div[4]/div/div/div/div/div[2]/table/tbody/tr[{str(i)}]/td[3]/button/div/div[2]/div[2]/span[2]').text) + '_' +\n",
    "                        str(counts[position]))\n",
    "        starters.extend(subs), team.extend(starters)\n",
    "        uzer_squad.append(team), formationz.append(formation)\n",
    "        print(len(urls) - count, 'left to scrape')\n",
    "        count += 1\n",
    "    return uzer_squad, formationz"
   ]
  },
  {
   "cell_type": "code",
   "execution_count": null,
   "metadata": {},
   "outputs": [],
   "source": [
    "scrape_weekly_user_points(users, total_points, current_week_ranks, game_week_points,\n",
    "                          user_team_urls, user_id_num)"
   ]
  },
  {
   "cell_type": "code",
   "execution_count": null,
   "metadata": {
    "scrolled": true
   },
   "outputs": [
    {
     "name": "stdout",
     "output_type": "stream",
     "text": [
      "99 left to scrape\n",
      "98 left to scrape\n",
      "97 left to scrape\n",
      "96 left to scrape\n",
      "95 left to scrape\n",
      "94 left to scrape\n",
      "93 left to scrape\n",
      "92 left to scrape\n",
      "91 left to scrape\n",
      "90 left to scrape\n",
      "89 left to scrape\n",
      "88 left to scrape\n",
      "87 left to scrape\n",
      "86 left to scrape\n",
      "85 left to scrape\n",
      "84 left to scrape\n",
      "83 left to scrape\n",
      "82 left to scrape\n",
      "81 left to scrape\n",
      "80 left to scrape\n",
      "79 left to scrape\n",
      "78 left to scrape\n",
      "77 left to scrape\n",
      "76 left to scrape\n",
      "75 left to scrape\n",
      "74 left to scrape\n",
      "73 left to scrape\n",
      "72 left to scrape\n",
      "71 left to scrape\n",
      "70 left to scrape\n",
      "69 left to scrape\n",
      "68 left to scrape\n",
      "67 left to scrape\n",
      "66 left to scrape\n",
      "65 left to scrape\n",
      "64 left to scrape\n",
      "63 left to scrape\n",
      "62 left to scrape\n",
      "61 left to scrape\n",
      "60 left to scrape\n",
      "59 left to scrape\n",
      "58 left to scrape\n",
      "57 left to scrape\n",
      "56 left to scrape\n",
      "55 left to scrape\n",
      "54 left to scrape\n",
      "53 left to scrape\n",
      "52 left to scrape\n",
      "51 left to scrape\n",
      "50 left to scrape\n",
      "49 left to scrape\n",
      "48 left to scrape\n",
      "47 left to scrape\n",
      "46 left to scrape\n",
      "45 left to scrape\n",
      "44 left to scrape\n",
      "43 left to scrape\n",
      "42 left to scrape\n",
      "41 left to scrape\n",
      "40 left to scrape\n",
      "39 left to scrape\n",
      "38 left to scrape\n",
      "37 left to scrape\n",
      "36 left to scrape\n",
      "35 left to scrape\n",
      "34 left to scrape\n",
      "33 left to scrape\n",
      "32 left to scrape\n",
      "31 left to scrape\n",
      "30 left to scrape\n",
      "29 left to scrape\n",
      "28 left to scrape\n",
      "27 left to scrape\n",
      "26 left to scrape\n",
      "25 left to scrape\n",
      "24 left to scrape\n",
      "23 left to scrape\n",
      "22 left to scrape\n",
      "21 left to scrape\n",
      "20 left to scrape\n",
      "19 left to scrape\n",
      "18 left to scrape\n",
      "17 left to scrape\n",
      "16 left to scrape\n",
      "15 left to scrape\n",
      "14 left to scrape\n",
      "13 left to scrape\n",
      "12 left to scrape\n",
      "11 left to scrape\n",
      "10 left to scrape\n",
      "9 left to scrape\n",
      "8 left to scrape\n",
      "7 left to scrape\n",
      "6 left to scrape\n",
      "5 left to scrape\n",
      "4 left to scrape\n",
      "3 left to scrape\n",
      "2 left to scrape\n",
      "1 left to scrape\n"
     ]
    }
   ],
   "source": [
    "scrape_user_lineups(user_team_urls, user_squad, formations)"
   ]
  },
  {
   "cell_type": "code",
   "execution_count": null,
   "metadata": {},
   "outputs": [],
   "source": [
    "formations[0]"
   ]
  },
  {
   "cell_type": "code",
   "execution_count": null,
   "metadata": {},
   "outputs": [],
   "source": [
    "formations[0]"
   ]
  },
  {
   "cell_type": "code",
   "execution_count": null,
   "metadata": {},
   "outputs": [],
   "source": [
    "GKP_1 = []\n",
    "GKP_2 = []\n",
    "DEF_1 = []\n",
    "DEF_2 = []\n",
    "DEF_3 = []\n",
    "DEF_4 = []\n",
    "DEF_5 = []\n",
    "MID_1 = []\n",
    "MID_2 = []\n",
    "MID_3 = []\n",
    "MID_4 = []\n",
    "MID_5 = []\n",
    "FWD_1 = []\n",
    "FWD_2 = []\n",
    "FWD_3 = []\n",
    "def populate(listy):\n",
    "    for i in range(len(listy)):\n",
    "        for player in listy[i]:\n",
    "            if player[-5:] == 'GKP_1':\n",
    "                GKP_1.append(player[:-6])\n",
    "            if player[-5:] == 'GKP_2':\n",
    "                GKP_2.append(player[:-6])\n",
    "            if player[-5:] == 'DEF_1':\n",
    "                DEF_1.append(player[:-6])\n",
    "            if player[-5:] == 'DEF_2':\n",
    "                DEF_2.append(player[:-6])\n",
    "            if player[-5:] == 'DEF_3':\n",
    "                DEF_3.append(player[:-6])\n",
    "            if player[-5:] == 'DEF_4':\n",
    "                DEF_4.append(player[:-6])\n",
    "            if player[-5:] == 'DEF_5':\n",
    "                DEF_5.append(player[:-6])\n",
    "            if player[-5:] == 'MID_1':\n",
    "                MID_1.append(player[:-6])\n",
    "            if player[-5:] == 'MID_2':\n",
    "                MID_2.append(player[:-6])\n",
    "            if player[-5:] == 'MID_3':\n",
    "                MID_3.append(player[:-6])\n",
    "            if player[-5:] == 'MID_4':\n",
    "                MID_4.append(player[:-6])\n",
    "            if player[-5:] == 'MID_5':\n",
    "                MID_5.append(player[:-6])\n",
    "            if player[-5:] == 'FWD_1':\n",
    "                FWD_1.append(player[:-6])\n",
    "            if player[-5:] == 'FWD_2':\n",
    "                FWD_2.append(player[:-6])\n",
    "            if player[-5:] == 'FWD_3':\n",
    "                FWD_3.append(player[:-6])"
   ]
  },
  {
   "cell_type": "code",
   "execution_count": null,
   "metadata": {},
   "outputs": [],
   "source": [
    "populate(user_squad)"
   ]
  },
  {
   "cell_type": "code",
   "execution_count": null,
   "metadata": {},
   "outputs": [],
   "source": [
    "print(len(GKP_1), len(GKP_2), len(DEF_1), len(DEF_2), len(DEF_3), len(DEF_4), len(DEF_5), len(MID_1), len(MID_2), len(MID_3), len(MID_4), len(MID_5), len(FWD_1), len(FWD_2), len(FWD_3))"
   ]
  },
  {
   "cell_type": "code",
   "execution_count": null,
   "metadata": {},
   "outputs": [],
   "source": [
    "print(GKP_1,GKP_2, DEF_1, DEF_2, DEF_3,DEF_4,DEF_5,MID_1,MID_2,MID_3,MID_4,MID_5,FWD_1,FWD_2,FWD_3)"
   ]
  },
  {
   "cell_type": "code",
   "execution_count": null,
   "metadata": {},
   "outputs": [],
   "source": [
    "def make_df():\n",
    "    df = pd.DataFrame()\n",
    "    df['user_id_num'] = user_id_num\n",
    "    df['total_points'] = total_points\n",
    "    df['game_week_points'] = game_week_points\n",
    "    df['users'] = users\n",
    "    df['formation'] = formations\n",
    "    df['GKP_1'] = GKP_1\n",
    "    df['GKP_2'] = GKP_2\n",
    "    df['DEF_1'] = DEF_1\n",
    "    df['DEF_2'] = DEF_2\n",
    "    df['DEF_3'] = DEF_3\n",
    "    df['DEF_4'] = DEF_4\n",
    "    df['DEF_5'] = DEF_5\n",
    "    df['MID_1'] = MID_1\n",
    "    df['MID_2'] = MID_2\n",
    "    df['MID_3'] = MID_3\n",
    "    df['MID_4'] = MID_4\n",
    "    df['MID_5'] = MID_5\n",
    "    df['FWD_1'] = FWD_1\n",
    "    df['FWD_2'] = FWD_2\n",
    "    df['FWD_3'] = FWD_3\n",
    "    df['user_team_pages'] = user_team_urls\n",
    "    df.index = current_week_ranks\n",
    "    df.index.name = 'rank'\n",
    "    return df"
   ]
  },
  {
   "cell_type": "code",
   "execution_count": null,
   "metadata": {},
   "outputs": [],
   "source": [
    "df = make_df()"
   ]
  },
  {
   "cell_type": "code",
   "execution_count": null,
   "metadata": {},
   "outputs": [],
   "source": [
    "df.to_csv('fEPL_user_data_test.csv')"
   ]
  },
  {
   "cell_type": "code",
   "execution_count": null,
   "metadata": {},
   "outputs": [],
   "source": [
    "df.formation.value_counts()"
   ]
  },
  {
   "cell_type": "code",
   "execution_count": null,
   "metadata": {
    "scrolled": true
   },
   "outputs": [],
   "source": [
    "hm = pd.read_csv('fEPL_user_data_test.csv', index_col='users')"
   ]
  },
  {
   "cell_type": "code",
   "execution_count": null,
   "metadata": {
    "scrolled": false
   },
   "outputs": [],
   "source": [
    "hm.head()"
   ]
  },
  {
   "cell_type": "code",
   "execution_count": null,
   "metadata": {},
   "outputs": [],
   "source": [
    "top100_pts = hm.game_week_points"
   ]
  },
  {
   "cell_type": "code",
   "execution_count": null,
   "metadata": {},
   "outputs": [],
   "source": [
    "\n",
    "top100_pts.plot()"
   ]
  },
  {
   "cell_type": "code",
   "execution_count": null,
   "metadata": {},
   "outputs": [],
   "source": [
    "GK = hm[['GKP_1', 'GKP_2']]"
   ]
  },
  {
   "cell_type": "code",
   "execution_count": null,
   "metadata": {},
   "outputs": [],
   "source": [
    "GK.head()"
   ]
  },
  {
   "cell_type": "code",
   "execution_count": null,
   "metadata": {},
   "outputs": [],
   "source": [
    "GK_list = list(GK.GKP_1)"
   ]
  },
  {
   "cell_type": "code",
   "execution_count": null,
   "metadata": {},
   "outputs": [],
   "source": [
    "GK_list.extend(list(GK.GKP_2))"
   ]
  },
  {
   "cell_type": "code",
   "execution_count": null,
   "metadata": {},
   "outputs": [],
   "source": [
    "len(GK_list)"
   ]
  },
  {
   "cell_type": "code",
   "execution_count": null,
   "metadata": {},
   "outputs": [],
   "source": [
    "GK_list[:3]"
   ]
  },
  {
   "cell_type": "code",
   "execution_count": null,
   "metadata": {},
   "outputs": [],
   "source": [
    "test = GK_list[0].partition(\"-\")[0]"
   ]
  },
  {
   "cell_type": "code",
   "execution_count": null,
   "metadata": {},
   "outputs": [],
   "source": [
    "GK_final = [item.partition(\"-\")[0] for item in GK_list]"
   ]
  },
  {
   "cell_type": "code",
   "execution_count": null,
   "metadata": {},
   "outputs": [],
   "source": [
    "GK_final"
   ]
  },
  {
   "cell_type": "code",
   "execution_count": null,
   "metadata": {},
   "outputs": [],
   "source": [
    "from collections import Counter"
   ]
  },
  {
   "cell_type": "code",
   "execution_count": null,
   "metadata": {},
   "outputs": [],
   "source": [
    "maybs = Counter(GK_final).most_common(10)"
   ]
  },
  {
   "cell_type": "code",
   "execution_count": null,
   "metadata": {
    "scrolled": true
   },
   "outputs": [],
   "source": [
    "maybs"
   ]
  },
  {
   "cell_type": "code",
   "execution_count": null,
   "metadata": {},
   "outputs": [],
   "source": [
    "def partition_names(names_list):\n",
    "    clean_list = [item.partition(\"-\")[0] for item in names_list]\n",
    "    return clean_list"
   ]
  },
  {
   "cell_type": "code",
   "execution_count": null,
   "metadata": {},
   "outputs": [],
   "source": [
    "def get_top100_teams(team_df):\n",
    "    #create lists by position\n",
    "    #GK_list\n",
    "    GK_list = list(team_df.GKP_1)\n",
    "    GK_list.extend(list(team_df.GKP_2))\n",
    "    GK_final = partition_names(GK_list)\n",
    "    \n",
    "    #DF_list\n",
    "    DF_list = list(team_df.DEF_1)\n",
    "    DF_list.extend(list(team_df.DEF_2))\n",
    "    DF_list.extend(list(team_df.DEF_3))\n",
    "    DF_list.extend(list(team_df.DEF_4))\n",
    "    DF_list.extend(list(team_df.DEF_5))\n",
    "    DF_final = partition_names(DF_list)\n",
    "    \n",
    "    #MD_list\n",
    "    MD_list = list(team_df.MID_1)\n",
    "    MD_list.extend(list(team_df.MID_2))\n",
    "    MD_list.extend(list(team_df.MID_3))\n",
    "    MD_list.extend(list(team_df.MID_4))\n",
    "    MD_list.extend(list(team_df.MID_5))\n",
    "    MD_final = partition_names(MD_list)\n",
    "    \n",
    "    #ST_list\n",
    "    ST_list = list(team_df.FWD_1)\n",
    "    ST_list.extend(list(team_df.FWD_2))\n",
    "    ST_list.extend(list(team_df.FWD_3))\n",
    "    ST_final = partition_names(ST_list)\n",
    "    \n",
    "    return GK_final, DF_final, MD_final, ST_final"
   ]
  },
  {
   "cell_type": "code",
   "execution_count": null,
   "metadata": {},
   "outputs": [],
   "source": [
    "GK_final, DF_final, MD_final, ST_final = get_top100_teams(hm)[0], get_top100_teams(hm)[1], get_top100_teams(hm)[2], get_top100_teams(hm)[3]"
   ]
  },
  {
   "cell_type": "code",
   "execution_count": null,
   "metadata": {},
   "outputs": [],
   "source": [
    "GK_final[:3]"
   ]
  },
  {
   "cell_type": "code",
   "execution_count": null,
   "metadata": {},
   "outputs": [],
   "source": [
    "DF_final[:3]"
   ]
  },
  {
   "cell_type": "code",
   "execution_count": null,
   "metadata": {},
   "outputs": [],
   "source": [
    "MD_final[:3]"
   ]
  },
  {
   "cell_type": "code",
   "execution_count": null,
   "metadata": {},
   "outputs": [],
   "source": [
    "ST_final[:3]"
   ]
  },
  {
   "cell_type": "code",
   "execution_count": null,
   "metadata": {},
   "outputs": [],
   "source": [
    "def return_top_n(players, top_n = 10):\n",
    "    ranked = Counter(players).most_common(top_n)\n",
    "    return ranked"
   ]
  },
  {
   "cell_type": "code",
   "execution_count": null,
   "metadata": {},
   "outputs": [],
   "source": [
    "GK_top10 = return_top_n(GK_final, top_n = 10)"
   ]
  },
  {
   "cell_type": "code",
   "execution_count": null,
   "metadata": {},
   "outputs": [],
   "source": [
    "GK_top10"
   ]
  },
  {
   "cell_type": "code",
   "execution_count": null,
   "metadata": {},
   "outputs": [],
   "source": [
    "DF_top10 = return_top_n(DF_final, top_n = 10)"
   ]
  },
  {
   "cell_type": "code",
   "execution_count": null,
   "metadata": {},
   "outputs": [],
   "source": [
    "DF_top10"
   ]
  },
  {
   "cell_type": "code",
   "execution_count": null,
   "metadata": {},
   "outputs": [],
   "source": [
    "MD_top10 = return_top_n(MD_final, top_n = 10)"
   ]
  },
  {
   "cell_type": "code",
   "execution_count": null,
   "metadata": {},
   "outputs": [],
   "source": [
    "MD_top10"
   ]
  },
  {
   "cell_type": "code",
   "execution_count": null,
   "metadata": {},
   "outputs": [],
   "source": [
    "ST_top10 = return_top_n(ST_final, top_n = 10)"
   ]
  },
  {
   "cell_type": "code",
   "execution_count": null,
   "metadata": {},
   "outputs": [],
   "source": [
    "ST_top10"
   ]
  }
 ],
 "metadata": {
  "kernelspec": {
   "display_name": "Python 3",
   "language": "python",
   "name": "python3"
  },
  "language_info": {
   "codemirror_mode": {
    "name": "ipython",
    "version": 3
   },
   "file_extension": ".py",
   "mimetype": "text/x-python",
   "name": "python",
   "nbconvert_exporter": "python",
   "pygments_lexer": "ipython3",
   "version": "3.7.3"
  },
  "toc": {
   "base_numbering": 1,
   "nav_menu": {},
   "number_sections": true,
   "sideBar": true,
   "skip_h1_title": false,
   "title_cell": "Table of Contents",
   "title_sidebar": "Contents",
   "toc_cell": false,
   "toc_position": {},
   "toc_section_display": true,
   "toc_window_display": false
  }
 },
 "nbformat": 4,
 "nbformat_minor": 2
}
