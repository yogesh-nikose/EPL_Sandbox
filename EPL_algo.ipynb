{
 "cells": [
  {
   "cell_type": "markdown",
   "metadata": {},
   "source": [
    "## Define Gameweek and Periods for FDR calculation"
   ]
  },
  {
   "cell_type": "code",
   "execution_count": 223,
   "metadata": {},
   "outputs": [],
   "source": [
    "gameweek = 1\n",
    "next_n_games = 2"
   ]
  },
  {
   "cell_type": "markdown",
   "metadata": {},
   "source": [
    "## Define Budget, Team Formation, and Budget Allocation by Position"
   ]
  },
  {
   "cell_type": "code",
   "execution_count": 229,
   "metadata": {},
   "outputs": [],
   "source": [
    "#Budget\n",
    "budget = 100\n",
    "\n",
    "#Team Formation\n",
    "DF = 4\n",
    "MD = 4\n",
    "ST = 2\n",
    "\n",
    "#Budget Allocation\n",
    "GK_coef = 0.1\n",
    "DF_coef = 0.25\n",
    "MD_coef = 0.45\n",
    "ST_coef = 0.20"
   ]
  },
  {
   "cell_type": "markdown",
   "metadata": {},
   "source": [
    "## Scraped list of Schedules"
   ]
  },
  {
   "cell_type": "code",
   "execution_count": 216,
   "metadata": {},
   "outputs": [],
   "source": [
    "schedules = ['Arsenal NEW (A) BUR (H) LIV (A) TOT (H) WAT (A) AVL (H) MUN (A) BOU (H) SHU (A) CRY (H) WOL (H) LEI (A) SOU (H) NOR (A) BHA (H) WHU (A) MCI (H) EVE (A) BOU (A) CHE (H) MUN (H) CRY (A) SHU (H) CHE (A) BUR (A) NEW (H) EVE (H) MCI (A) WHU (H) BHA (A) SOU (A) NOR (H) WOL (A) LEI (H) TOT (A) LIV (H) AVL (A) WAT (H)',\n",
    " 'Aston Villa TOT (A) BOU (H) EVE (H) CRY (A) WHU (H) ARS (A) BUR (H) NOR (A) BHA (H) MCI (A) LIV (H) WOL (A) NEW (H) MUN (A) CHE (A) LEI (H) SHU (A) SOU (H) NOR (H) WAT (A) BUR (A) MCI (H) BHA (A) WAT (H) BOU (A) TOT (H) SOU (A) SHU (H) LEI (A) CHE (H) NEW (A) WOL (H) LIV (A) MUN (H) CRY (H) EVE (A) ARS (H) WHU (A)',\n",
    " 'Bournemouth SHU (H) AVL (A) MCI (H) LEI (A) EVE (H) SOU (A) WHU (H) ARS (A) NOR (H) WAT (A) MUN (H) NEW (A) WOL (H) TOT (A) CRY (A) LIV (H) CHE (A) BUR (H) ARS (H) BHA (A) WHU (A) WAT (H) NOR (A) BHA (H) AVL (H) SHU (A) BUR (A) CHE (H) LIV (A) CRY (H) WOL (A) NEW (H) MUN (A) TOT (H) LEI (H) MCI (A) SOU (H) EVE (A)',\n",
    " 'Brighton WAT (A) WHU (H) SOU (H) MCI (A) BUR (H) NEW (A) CHE (A) TOT (H) AVL (A) EVE (H) NOR (H) MUN (A) LEI (H) LIV (A) ARS (A) WOL (H) CRY (A) SHU (H) TOT (A) BOU (H) CHE (H) EVE (A) AVL (H) BOU (A) WHU (A) WAT (H) SHU (A) CRY (H) WOL (A) ARS (H) LEI (A) MUN (H) NOR (A) LIV (H) MCI (H) SOU (A) NEW (H) BUR (A)',\n",
    " 'Burnley SOU (H) ARS (A) WOL (A) LIV (H) BHA (A) NOR (H) AVL (A) EVE (H) LEI (A) CHE (H) SHU (A) WHU (H) WAT (A) CRY (H) MCI (H) TOT (A) NEW (H) BOU (A) EVE (A) MUN (H) AVL (H) CHE (A) LEI (H) MUN (A) ARS (H) SOU (A) BOU (H) NEW (A) TOT (H) MCI (A) WAT (H) CRY (A) SHU (H) WHU (A) LIV (A) WOL (H) NOR (A) BHA (H)',\n",
    " 'Chelsea MUN (A) LEI (H) NOR (A) SHU (H) WOL (A) LIV (H) BHA (H) SOU (A) NEW (H) BUR (A) WAT (A) CRY (H) MCI (A) WHU (H) AVL (H) EVE (A) BOU (H) TOT (A) SOU (H) ARS (A) BHA (A) BUR (H) NEW (A) ARS (H) LEI (A) MUN (H) TOT (H) BOU (A) EVE (H) AVL (A) MCI (H) WHU (A) WAT (H) CRY (A) SHU (A) NOR (H) LIV (A) WOL (H)',\n",
    " 'Crystal Palace EVE (H) SHU (A) MUN (A) AVL (H) TOT (A) WOL (H) NOR (H) WHU (A) MCI (H) ARS (A) LEI (H) CHE (A) LIV (H) BUR (A) BOU (H) WAT (A) BHA (H) NEW (A) WHU (H) SOU (A) NOR (A) ARS (H) MCI (A) SOU (H) SHU (H) EVE (A) NEW (H) BHA (A) WAT (H) BOU (A) LIV (A) BUR (H) LEI (A) CHE (H) AVL (A) MUN (H) WOL (A) TOT (H)',\n",
    " 'Everton CRY (A) WAT (H) AVL (A) WOL (H) BOU (A) SHU (H) MCI (H) BUR (A) WHU (H) BHA (A) TOT (H) SOU (A) NOR (H) LEI (A) LIV (A) CHE (H) MUN (A) ARS (H) BUR (H) NEW (A) MCI (A) BHA (H) WHU (A) NEW (H) WAT (A) CRY (H) ARS (A) MUN (H) CHE (A) LIV (H) NOR (A) LEI (H) TOT (A) SOU (H) WOL (A) AVL (H) SHU (A) BOU (H)',\n",
    " 'Leicester WOL (H) CHE (A) SHU (A) BOU (H) MUN (A) TOT (H) NEW (H) LIV (A) BUR (H) SOU (A) CRY (A) ARS (H) BHA (A) EVE (H) WAT (H) AVL (A) NOR (H) MCI (A) LIV (H) WHU (A) NEW (A) SOU (H) BUR (A) WHU (H) CHE (H) WOL (A) MCI (H) NOR (A) AVL (H) WAT (A) BHA (H) EVE (A) CRY (H) ARS (A) BOU (A) SHU (H) TOT (A) MUN (H)',\n",
    " 'Liverpool NOR (H) SOU (A) ARS (H) BUR (A) NEW (H) CHE (A) SHU (A) LEI (H) MUN (A) TOT (H) AVL (A) MCI (H) CRY (A) BHA (H) EVE (H) BOU (A) WAT (H) WHU (A) LEI (A) WOL (H) SHU (H) TOT (A) MUN (H) WOL (A) SOU (H) NOR (A) WHU (H) WAT (A) BOU (H) EVE (A) CRY (H) MCI (A) AVL (H) BHA (A) BUR (H) ARS (A) CHE (H) NEW (A)',\n",
    " 'Man City WHU (A) TOT (H) BOU (A) BHA (H) NOR (A) WAT (H) EVE (A) WOL (H) CRY (A) AVL (H) SOU (H) LIV (A) CHE (H) NEW (A) BUR (A) MUN (H) ARS (A) LEI (H) WOL (A) SHU (H) EVE (H) AVL (A) CRY (H) SHU (A) TOT (A) WHU (H) LEI (A) ARS (H) MUN (A) BUR (H) CHE (A) LIV (H) SOU (A) NEW (H) BHA (A) BOU (H) WAT (A) NOR (H)',\n",
    " 'Man Utd CHE (H) WOL (A) CRY (H) SOU (A) LEI (H) WHU (A) ARS (H) NEW (A) LIV (H) NOR (A) BOU (A) BHA (H) SHU (A) AVL (H) TOT (H) MCI (A) EVE (H) WAT (A) NEW (H) BUR (A) ARS (A) NOR (H) LIV (A) BUR (H) WOL (H) CHE (A) WAT (H) EVE (A) MCI (H) TOT (A) SHU (H) BHA (A) BOU (H) AVL (A) SOU (H) CRY (A) WHU (H) LEI (A)',\n",
    " 'Newcastle ARS (H) NOR (A) TOT (A) WAT (H) LIV (A) BHA (H) LEI (A) MUN (H) CHE (A) WOL (H) WHU (A) BOU (H) AVL (A) MCI (H) SHU (A) SOU (H) BUR (A) CRY (H) MUN (A) EVE (H) LEI (H) WOL (A) CHE (H) EVE (A) NOR (H) ARS (A) CRY (A) BUR (H) SOU (A) SHU (H) AVL (H) BOU (A) WHU (H) MCI (A) WAT (A) TOT (H) BHA (A) LIV (H)',\n",
    " 'Norwich LIV (A) NEW (H) CHE (H) WHU (A) MCI (H) BUR (A) CRY (A) AVL (H) BOU (A) MUN (H) BHA (A) WAT (H) EVE (A) ARS (H) SOU (A) SHU (H) LEI (A) WOL (H) AVL (A) TOT (H) CRY (H) MUN (A) BOU (H) TOT (A) NEW (A) LIV (H) WOL (A) LEI (H) SHU (A) SOU (H) EVE (H) ARS (A) BHA (H) WAT (A) WHU (H) CHE (A) BUR (H) MCI (A)',\n",
    " 'Sheffield Utd BOU (A) CRY (H) LEI (H) CHE (A) SOU (H) EVE (A) LIV (H) WAT (A) ARS (H) WHU (A) BUR (H) TOT (A) MUN (H) WOL (A) NEW (H) NOR (A) AVL (H) BHA (A) WAT (H) MCI (A) LIV (A) WHU (H) ARS (A) MCI (H) CRY (A) BOU (H) BHA (H) AVL (A) NOR (H) NEW (A) MUN (A) TOT (H) BUR (A) WOL (H) CHE (H) LEI (A) EVE (H) SOU (A)',\n",
    " 'Southampton BUR (A) LIV (H) BHA (A) MUN (H) SHU (A) BOU (H) TOT (A) CHE (H) WOL (A) LEI (H) MCI (A) EVE (H) ARS (A) WAT (H) NOR (H) NEW (A) WHU (H) AVL (A) CHE (A) CRY (H) TOT (H) LEI (A) WOL (H) CRY (A) LIV (A) BUR (H) AVL (H) WHU (A) NEW (H) NOR (A) ARS (H) WAT (A) MCI (H) EVE (A) MUN (A) BHA (H) BOU (A) SHU (H)',\n",
    " 'Spurs AVL (H) MCI (A) NEW (H) ARS (A) CRY (H) LEI (A) SOU (H) BHA (A) WAT (H) LIV (A) EVE (A) SHU (H) WHU (A) BOU (H) MUN (A) BUR (H) WOL (A) CHE (H) BHA (H) NOR (A) SOU (A) LIV (H) WAT (A) NOR (H) MCI (H) AVL (A) CHE (A) WOL (H) BUR (A) MUN (H) WHU (H) SHU (A) EVE (H) BOU (A) ARS (H) NEW (A) LEI (H) CRY (A)',\n",
    " 'Watford BHA (H) EVE (A) WHU (H) NEW (A) ARS (H) MCI (A) WOL (A) SHU (H) TOT (A) BOU (H) CHE (H) NOR (A) BUR (H) SOU (A) LEI (A) CRY (H) LIV (A) MUN (H) SHU (A) AVL (H) WOL (H) BOU (A) TOT (H) AVL (A) EVE (H) BHA (A) MUN (A) LIV (H) CRY (A) LEI (H) BUR (A) SOU (H) CHE (A) NOR (H) NEW (H) WHU (A) MCI (H) ARS (A)',\n",
    " 'West Ham MCI (H) BHA (A) WAT (A) NOR (H) AVL (A) MUN (H) BOU (A) CRY (H) EVE (A) SHU (H) NEW (H) BUR (A) TOT (H) CHE (A) WOL (A) ARS (H) SOU (A) LIV (H) CRY (A) LEI (H) BOU (H) SHU (A) EVE (H) LEI (A) BHA (H) MCI (A) LIV (A) SOU (H) ARS (A) WOL (H) TOT (A) CHE (H) NEW (A) BUR (H) NOR (A) WAT (H) MUN (A) AVL (H)',\n",
    " 'Wolves LEI (A) MUN (H) BUR (H) EVE (A) CHE (H) CRY (A) WAT (H) MCI (A) SOU (H) NEW (A) ARS (A) AVL (H) BOU (A) SHU (H) WHU (H) BHA (A) TOT (H) NOR (A) MCI (H) LIV (A) WAT (A) NEW (H) SOU (A) LIV (H) MUN (A) LEI (H) NOR (H) TOT (A) BHA (H) WHU (A) BOU (H) AVL (A) ARS (H) SHU (A) EVE (H) BUR (A) CRY (H) CHE (A)']"
   ]
  },
  {
   "cell_type": "markdown",
   "metadata": {},
   "source": [
    "### Import Data"
   ]
  },
  {
   "cell_type": "code",
   "execution_count": 67,
   "metadata": {},
   "outputs": [],
   "source": [
    "import json\n",
    "import requests\n",
    "import pandas as pd\n",
    "\n",
    "# url = \"https://fantasy.premierleague.com/drf/bootstrap-static\"\n",
    "url = 'https://fantasy.premierleague.com/api/bootstrap-static/'\n",
    "\n",
    "def get_json_data(url):\n",
    "    response = requests.get(url)\n",
    "    jobs = response.json()\n",
    "    return jobs\n",
    "\n",
    "#filter out players with less than 330\n",
    "all_players = get_json_data(url)['elements']\n",
    "all_teams = get_json_data(url)['teams']\n",
    "positions = get_json_data(url)['element_types']"
   ]
  },
  {
   "cell_type": "code",
   "execution_count": 69,
   "metadata": {},
   "outputs": [],
   "source": [
    "pdf = pd.read_fwf('schedule.txt', header = None, names = ['team']).astype(str)"
   ]
  },
  {
   "cell_type": "code",
   "execution_count": 217,
   "metadata": {},
   "outputs": [],
   "source": [
    "schedule = list(pdf.team)"
   ]
  },
  {
   "cell_type": "code",
   "execution_count": 219,
   "metadata": {},
   "outputs": [
    {
     "data": {
      "text/plain": [
       "['Arsenal NEW (A) BUR (H) LIV (A) TOT (H) WAT (A) AVL (H) MUN (A) BOU (H) SHU (A) CRY (H) WOL (H) LEI (A) SOU (H) NOR (A) BHA (H) WHU (A) MCI (H) EVE (A) BOU (A) CHE (H) MUN (H) CRY (A) SHU (H) CHE (A) BUR (A) NEW (H) EVE (H) MCI (A) WHU (H) BHA (A) SOU (A) NOR (H) WOL (A) LEI (H) TOT (A) LIV (H) AVL (A) WAT (H)',\n",
       " 'Aston Villa TOT (A) BOU (H) EVE (H) CRY (A) WHU (H) ARS (A) BUR (H) NOR (A) BHA (H) MCI (A) LIV (H) WOL (A) NEW (H) MUN (A) CHE (A) LEI (H) SHU (A) SOU (H) NOR (H) WAT (A) BUR (A) MCI (H) BHA (A) WAT (H) BOU (A) TOT (H) SOU (A) SHU (H) LEI (A) CHE (H) NEW (A) WOL (H) LIV (A) MUN (H) CRY (H) EVE (A) ARS (H) WHU (A)',\n",
       " 'Bournemouth SHU (H) AVL (A) MCI (H) LEI (A) EVE (H) SOU (A) WHU (H) ARS (A) NOR (H) WAT (A) MUN (H) NEW (A) WOL (H) TOT (A) CRY (A) LIV (H) CHE (A) BUR (H) ARS (H) BHA (A) WHU (A) WAT (H) NOR (A) BHA (H) AVL (H) SHU (A) BUR (A) CHE (H) LIV (A) CRY (H) WOL (A) NEW (H) MUN (A) TOT (H) LEI (H) MCI (A) SOU (H) EVE (A)']"
      ]
     },
     "execution_count": 219,
     "metadata": {},
     "output_type": "execute_result"
    }
   ],
   "source": [
    "schedule[:3]"
   ]
  },
  {
   "cell_type": "code",
   "execution_count": 74,
   "metadata": {},
   "outputs": [],
   "source": [
    "def attach_team_and_position(main_players, all_teams, positons):\n",
    "    players = main_players.copy()\n",
    "    for team in all_teams:\n",
    "        for player in players:\n",
    "            if team['code'] == player['team_code']:\n",
    "                player['team_name'] = team['name']\n",
    "    for position in positions:\n",
    "        for player in players:\n",
    "            if position['id'] == player['element_type']:\n",
    "                player['position'] = position['singular_name']\n",
    "    for player in players:\n",
    "        if player['status'] == \"a\":\n",
    "            player['status'] = \"available\"\n",
    "        elif player['status'] == \"d\":\n",
    "            player['status'] = \"doubtful\"\n",
    "        elif player['status'] == \"i\":\n",
    "            player['status'] = \"injured\"\n",
    "        elif player['status'] == \"s\":\n",
    "            player['status'] = \"suspended\"\n",
    "    return players\n",
    "\n",
    "\n",
    "#### Temporarily took out the \"main_players\" filter because no players have played 330 minutes ####\n",
    "\n",
    "# player_positions_teams = attach_team_and_position(main_players, all_teams_new, positions)\n",
    "player_positions_teams = attach_team_and_position(all_players, all_teams, positions)\n",
    "\n",
    "\n",
    "def final_players_list(player_positions_teams):\n",
    "    players = player_positions_teams.copy()\n",
    "    empty = []\n",
    "    for player in players:\n",
    "        stats = dict(team_code = player['team_code'],\n",
    "        team_name = player['team_name'],\n",
    "        name = player['first_name'] + \" \" + player['second_name'],\n",
    "        status = player['status'],\n",
    "        position = player['position'],\n",
    "        cost = (player['now_cost'])/10,\n",
    "        total_points = player['total_points'],\n",
    "        roi = round((player['total_points'] / player['now_cost'])*10, 2),\n",
    "        pts_per_90min = round((player['total_points'] / (player['minutes'] + 1))*90, 2),\n",
    "        bonus = player['bonus'],\n",
    "        red_cards = player['red_cards'],\n",
    "        minutes = player['minutes'],\n",
    "        transfers_out = player['transfers_out'],\n",
    "        transfers_in = player['transfers_in'])\n",
    "        empty.append(stats)\n",
    "    return empty"
   ]
  },
  {
   "cell_type": "code",
   "execution_count": 75,
   "metadata": {},
   "outputs": [],
   "source": [
    "final = final_players_list(player_positions_teams)"
   ]
  },
  {
   "cell_type": "code",
   "execution_count": 76,
   "metadata": {},
   "outputs": [
    {
     "data": {
      "text/plain": [
       "{'team_code': 3,\n",
       " 'team_name': 'Arsenal',\n",
       " 'name': 'Shkodran Mustafi',\n",
       " 'status': 'available',\n",
       " 'position': 'Defender',\n",
       " 'cost': 5.5,\n",
       " 'total_points': 80,\n",
       " 'roi': 14.55,\n",
       " 'pts_per_90min': 2.76,\n",
       " 'bonus': 5,\n",
       " 'red_cards': 0,\n",
       " 'minutes': 2611,\n",
       " 'transfers_out': 0,\n",
       " 'transfers_in': 0}"
      ]
     },
     "execution_count": 76,
     "metadata": {},
     "output_type": "execute_result"
    }
   ],
   "source": [
    "final[0]"
   ]
  },
  {
   "cell_type": "code",
   "execution_count": 78,
   "metadata": {
    "scrolled": true
   },
   "outputs": [
    {
     "data": {
      "text/plain": [
       "{'code': 3,\n",
       " 'draw': 0,\n",
       " 'form': None,\n",
       " 'id': 1,\n",
       " 'loss': 0,\n",
       " 'name': 'Arsenal',\n",
       " 'played': 0,\n",
       " 'points': 0,\n",
       " 'position': 0,\n",
       " 'short_name': 'ARS',\n",
       " 'strength': 4,\n",
       " 'team_division': None,\n",
       " 'unavailable': False,\n",
       " 'win': 0,\n",
       " 'strength_overall_home': 1250,\n",
       " 'strength_overall_away': 1330,\n",
       " 'strength_attack_home': 1240,\n",
       " 'strength_attack_away': 1270,\n",
       " 'strength_defence_home': 1290,\n",
       " 'strength_defence_away': 1330}"
      ]
     },
     "execution_count": 78,
     "metadata": {},
     "output_type": "execute_result"
    }
   ],
   "source": [
    "all_teams[0]"
   ]
  },
  {
   "cell_type": "code",
   "execution_count": 79,
   "metadata": {
    "scrolled": false
   },
   "outputs": [
    {
     "data": {
      "text/plain": [
       "{'team_code': 3,\n",
       " 'team_name': 'Arsenal',\n",
       " 'name': 'Shkodran Mustafi',\n",
       " 'status': 'available',\n",
       " 'position': 'Defender',\n",
       " 'cost': 5.5,\n",
       " 'total_points': 80,\n",
       " 'roi': 14.55,\n",
       " 'pts_per_90min': 2.76,\n",
       " 'bonus': 5,\n",
       " 'red_cards': 0,\n",
       " 'minutes': 2611,\n",
       " 'transfers_out': 0,\n",
       " 'transfers_in': 0}"
      ]
     },
     "execution_count": 79,
     "metadata": {},
     "output_type": "execute_result"
    }
   ],
   "source": [
    "final[0]"
   ]
  },
  {
   "cell_type": "code",
   "execution_count": 80,
   "metadata": {},
   "outputs": [],
   "source": [
    "player_df = pd.DataFrame(final)"
   ]
  },
  {
   "cell_type": "code",
   "execution_count": 81,
   "metadata": {
    "scrolled": true
   },
   "outputs": [
    {
     "data": {
      "text/html": [
       "<div>\n",
       "<style scoped>\n",
       "    .dataframe tbody tr th:only-of-type {\n",
       "        vertical-align: middle;\n",
       "    }\n",
       "\n",
       "    .dataframe tbody tr th {\n",
       "        vertical-align: top;\n",
       "    }\n",
       "\n",
       "    .dataframe thead th {\n",
       "        text-align: right;\n",
       "    }\n",
       "</style>\n",
       "<table border=\"1\" class=\"dataframe\">\n",
       "  <thead>\n",
       "    <tr style=\"text-align: right;\">\n",
       "      <th></th>\n",
       "      <th>bonus</th>\n",
       "      <th>cost</th>\n",
       "      <th>minutes</th>\n",
       "      <th>name</th>\n",
       "      <th>position</th>\n",
       "      <th>pts_per_90min</th>\n",
       "      <th>red_cards</th>\n",
       "      <th>roi</th>\n",
       "      <th>status</th>\n",
       "      <th>team_code</th>\n",
       "      <th>team_name</th>\n",
       "      <th>total_points</th>\n",
       "      <th>transfers_in</th>\n",
       "      <th>transfers_out</th>\n",
       "    </tr>\n",
       "  </thead>\n",
       "  <tbody>\n",
       "    <tr>\n",
       "      <th>0</th>\n",
       "      <td>5</td>\n",
       "      <td>5.5</td>\n",
       "      <td>2611</td>\n",
       "      <td>Shkodran Mustafi</td>\n",
       "      <td>Defender</td>\n",
       "      <td>2.76</td>\n",
       "      <td>0</td>\n",
       "      <td>14.55</td>\n",
       "      <td>available</td>\n",
       "      <td>3</td>\n",
       "      <td>Arsenal</td>\n",
       "      <td>80</td>\n",
       "      <td>0</td>\n",
       "      <td>0</td>\n",
       "    </tr>\n",
       "    <tr>\n",
       "      <th>1</th>\n",
       "      <td>5</td>\n",
       "      <td>5.5</td>\n",
       "      <td>1532</td>\n",
       "      <td>Héctor Bellerín</td>\n",
       "      <td>Defender</td>\n",
       "      <td>3.52</td>\n",
       "      <td>0</td>\n",
       "      <td>10.91</td>\n",
       "      <td>injured</td>\n",
       "      <td>3</td>\n",
       "      <td>Arsenal</td>\n",
       "      <td>60</td>\n",
       "      <td>0</td>\n",
       "      <td>0</td>\n",
       "    </tr>\n",
       "    <tr>\n",
       "      <th>2</th>\n",
       "      <td>10</td>\n",
       "      <td>5.5</td>\n",
       "      <td>1886</td>\n",
       "      <td>Sead Kolasinac</td>\n",
       "      <td>Defender</td>\n",
       "      <td>3.86</td>\n",
       "      <td>0</td>\n",
       "      <td>14.73</td>\n",
       "      <td>available</td>\n",
       "      <td>3</td>\n",
       "      <td>Arsenal</td>\n",
       "      <td>81</td>\n",
       "      <td>0</td>\n",
       "      <td>0</td>\n",
       "    </tr>\n",
       "    <tr>\n",
       "      <th>3</th>\n",
       "      <td>3</td>\n",
       "      <td>5.0</td>\n",
       "      <td>983</td>\n",
       "      <td>Ainsley Maitland-Niles</td>\n",
       "      <td>Defender</td>\n",
       "      <td>3.11</td>\n",
       "      <td>1</td>\n",
       "      <td>6.80</td>\n",
       "      <td>available</td>\n",
       "      <td>3</td>\n",
       "      <td>Arsenal</td>\n",
       "      <td>34</td>\n",
       "      <td>0</td>\n",
       "      <td>0</td>\n",
       "    </tr>\n",
       "    <tr>\n",
       "      <th>4</th>\n",
       "      <td>4</td>\n",
       "      <td>5.0</td>\n",
       "      <td>2198</td>\n",
       "      <td>Sokratis Papastathopoulos</td>\n",
       "      <td>Defender</td>\n",
       "      <td>2.62</td>\n",
       "      <td>0</td>\n",
       "      <td>12.80</td>\n",
       "      <td>available</td>\n",
       "      <td>3</td>\n",
       "      <td>Arsenal</td>\n",
       "      <td>64</td>\n",
       "      <td>0</td>\n",
       "      <td>0</td>\n",
       "    </tr>\n",
       "  </tbody>\n",
       "</table>\n",
       "</div>"
      ],
      "text/plain": [
       "   bonus  cost  minutes                       name  position  pts_per_90min  \\\n",
       "0      5   5.5     2611           Shkodran Mustafi  Defender           2.76   \n",
       "1      5   5.5     1532            Héctor Bellerín  Defender           3.52   \n",
       "2     10   5.5     1886             Sead Kolasinac  Defender           3.86   \n",
       "3      3   5.0      983     Ainsley Maitland-Niles  Defender           3.11   \n",
       "4      4   5.0     2198  Sokratis Papastathopoulos  Defender           2.62   \n",
       "\n",
       "   red_cards    roi     status  team_code team_name  total_points  \\\n",
       "0          0  14.55  available          3   Arsenal            80   \n",
       "1          0  10.91    injured          3   Arsenal            60   \n",
       "2          0  14.73  available          3   Arsenal            81   \n",
       "3          1   6.80  available          3   Arsenal            34   \n",
       "4          0  12.80  available          3   Arsenal            64   \n",
       "\n",
       "   transfers_in  transfers_out  \n",
       "0             0              0  \n",
       "1             0              0  \n",
       "2             0              0  \n",
       "3             0              0  \n",
       "4             0              0  "
      ]
     },
     "execution_count": 81,
     "metadata": {},
     "output_type": "execute_result"
    }
   ],
   "source": [
    "player_df.head()"
   ]
  },
  {
   "cell_type": "code",
   "execution_count": 84,
   "metadata": {},
   "outputs": [],
   "source": [
    "team_df = pd.DataFrame(all_teams)"
   ]
  },
  {
   "cell_type": "code",
   "execution_count": 85,
   "metadata": {
    "scrolled": true
   },
   "outputs": [
    {
     "data": {
      "text/html": [
       "<div>\n",
       "<style scoped>\n",
       "    .dataframe tbody tr th:only-of-type {\n",
       "        vertical-align: middle;\n",
       "    }\n",
       "\n",
       "    .dataframe tbody tr th {\n",
       "        vertical-align: top;\n",
       "    }\n",
       "\n",
       "    .dataframe thead th {\n",
       "        text-align: right;\n",
       "    }\n",
       "</style>\n",
       "<table border=\"1\" class=\"dataframe\">\n",
       "  <thead>\n",
       "    <tr style=\"text-align: right;\">\n",
       "      <th></th>\n",
       "      <th>code</th>\n",
       "      <th>draw</th>\n",
       "      <th>form</th>\n",
       "      <th>id</th>\n",
       "      <th>loss</th>\n",
       "      <th>name</th>\n",
       "      <th>played</th>\n",
       "      <th>points</th>\n",
       "      <th>position</th>\n",
       "      <th>short_name</th>\n",
       "      <th>strength</th>\n",
       "      <th>strength_attack_away</th>\n",
       "      <th>strength_attack_home</th>\n",
       "      <th>strength_defence_away</th>\n",
       "      <th>strength_defence_home</th>\n",
       "      <th>strength_overall_away</th>\n",
       "      <th>strength_overall_home</th>\n",
       "      <th>team_division</th>\n",
       "      <th>unavailable</th>\n",
       "      <th>win</th>\n",
       "    </tr>\n",
       "  </thead>\n",
       "  <tbody>\n",
       "    <tr>\n",
       "      <th>0</th>\n",
       "      <td>3</td>\n",
       "      <td>0</td>\n",
       "      <td>None</td>\n",
       "      <td>1</td>\n",
       "      <td>0</td>\n",
       "      <td>Arsenal</td>\n",
       "      <td>0</td>\n",
       "      <td>0</td>\n",
       "      <td>0</td>\n",
       "      <td>ARS</td>\n",
       "      <td>4</td>\n",
       "      <td>1270</td>\n",
       "      <td>1240</td>\n",
       "      <td>1330</td>\n",
       "      <td>1290</td>\n",
       "      <td>1330</td>\n",
       "      <td>1250</td>\n",
       "      <td>None</td>\n",
       "      <td>False</td>\n",
       "      <td>0</td>\n",
       "    </tr>\n",
       "    <tr>\n",
       "      <th>1</th>\n",
       "      <td>7</td>\n",
       "      <td>0</td>\n",
       "      <td>None</td>\n",
       "      <td>2</td>\n",
       "      <td>0</td>\n",
       "      <td>Aston Villa</td>\n",
       "      <td>0</td>\n",
       "      <td>0</td>\n",
       "      <td>0</td>\n",
       "      <td>AVL</td>\n",
       "      <td>2</td>\n",
       "      <td>1050</td>\n",
       "      <td>1050</td>\n",
       "      <td>1070</td>\n",
       "      <td>1030</td>\n",
       "      <td>1050</td>\n",
       "      <td>990</td>\n",
       "      <td>None</td>\n",
       "      <td>False</td>\n",
       "      <td>0</td>\n",
       "    </tr>\n",
       "    <tr>\n",
       "      <th>2</th>\n",
       "      <td>91</td>\n",
       "      <td>0</td>\n",
       "      <td>None</td>\n",
       "      <td>3</td>\n",
       "      <td>0</td>\n",
       "      <td>Bournemouth</td>\n",
       "      <td>0</td>\n",
       "      <td>0</td>\n",
       "      <td>0</td>\n",
       "      <td>BOU</td>\n",
       "      <td>3</td>\n",
       "      <td>1100</td>\n",
       "      <td>1040</td>\n",
       "      <td>1170</td>\n",
       "      <td>1120</td>\n",
       "      <td>1140</td>\n",
       "      <td>1050</td>\n",
       "      <td>None</td>\n",
       "      <td>False</td>\n",
       "      <td>0</td>\n",
       "    </tr>\n",
       "    <tr>\n",
       "      <th>3</th>\n",
       "      <td>36</td>\n",
       "      <td>0</td>\n",
       "      <td>None</td>\n",
       "      <td>4</td>\n",
       "      <td>0</td>\n",
       "      <td>Brighton</td>\n",
       "      <td>0</td>\n",
       "      <td>0</td>\n",
       "      <td>0</td>\n",
       "      <td>BHA</td>\n",
       "      <td>2</td>\n",
       "      <td>1140</td>\n",
       "      <td>1040</td>\n",
       "      <td>1070</td>\n",
       "      <td>1050</td>\n",
       "      <td>1070</td>\n",
       "      <td>1000</td>\n",
       "      <td>None</td>\n",
       "      <td>False</td>\n",
       "      <td>0</td>\n",
       "    </tr>\n",
       "    <tr>\n",
       "      <th>4</th>\n",
       "      <td>90</td>\n",
       "      <td>0</td>\n",
       "      <td>None</td>\n",
       "      <td>5</td>\n",
       "      <td>0</td>\n",
       "      <td>Burnley</td>\n",
       "      <td>0</td>\n",
       "      <td>0</td>\n",
       "      <td>0</td>\n",
       "      <td>BUR</td>\n",
       "      <td>3</td>\n",
       "      <td>1030</td>\n",
       "      <td>990</td>\n",
       "      <td>1070</td>\n",
       "      <td>1060</td>\n",
       "      <td>1090</td>\n",
       "      <td>1070</td>\n",
       "      <td>None</td>\n",
       "      <td>False</td>\n",
       "      <td>0</td>\n",
       "    </tr>\n",
       "  </tbody>\n",
       "</table>\n",
       "</div>"
      ],
      "text/plain": [
       "   code  draw  form  id  loss         name  played  points  position  \\\n",
       "0     3     0  None   1     0      Arsenal       0       0         0   \n",
       "1     7     0  None   2     0  Aston Villa       0       0         0   \n",
       "2    91     0  None   3     0  Bournemouth       0       0         0   \n",
       "3    36     0  None   4     0     Brighton       0       0         0   \n",
       "4    90     0  None   5     0      Burnley       0       0         0   \n",
       "\n",
       "  short_name  strength  strength_attack_away  strength_attack_home  \\\n",
       "0        ARS         4                  1270                  1240   \n",
       "1        AVL         2                  1050                  1050   \n",
       "2        BOU         3                  1100                  1040   \n",
       "3        BHA         2                  1140                  1040   \n",
       "4        BUR         3                  1030                   990   \n",
       "\n",
       "   strength_defence_away  strength_defence_home  strength_overall_away  \\\n",
       "0                   1330                   1290                   1330   \n",
       "1                   1070                   1030                   1050   \n",
       "2                   1170                   1120                   1140   \n",
       "3                   1070                   1050                   1070   \n",
       "4                   1070                   1060                   1090   \n",
       "\n",
       "   strength_overall_home team_division  unavailable  win  \n",
       "0                   1250          None        False    0  \n",
       "1                    990          None        False    0  \n",
       "2                   1050          None        False    0  \n",
       "3                   1000          None        False    0  \n",
       "4                   1070          None        False    0  "
      ]
     },
     "execution_count": 85,
     "metadata": {},
     "output_type": "execute_result"
    }
   ],
   "source": [
    "team_df.head()"
   ]
  },
  {
   "cell_type": "code",
   "execution_count": 86,
   "metadata": {},
   "outputs": [],
   "source": [
    "team_names = list(team_df.name)"
   ]
  },
  {
   "cell_type": "code",
   "execution_count": 87,
   "metadata": {
    "scrolled": false
   },
   "outputs": [
    {
     "data": {
      "text/plain": [
       "['Arsenal',\n",
       " 'Aston Villa',\n",
       " 'Bournemouth',\n",
       " 'Brighton',\n",
       " 'Burnley',\n",
       " 'Chelsea',\n",
       " 'Crystal Palace',\n",
       " 'Everton',\n",
       " 'Leicester',\n",
       " 'Liverpool',\n",
       " 'Man City',\n",
       " 'Man Utd',\n",
       " 'Newcastle',\n",
       " 'Norwich',\n",
       " 'Sheffield Utd',\n",
       " 'Southampton',\n",
       " 'Spurs',\n",
       " 'Watford',\n",
       " 'West Ham',\n",
       " 'Wolves']"
      ]
     },
     "execution_count": 87,
     "metadata": {},
     "output_type": "execute_result"
    }
   ],
   "source": [
    "team_names"
   ]
  },
  {
   "cell_type": "code",
   "execution_count": 179,
   "metadata": {},
   "outputs": [],
   "source": [
    "def extract_sched(schedules):\n",
    "    dic = {}\n",
    "    for i, item in enumerate(schedules):\n",
    "        name = item.partition(team_names[i])[1]\n",
    "        sche = item.partition(team_names[i])[2]\n",
    "        sche = sche.split()\n",
    "        clean = [item for item in sche if item != \"(A)\"]\n",
    "        clean2 = [item for item in clean if item != \"(H)\"]\n",
    "        dic[name] = clean2\n",
    "    return dic"
   ]
  },
  {
   "cell_type": "code",
   "execution_count": 180,
   "metadata": {},
   "outputs": [],
   "source": [
    "wonders = extract_sched(schedules)"
   ]
  },
  {
   "cell_type": "code",
   "execution_count": 185,
   "metadata": {},
   "outputs": [],
   "source": [
    "schedule_df = pd.DataFrame(wonders)"
   ]
  },
  {
   "cell_type": "code",
   "execution_count": 186,
   "metadata": {
    "scrolled": false
   },
   "outputs": [
    {
     "data": {
      "text/html": [
       "<div>\n",
       "<style scoped>\n",
       "    .dataframe tbody tr th:only-of-type {\n",
       "        vertical-align: middle;\n",
       "    }\n",
       "\n",
       "    .dataframe tbody tr th {\n",
       "        vertical-align: top;\n",
       "    }\n",
       "\n",
       "    .dataframe thead th {\n",
       "        text-align: right;\n",
       "    }\n",
       "</style>\n",
       "<table border=\"1\" class=\"dataframe\">\n",
       "  <thead>\n",
       "    <tr style=\"text-align: right;\">\n",
       "      <th></th>\n",
       "      <th>Arsenal</th>\n",
       "      <th>Aston Villa</th>\n",
       "      <th>Bournemouth</th>\n",
       "      <th>Brighton</th>\n",
       "      <th>Burnley</th>\n",
       "      <th>Chelsea</th>\n",
       "      <th>Crystal Palace</th>\n",
       "      <th>Everton</th>\n",
       "      <th>Leicester</th>\n",
       "      <th>Liverpool</th>\n",
       "      <th>Man City</th>\n",
       "      <th>Man Utd</th>\n",
       "      <th>Newcastle</th>\n",
       "      <th>Norwich</th>\n",
       "      <th>Sheffield Utd</th>\n",
       "      <th>Southampton</th>\n",
       "      <th>Spurs</th>\n",
       "      <th>Watford</th>\n",
       "      <th>West Ham</th>\n",
       "      <th>Wolves</th>\n",
       "    </tr>\n",
       "  </thead>\n",
       "  <tbody>\n",
       "    <tr>\n",
       "      <th>0</th>\n",
       "      <td>NEW</td>\n",
       "      <td>TOT</td>\n",
       "      <td>SHU</td>\n",
       "      <td>WAT</td>\n",
       "      <td>SOU</td>\n",
       "      <td>MUN</td>\n",
       "      <td>EVE</td>\n",
       "      <td>CRY</td>\n",
       "      <td>WOL</td>\n",
       "      <td>NOR</td>\n",
       "      <td>WHU</td>\n",
       "      <td>CHE</td>\n",
       "      <td>ARS</td>\n",
       "      <td>LIV</td>\n",
       "      <td>BOU</td>\n",
       "      <td>BUR</td>\n",
       "      <td>AVL</td>\n",
       "      <td>BHA</td>\n",
       "      <td>MCI</td>\n",
       "      <td>LEI</td>\n",
       "    </tr>\n",
       "    <tr>\n",
       "      <th>1</th>\n",
       "      <td>BUR</td>\n",
       "      <td>BOU</td>\n",
       "      <td>AVL</td>\n",
       "      <td>WHU</td>\n",
       "      <td>ARS</td>\n",
       "      <td>LEI</td>\n",
       "      <td>SHU</td>\n",
       "      <td>WAT</td>\n",
       "      <td>CHE</td>\n",
       "      <td>SOU</td>\n",
       "      <td>TOT</td>\n",
       "      <td>WOL</td>\n",
       "      <td>NOR</td>\n",
       "      <td>NEW</td>\n",
       "      <td>CRY</td>\n",
       "      <td>LIV</td>\n",
       "      <td>MCI</td>\n",
       "      <td>EVE</td>\n",
       "      <td>BHA</td>\n",
       "      <td>MUN</td>\n",
       "    </tr>\n",
       "    <tr>\n",
       "      <th>2</th>\n",
       "      <td>LIV</td>\n",
       "      <td>EVE</td>\n",
       "      <td>MCI</td>\n",
       "      <td>SOU</td>\n",
       "      <td>WOL</td>\n",
       "      <td>NOR</td>\n",
       "      <td>MUN</td>\n",
       "      <td>AVL</td>\n",
       "      <td>SHU</td>\n",
       "      <td>ARS</td>\n",
       "      <td>BOU</td>\n",
       "      <td>CRY</td>\n",
       "      <td>TOT</td>\n",
       "      <td>CHE</td>\n",
       "      <td>LEI</td>\n",
       "      <td>BHA</td>\n",
       "      <td>NEW</td>\n",
       "      <td>WHU</td>\n",
       "      <td>WAT</td>\n",
       "      <td>BUR</td>\n",
       "    </tr>\n",
       "    <tr>\n",
       "      <th>3</th>\n",
       "      <td>TOT</td>\n",
       "      <td>CRY</td>\n",
       "      <td>LEI</td>\n",
       "      <td>MCI</td>\n",
       "      <td>LIV</td>\n",
       "      <td>SHU</td>\n",
       "      <td>AVL</td>\n",
       "      <td>WOL</td>\n",
       "      <td>BOU</td>\n",
       "      <td>BUR</td>\n",
       "      <td>BHA</td>\n",
       "      <td>SOU</td>\n",
       "      <td>WAT</td>\n",
       "      <td>WHU</td>\n",
       "      <td>CHE</td>\n",
       "      <td>MUN</td>\n",
       "      <td>ARS</td>\n",
       "      <td>NEW</td>\n",
       "      <td>NOR</td>\n",
       "      <td>EVE</td>\n",
       "    </tr>\n",
       "    <tr>\n",
       "      <th>4</th>\n",
       "      <td>WAT</td>\n",
       "      <td>WHU</td>\n",
       "      <td>EVE</td>\n",
       "      <td>BUR</td>\n",
       "      <td>BHA</td>\n",
       "      <td>WOL</td>\n",
       "      <td>TOT</td>\n",
       "      <td>BOU</td>\n",
       "      <td>MUN</td>\n",
       "      <td>NEW</td>\n",
       "      <td>NOR</td>\n",
       "      <td>LEI</td>\n",
       "      <td>LIV</td>\n",
       "      <td>MCI</td>\n",
       "      <td>SOU</td>\n",
       "      <td>SHU</td>\n",
       "      <td>CRY</td>\n",
       "      <td>ARS</td>\n",
       "      <td>AVL</td>\n",
       "      <td>CHE</td>\n",
       "    </tr>\n",
       "  </tbody>\n",
       "</table>\n",
       "</div>"
      ],
      "text/plain": [
       "  Arsenal Aston Villa Bournemouth Brighton Burnley Chelsea Crystal Palace  \\\n",
       "0     NEW         TOT         SHU      WAT     SOU     MUN            EVE   \n",
       "1     BUR         BOU         AVL      WHU     ARS     LEI            SHU   \n",
       "2     LIV         EVE         MCI      SOU     WOL     NOR            MUN   \n",
       "3     TOT         CRY         LEI      MCI     LIV     SHU            AVL   \n",
       "4     WAT         WHU         EVE      BUR     BHA     WOL            TOT   \n",
       "\n",
       "  Everton Leicester Liverpool Man City Man Utd Newcastle Norwich  \\\n",
       "0     CRY       WOL       NOR      WHU     CHE       ARS     LIV   \n",
       "1     WAT       CHE       SOU      TOT     WOL       NOR     NEW   \n",
       "2     AVL       SHU       ARS      BOU     CRY       TOT     CHE   \n",
       "3     WOL       BOU       BUR      BHA     SOU       WAT     WHU   \n",
       "4     BOU       MUN       NEW      NOR     LEI       LIV     MCI   \n",
       "\n",
       "  Sheffield Utd Southampton Spurs Watford West Ham Wolves  \n",
       "0           BOU         BUR   AVL     BHA      MCI    LEI  \n",
       "1           CRY         LIV   MCI     EVE      BHA    MUN  \n",
       "2           LEI         BHA   NEW     WHU      WAT    BUR  \n",
       "3           CHE         MUN   ARS     NEW      NOR    EVE  \n",
       "4           SOU         SHU   CRY     ARS      AVL    CHE  "
      ]
     },
     "execution_count": 186,
     "metadata": {},
     "output_type": "execute_result"
    }
   ],
   "source": [
    "schedule_df.head()"
   ]
  },
  {
   "cell_type": "code",
   "execution_count": 200,
   "metadata": {},
   "outputs": [
    {
     "data": {
      "text/plain": [
       "0    NEW\n",
       "1    BUR\n",
       "2    LIV\n",
       "Name: Arsenal, dtype: object"
      ]
     },
     "execution_count": 200,
     "metadata": {},
     "output_type": "execute_result"
    }
   ],
   "source": [
    "schedule_df.Arsenal[0:3]"
   ]
  },
  {
   "cell_type": "code",
   "execution_count": 193,
   "metadata": {},
   "outputs": [],
   "source": [
    "scores = list(zip(team_df.short_name, team_df.strength))"
   ]
  },
  {
   "cell_type": "code",
   "execution_count": 203,
   "metadata": {
    "scrolled": false
   },
   "outputs": [],
   "source": [
    "scores = dict(scores)"
   ]
  },
  {
   "cell_type": "code",
   "execution_count": 210,
   "metadata": {},
   "outputs": [
    {
     "data": {
      "text/plain": [
       "{'ARS': 4,\n",
       " 'AVL': 2,\n",
       " 'BOU': 3,\n",
       " 'BHA': 2,\n",
       " 'BUR': 3,\n",
       " 'CHE': 4,\n",
       " 'CRY': 3,\n",
       " 'EVE': 3,\n",
       " 'LEI': 3,\n",
       " 'LIV': 5,\n",
       " 'MCI': 5,\n",
       " 'MUN': 4,\n",
       " 'NEW': 3,\n",
       " 'NOR': 2,\n",
       " 'SHU': 2,\n",
       " 'SOU': 3,\n",
       " 'TOT': 4,\n",
       " 'WAT': 3,\n",
       " 'WHU': 3,\n",
       " 'WOL': 3}"
      ]
     },
     "execution_count": 210,
     "metadata": {},
     "output_type": "execute_result"
    }
   ],
   "source": [
    "scores"
   ]
  },
  {
   "cell_type": "code",
   "execution_count": 226,
   "metadata": {},
   "outputs": [],
   "source": [
    "def avg_FDR(week = gameweek, periods = next_n_games):\n",
    "    dic = {}\n",
    "    for team in schedule_df.columns:\n",
    "        oponents = schedule_df[team][(week-1):(week+periods)]\n",
    "        avg_FDR = sum([scores[oponent] for oponent in oponents])/len(oponents)\n",
    "        dic[team] = avg_FDR\n",
    "    return dic"
   ]
  },
  {
   "cell_type": "code",
   "execution_count": 227,
   "metadata": {},
   "outputs": [],
   "source": [
    "calculate_FDR = avg_FDR()"
   ]
  },
  {
   "cell_type": "code",
   "execution_count": 228,
   "metadata": {},
   "outputs": [
    {
     "data": {
      "text/plain": [
       "{'Arsenal': 3.6666666666666665,\n",
       " 'Aston Villa': 3.3333333333333335,\n",
       " 'Bournemouth': 3.0,\n",
       " 'Brighton': 3.0,\n",
       " 'Burnley': 3.3333333333333335,\n",
       " 'Chelsea': 3.0,\n",
       " 'Crystal Palace': 3.0,\n",
       " 'Everton': 2.6666666666666665,\n",
       " 'Leicester': 3.0,\n",
       " 'Liverpool': 3.0,\n",
       " 'Man City': 3.3333333333333335,\n",
       " 'Man Utd': 3.3333333333333335,\n",
       " 'Newcastle': 3.3333333333333335,\n",
       " 'Norwich': 4.0,\n",
       " 'Sheffield Utd': 3.0,\n",
       " 'Southampton': 3.3333333333333335,\n",
       " 'Spurs': 3.3333333333333335,\n",
       " 'Watford': 2.6666666666666665,\n",
       " 'West Ham': 3.3333333333333335,\n",
       " 'Wolves': 3.3333333333333335}"
      ]
     },
     "execution_count": 228,
     "metadata": {},
     "output_type": "execute_result"
    }
   ],
   "source": [
    "calculate_FDR"
   ]
  },
  {
   "cell_type": "code",
   "execution_count": null,
   "metadata": {},
   "outputs": [],
   "source": [
    "def roi_top_players():\n",
    "    return session.query(Player).order_by(Player.roi.desc()).all()\n",
    "\n",
    "def pts_per_90m_top_players():\n",
    "    return session.query(Player).order_by(Player.pts_per_90min.desc()).all()\n"
   ]
  },
  {
   "cell_type": "code",
   "execution_count": null,
   "metadata": {},
   "outputs": [],
   "source": [
    "def build_team_by_roi(budget = 100, count_limit = 3, gk = 2, df = 5, md = 5, fwd = 3):\n",
    "    money_team = []\n",
    "    budget = budget\n",
    "    injured = players_by_status('injured')\n",
    "    positions = {'Goalkeeper': gk, 'Defender': df, 'Midfielder': md, 'Forward': fwd}\n",
    "    teams = { team:3 for team in team_list() }\n",
    "    for player in points_top_players():\n",
    "            if len(money_team) < count_limit and player not in injured and budget >= player.cost and positions[player.position] > 0 and teams[player.team] > 0:\n",
    "                money_team.append(player)\n",
    "                budget -= player.cost\n",
    "                positions[player.position] = positions[player.position] - 1\n",
    "                teams[player.team] = teams[player.team] -1\n",
    "            else:\n",
    "                for player in roi_top_players():\n",
    "                    if player not in money_team and budget >= player.cost and positions[player.position] > 0 and teams[player.team] > 0:\n",
    "                        money_team.append(player)\n",
    "                        budget -= player.cost\n",
    "                        positions[player.position] = positions[player.position] - 1\n",
    "                        teams[player.team] = teams[player.team] -1\n",
    "    final_team = [(item.name, item.position, item.cost) for item in money_team]\n",
    "    total_points = sum([item.total_points for item in money_team])\n",
    "    print('Remaining Budget: ' + str(round(budget, 2)))\n",
    "    print('Your AI has picked the following team:')\n",
    "    print('GK: '), print([(item[0], item[2]) for item in final_team if item[1] == \"Goalkeeper\"])\n",
    "    print('DF: '), print([(item[0], item[2]) for item in final_team if item[1] == \"Defender\"])\n",
    "    print('MD: '), print([(item[0], item[2])  for item in final_team if item[1] == \"Midfielder\"])\n",
    "    print('FWD: '), print([(item[0], item[2])  for item in final_team if item[1] == \"Forward\"])\n",
    "    print('Total Fantasy Points: ' + str(total_points))\n",
    "    return money_team"
   ]
  },
  {
   "cell_type": "code",
   "execution_count": null,
   "metadata": {},
   "outputs": [],
   "source": [
    "def pick_team_by_selector(budget = budget, DF = DF, MD = MD, ST = ST, GK_coef = GK_coef, DF_coef = DF_coef, MD_coef = MD_coef, ST_coef = ST_coef):\n",
    "    #split budget accordingly per position\n",
    "    GK_budget = budget*GK_coef\n",
    "    DF_budget = budget*DF_coef\n",
    "    MD_budget = budget*MD_coef\n",
    "    ST_budget = budget*ST_coef\n",
    "    \n",
    "    #Create proper count for each position\n",
    "    GK_count = 2\n",
    "    DF_count = DF+1\n",
    "    MD_count = MD+1\n",
    "    ST_count = ST+1\n",
    "   \n",
    "    \n",
    "    #Create our list of players per position\n",
    "    keepers = sorted_players_selector[0]\n",
    "    defenders = sorted_players_selector[1]\n",
    "    mids = sorted_players_selector[2]\n",
    "    strikers = sorted_players_selector[3]\n",
    "    \n",
    "    #Begin building final team\n",
    "    list_of_names = []\n",
    "    final_team = []\n",
    "    for item in keepers:\n",
    "        if GK_count > 0 and item['price'] <= GK_budget and item['name'] not in list_of_names:\n",
    "            item['position'] = \"GK\"\n",
    "            final_team.append(item)\n",
    "            list_of_names.append(item['name'])\n",
    "            GK_budget -= item['price']\n",
    "            GK_count -= 1\n",
    "            DF_budget += GK_budget\n",
    "    for item in defenders:\n",
    "        if DF_count > 0 and item['price'] <= DF_budget/DF_count and item['name'] not in list_of_names:\n",
    "            item['position'] = \"DF\"\n",
    "            final_team.append(item)\n",
    "            list_of_names.append(item['name'])\n",
    "            DF_budget -= item['price']\n",
    "            DF_count -= 1        \n",
    "    for item in mids:\n",
    "        while MD_count == MD+1:\n",
    "            MD_budget = MD_budget + DF_budget\n",
    "            MD_count -= 1\n",
    "        if MD_count > 0 and item['price'] <= MD_budget/MD_count and item['name'] not in list_of_names:\n",
    "            item['position'] = \"MD\"\n",
    "            final_team.append(item)\n",
    "            list_of_names.append(item['name'])\n",
    "            MD_budget -= item['price']\n",
    "            MD_count -= 1\n",
    "    for item in strikers:\n",
    "        while ST_count == ST+1:\n",
    "            ST_budget = ST_budget + MD_budget\n",
    "            ST_count -= 1\n",
    "        if ST_count > 0 and item['price'] <= ST_budget/ST_count and item['name'] not in list_of_names:\n",
    "            item['position'] = \"ST\"\n",
    "            final_team.append(item)\n",
    "            list_of_names.append(item['name'])\n",
    "            ST_budget -= item['price']\n",
    "            ST_count -= 1\n",
    "    leftover_budget = GK_budget + DF_budget + MD_budget + ST_budget\n",
    "    rating_avg = round(sum([item['selector'] for item in final_team])/len(final_team), 3)\n",
    "    overall_avg = round(sum([item['overall'] for item in final_team])/len(final_team), 3)\n",
    "    return dict(team=final_team, budget_left = leftover_budget, AVG_selector=rating_avg, AVG_overall = overall_avg)"
   ]
  },
  {
   "cell_type": "code",
   "execution_count": null,
   "metadata": {},
   "outputs": [],
   "source": [
    "team_100Mil_selector = pick_team_by_selector(1000000000, DF = 4, MD = 4, ST = 2, GK_coef = 0.05, DF_coef = 0.2, MD_coef = 0.40, ST_coef = 0.35)"
   ]
  },
  {
   "cell_type": "code",
   "execution_count": null,
   "metadata": {},
   "outputs": [],
   "source": [
    "pd.DataFrame.from_dict(team_100Mil_selector['team'])"
   ]
  },
  {
   "cell_type": "code",
   "execution_count": null,
   "metadata": {},
   "outputs": [],
   "source": [
    "GK_Overall = sorted(top_GK_overall, key = lambda item: item['overall'], reverse= True) \n",
    "DF_Overall = sorted(top_defenders_overall, key = lambda item: item['overall'], reverse= True) \n",
    "MD_Overall = sorted(top_mids_overall, key = lambda item: item['overall'], reverse= True) \n",
    "ST_Overall = sorted(top_strikers_overall, key = lambda item: item['overall'], reverse= True)"
   ]
  }
 ],
 "metadata": {
  "kernelspec": {
   "display_name": "Python 3",
   "language": "python",
   "name": "python3"
  },
  "language_info": {
   "codemirror_mode": {
    "name": "ipython",
    "version": 3
   },
   "file_extension": ".py",
   "mimetype": "text/x-python",
   "name": "python",
   "nbconvert_exporter": "python",
   "pygments_lexer": "ipython3",
   "version": "3.7.3"
  }
 },
 "nbformat": 4,
 "nbformat_minor": 2
}
