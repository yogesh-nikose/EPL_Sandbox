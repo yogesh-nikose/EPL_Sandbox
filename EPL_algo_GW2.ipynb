{
 "cells": [
  {
   "cell_type": "markdown",
   "metadata": {},
   "source": [
    "## Define Gameweek and Periods for FDR calculation"
   ]
  },
  {
   "cell_type": "code",
   "execution_count": 15,
   "metadata": {},
   "outputs": [],
   "source": [
    "gameweek = 2\n",
    "next_n_games = 2"
   ]
  },
  {
   "cell_type": "markdown",
   "metadata": {},
   "source": [
    "## Define Budget, Team Formation, and Budget Allocation by Position"
   ]
  },
  {
   "cell_type": "code",
   "execution_count": 16,
   "metadata": {},
   "outputs": [],
   "source": [
    "#Budget\n",
    "budget = 100\n",
    "\n",
    "#Team Formation\n",
    "DF = 3\n",
    "MD = 4\n",
    "ST = 3\n",
    "\n",
    "#Total players needed per position\n",
    "DF_max = 5\n",
    "MD_max = 5\n",
    "ST_max = 3\n",
    "\n",
    "#Budget Allocation\n",
    "GK_coef = 0.1\n",
    "DF_coef = 0.24\n",
    "MD_coef = 0.43\n",
    "ST_coef = 0.23"
   ]
  },
  {
   "cell_type": "markdown",
   "metadata": {},
   "source": [
    "## Scraped list of Schedules"
   ]
  },
  {
   "cell_type": "code",
   "execution_count": 17,
   "metadata": {},
   "outputs": [],
   "source": [
    "schedules = ['Arsenal NEW (A) BUR (H) LIV (A) TOT (H) WAT (A) AVL (H) MUN (A) BOU (H) SHU (A) CRY (H) WOL (H) LEI (A) SOU (H) NOR (A) BHA (H) WHU (A) MCI (H) EVE (A) BOU (A) CHE (H) MUN (H) CRY (A) SHU (H) CHE (A) BUR (A) NEW (H) EVE (H) MCI (A) WHU (H) BHA (A) SOU (A) NOR (H) WOL (A) LEI (H) TOT (A) LIV (H) AVL (A) WAT (H)',\n",
    " 'Aston Villa TOT (A) BOU (H) EVE (H) CRY (A) WHU (H) ARS (A) BUR (H) NOR (A) BHA (H) MCI (A) LIV (H) WOL (A) NEW (H) MUN (A) CHE (A) LEI (H) SHU (A) SOU (H) NOR (H) WAT (A) BUR (A) MCI (H) BHA (A) WAT (H) BOU (A) TOT (H) SOU (A) SHU (H) LEI (A) CHE (H) NEW (A) WOL (H) LIV (A) MUN (H) CRY (H) EVE (A) ARS (H) WHU (A)',\n",
    " 'Bournemouth SHU (H) AVL (A) MCI (H) LEI (A) EVE (H) SOU (A) WHU (H) ARS (A) NOR (H) WAT (A) MUN (H) NEW (A) WOL (H) TOT (A) CRY (A) LIV (H) CHE (A) BUR (H) ARS (H) BHA (A) WHU (A) WAT (H) NOR (A) BHA (H) AVL (H) SHU (A) BUR (A) CHE (H) LIV (A) CRY (H) WOL (A) NEW (H) MUN (A) TOT (H) LEI (H) MCI (A) SOU (H) EVE (A)',\n",
    " 'Brighton WAT (A) WHU (H) SOU (H) MCI (A) BUR (H) NEW (A) CHE (A) TOT (H) AVL (A) EVE (H) NOR (H) MUN (A) LEI (H) LIV (A) ARS (A) WOL (H) CRY (A) SHU (H) TOT (A) BOU (H) CHE (H) EVE (A) AVL (H) BOU (A) WHU (A) WAT (H) SHU (A) CRY (H) WOL (A) ARS (H) LEI (A) MUN (H) NOR (A) LIV (H) MCI (H) SOU (A) NEW (H) BUR (A)',\n",
    " 'Burnley SOU (H) ARS (A) WOL (A) LIV (H) BHA (A) NOR (H) AVL (A) EVE (H) LEI (A) CHE (H) SHU (A) WHU (H) WAT (A) CRY (H) MCI (H) TOT (A) NEW (H) BOU (A) EVE (A) MUN (H) AVL (H) CHE (A) LEI (H) MUN (A) ARS (H) SOU (A) BOU (H) NEW (A) TOT (H) MCI (A) WAT (H) CRY (A) SHU (H) WHU (A) LIV (A) WOL (H) NOR (A) BHA (H)',\n",
    " 'Chelsea MUN (A) LEI (H) NOR (A) SHU (H) WOL (A) LIV (H) BHA (H) SOU (A) NEW (H) BUR (A) WAT (A) CRY (H) MCI (A) WHU (H) AVL (H) EVE (A) BOU (H) TOT (A) SOU (H) ARS (A) BHA (A) BUR (H) NEW (A) ARS (H) LEI (A) MUN (H) TOT (H) BOU (A) EVE (H) AVL (A) MCI (H) WHU (A) WAT (H) CRY (A) SHU (A) NOR (H) LIV (A) WOL (H)',\n",
    " 'Crystal Palace EVE (H) SHU (A) MUN (A) AVL (H) TOT (A) WOL (H) NOR (H) WHU (A) MCI (H) ARS (A) LEI (H) CHE (A) LIV (H) BUR (A) BOU (H) WAT (A) BHA (H) NEW (A) WHU (H) SOU (A) NOR (A) ARS (H) MCI (A) SOU (H) SHU (H) EVE (A) NEW (H) BHA (A) WAT (H) BOU (A) LIV (A) BUR (H) LEI (A) CHE (H) AVL (A) MUN (H) WOL (A) TOT (H)',\n",
    " 'Everton CRY (A) WAT (H) AVL (A) WOL (H) BOU (A) SHU (H) MCI (H) BUR (A) WHU (H) BHA (A) TOT (H) SOU (A) NOR (H) LEI (A) LIV (A) CHE (H) MUN (A) ARS (H) BUR (H) NEW (A) MCI (A) BHA (H) WHU (A) NEW (H) WAT (A) CRY (H) ARS (A) MUN (H) CHE (A) LIV (H) NOR (A) LEI (H) TOT (A) SOU (H) WOL (A) AVL (H) SHU (A) BOU (H)',\n",
    " 'Leicester WOL (H) CHE (A) SHU (A) BOU (H) MUN (A) TOT (H) NEW (H) LIV (A) BUR (H) SOU (A) CRY (A) ARS (H) BHA (A) EVE (H) WAT (H) AVL (A) NOR (H) MCI (A) LIV (H) WHU (A) NEW (A) SOU (H) BUR (A) WHU (H) CHE (H) WOL (A) MCI (H) NOR (A) AVL (H) WAT (A) BHA (H) EVE (A) CRY (H) ARS (A) BOU (A) SHU (H) TOT (A) MUN (H)',\n",
    " 'Liverpool NOR (H) SOU (A) ARS (H) BUR (A) NEW (H) CHE (A) SHU (A) LEI (H) MUN (A) TOT (H) AVL (A) MCI (H) CRY (A) BHA (H) EVE (H) BOU (A) WAT (H) WHU (A) LEI (A) WOL (H) SHU (H) TOT (A) MUN (H) WOL (A) SOU (H) NOR (A) WHU (H) WAT (A) BOU (H) EVE (A) CRY (H) MCI (A) AVL (H) BHA (A) BUR (H) ARS (A) CHE (H) NEW (A)',\n",
    " 'Man City WHU (A) TOT (H) BOU (A) BHA (H) NOR (A) WAT (H) EVE (A) WOL (H) CRY (A) AVL (H) SOU (H) LIV (A) CHE (H) NEW (A) BUR (A) MUN (H) ARS (A) LEI (H) WOL (A) SHU (H) EVE (H) AVL (A) CRY (H) SHU (A) TOT (A) WHU (H) LEI (A) ARS (H) MUN (A) BUR (H) CHE (A) LIV (H) SOU (A) NEW (H) BHA (A) BOU (H) WAT (A) NOR (H)',\n",
    " 'Man Utd CHE (H) WOL (A) CRY (H) SOU (A) LEI (H) WHU (A) ARS (H) NEW (A) LIV (H) NOR (A) BOU (A) BHA (H) SHU (A) AVL (H) TOT (H) MCI (A) EVE (H) WAT (A) NEW (H) BUR (A) ARS (A) NOR (H) LIV (A) BUR (H) WOL (H) CHE (A) WAT (H) EVE (A) MCI (H) TOT (A) SHU (H) BHA (A) BOU (H) AVL (A) SOU (H) CRY (A) WHU (H) LEI (A)',\n",
    " 'Newcastle ARS (H) NOR (A) TOT (A) WAT (H) LIV (A) BHA (H) LEI (A) MUN (H) CHE (A) WOL (H) WHU (A) BOU (H) AVL (A) MCI (H) SHU (A) SOU (H) BUR (A) CRY (H) MUN (A) EVE (H) LEI (H) WOL (A) CHE (H) EVE (A) NOR (H) ARS (A) CRY (A) BUR (H) SOU (A) SHU (H) AVL (H) BOU (A) WHU (H) MCI (A) WAT (A) TOT (H) BHA (A) LIV (H)',\n",
    " 'Norwich LIV (A) NEW (H) CHE (H) WHU (A) MCI (H) BUR (A) CRY (A) AVL (H) BOU (A) MUN (H) BHA (A) WAT (H) EVE (A) ARS (H) SOU (A) SHU (H) LEI (A) WOL (H) AVL (A) TOT (H) CRY (H) MUN (A) BOU (H) TOT (A) NEW (A) LIV (H) WOL (A) LEI (H) SHU (A) SOU (H) EVE (H) ARS (A) BHA (H) WAT (A) WHU (H) CHE (A) BUR (H) MCI (A)',\n",
    " 'Sheffield Utd BOU (A) CRY (H) LEI (H) CHE (A) SOU (H) EVE (A) LIV (H) WAT (A) ARS (H) WHU (A) BUR (H) TOT (A) MUN (H) WOL (A) NEW (H) NOR (A) AVL (H) BHA (A) WAT (H) MCI (A) LIV (A) WHU (H) ARS (A) MCI (H) CRY (A) BOU (H) BHA (H) AVL (A) NOR (H) NEW (A) MUN (A) TOT (H) BUR (A) WOL (H) CHE (H) LEI (A) EVE (H) SOU (A)',\n",
    " 'Southampton BUR (A) LIV (H) BHA (A) MUN (H) SHU (A) BOU (H) TOT (A) CHE (H) WOL (A) LEI (H) MCI (A) EVE (H) ARS (A) WAT (H) NOR (H) NEW (A) WHU (H) AVL (A) CHE (A) CRY (H) TOT (H) LEI (A) WOL (H) CRY (A) LIV (A) BUR (H) AVL (H) WHU (A) NEW (H) NOR (A) ARS (H) WAT (A) MCI (H) EVE (A) MUN (A) BHA (H) BOU (A) SHU (H)',\n",
    " 'Spurs AVL (H) MCI (A) NEW (H) ARS (A) CRY (H) LEI (A) SOU (H) BHA (A) WAT (H) LIV (A) EVE (A) SHU (H) WHU (A) BOU (H) MUN (A) BUR (H) WOL (A) CHE (H) BHA (H) NOR (A) SOU (A) LIV (H) WAT (A) NOR (H) MCI (H) AVL (A) CHE (A) WOL (H) BUR (A) MUN (H) WHU (H) SHU (A) EVE (H) BOU (A) ARS (H) NEW (A) LEI (H) CRY (A)',\n",
    " 'Watford BHA (H) EVE (A) WHU (H) NEW (A) ARS (H) MCI (A) WOL (A) SHU (H) TOT (A) BOU (H) CHE (H) NOR (A) BUR (H) SOU (A) LEI (A) CRY (H) LIV (A) MUN (H) SHU (A) AVL (H) WOL (H) BOU (A) TOT (H) AVL (A) EVE (H) BHA (A) MUN (A) LIV (H) CRY (A) LEI (H) BUR (A) SOU (H) CHE (A) NOR (H) NEW (H) WHU (A) MCI (H) ARS (A)',\n",
    " 'West Ham MCI (H) BHA (A) WAT (A) NOR (H) AVL (A) MUN (H) BOU (A) CRY (H) EVE (A) SHU (H) NEW (H) BUR (A) TOT (H) CHE (A) WOL (A) ARS (H) SOU (A) LIV (H) CRY (A) LEI (H) BOU (H) SHU (A) EVE (H) LEI (A) BHA (H) MCI (A) LIV (A) SOU (H) ARS (A) WOL (H) TOT (A) CHE (H) NEW (A) BUR (H) NOR (A) WAT (H) MUN (A) AVL (H)',\n",
    " 'Wolves LEI (A) MUN (H) BUR (H) EVE (A) CHE (H) CRY (A) WAT (H) MCI (A) SOU (H) NEW (A) ARS (A) AVL (H) BOU (A) SHU (H) WHU (H) BHA (A) TOT (H) NOR (A) MCI (H) LIV (A) WAT (A) NEW (H) SOU (A) LIV (H) MUN (A) LEI (H) NOR (H) TOT (A) BHA (H) WHU (A) BOU (H) AVL (A) ARS (H) SHU (A) EVE (H) BUR (A) CRY (H) CHE (A)']"
   ]
  },
  {
   "cell_type": "markdown",
   "metadata": {},
   "source": [
    "### Import Data"
   ]
  },
  {
   "cell_type": "code",
   "execution_count": 18,
   "metadata": {},
   "outputs": [],
   "source": [
    "import json\n",
    "import requests\n",
    "import pandas as pd\n",
    "\n",
    "# url = \"https://fantasy.premierleague.com/drf/bootstrap-static\"\n",
    "url = 'https://fantasy.premierleague.com/api/bootstrap-static/'\n",
    "\n",
    "def get_json_data(url):\n",
    "    response = requests.get(url)\n",
    "    jobs = response.json()\n",
    "    return jobs\n",
    "\n",
    "#filter out players with less than 330\n",
    "all_players = get_json_data(url)['elements']\n",
    "all_teams = get_json_data(url)['teams']\n",
    "positions = get_json_data(url)['element_types']"
   ]
  },
  {
   "cell_type": "markdown",
   "metadata": {},
   "source": [
    "## Add player status and ROI, pts-per-90min metrics to final player_df"
   ]
  },
  {
   "cell_type": "code",
   "execution_count": 19,
   "metadata": {},
   "outputs": [],
   "source": [
    "def attach_team_and_position(main_players, all_teams, positons):\n",
    "    players = main_players.copy()\n",
    "    for team in all_teams:\n",
    "        for player in players:\n",
    "            if team['code'] == player['team_code']:\n",
    "                player['team_name'] = team['name']\n",
    "    for position in positions:\n",
    "        for player in players:\n",
    "            if position['id'] == player['element_type']:\n",
    "                player['position'] = position['singular_name']\n",
    "    for player in players:\n",
    "        if player['status'] == \"a\":\n",
    "            player['status'] = \"available\"\n",
    "        elif player['status'] == \"d\":\n",
    "            player['status'] = \"doubtful\"\n",
    "        elif player['status'] == \"i\":\n",
    "            player['status'] = \"injured\"\n",
    "        elif player['status'] == \"s\":\n",
    "            player['status'] = \"suspended\"\n",
    "    return players\n",
    "\n",
    "\n",
    "#### Temporarily took out the \"main_players\" filter because no players have played 330 minutes ####\n",
    "\n",
    "# player_positions_teams = attach_team_and_position(main_players, all_teams_new, positions)\n",
    "player_positions_teams = attach_team_and_position(all_players, all_teams, positions)\n",
    "\n",
    "\n",
    "def final_players_list(player_positions_teams):\n",
    "    players = player_positions_teams.copy()\n",
    "    empty = []\n",
    "    for player in players:\n",
    "        stats = dict(team_code = player['team_code'],\n",
    "        team_name = player['team_name'],\n",
    "        name = player['first_name'] + \" \" + player['second_name'],\n",
    "        status = player['status'],\n",
    "        position = player['position'],\n",
    "        cost = (player['now_cost'])/10,\n",
    "        total_points = player['total_points'],\n",
    "        roi = round((player['total_points'] / player['now_cost'])*10, 2),\n",
    "        pts_per_90min = round((player['total_points'] / (player['minutes'] + 1))*90, 2),\n",
    "        bonus = player['bonus'],\n",
    "        red_cards = player['red_cards'],\n",
    "        minutes = player['minutes'],\n",
    "        transfers_out = player['transfers_out'],\n",
    "        transfers_in = player['transfers_in'])\n",
    "        empty.append(stats)\n",
    "    return empty"
   ]
  },
  {
   "cell_type": "code",
   "execution_count": 20,
   "metadata": {},
   "outputs": [],
   "source": [
    "final = final_players_list(player_positions_teams)"
   ]
  },
  {
   "cell_type": "code",
   "execution_count": 21,
   "metadata": {},
   "outputs": [
    {
     "data": {
      "text/plain": [
       "{'team_code': 3,\n",
       " 'team_name': 'Arsenal',\n",
       " 'name': 'Shkodran Mustafi',\n",
       " 'status': 'available',\n",
       " 'position': 'Defender',\n",
       " 'cost': 5.5,\n",
       " 'total_points': 0,\n",
       " 'roi': 0.0,\n",
       " 'pts_per_90min': 0.0,\n",
       " 'bonus': 0,\n",
       " 'red_cards': 0,\n",
       " 'minutes': 0,\n",
       " 'transfers_out': 5693,\n",
       " 'transfers_in': 2220}"
      ]
     },
     "execution_count": 21,
     "metadata": {},
     "output_type": "execute_result"
    }
   ],
   "source": [
    "final[0]"
   ]
  },
  {
   "cell_type": "code",
   "execution_count": 22,
   "metadata": {
    "scrolled": true
   },
   "outputs": [
    {
     "data": {
      "text/plain": [
       "{'code': 3,\n",
       " 'draw': 0,\n",
       " 'form': None,\n",
       " 'id': 1,\n",
       " 'loss': 0,\n",
       " 'name': 'Arsenal',\n",
       " 'played': 0,\n",
       " 'points': 0,\n",
       " 'position': 0,\n",
       " 'short_name': 'ARS',\n",
       " 'strength': 4,\n",
       " 'team_division': None,\n",
       " 'unavailable': False,\n",
       " 'win': 0,\n",
       " 'strength_overall_home': 1250,\n",
       " 'strength_overall_away': 1330,\n",
       " 'strength_attack_home': 1240,\n",
       " 'strength_attack_away': 1270,\n",
       " 'strength_defence_home': 1290,\n",
       " 'strength_defence_away': 1330}"
      ]
     },
     "execution_count": 22,
     "metadata": {},
     "output_type": "execute_result"
    }
   ],
   "source": [
    "all_teams[0]"
   ]
  },
  {
   "cell_type": "code",
   "execution_count": 23,
   "metadata": {
    "scrolled": false
   },
   "outputs": [
    {
     "data": {
      "text/plain": [
       "{'team_code': 3,\n",
       " 'team_name': 'Arsenal',\n",
       " 'name': 'Shkodran Mustafi',\n",
       " 'status': 'available',\n",
       " 'position': 'Defender',\n",
       " 'cost': 5.5,\n",
       " 'total_points': 0,\n",
       " 'roi': 0.0,\n",
       " 'pts_per_90min': 0.0,\n",
       " 'bonus': 0,\n",
       " 'red_cards': 0,\n",
       " 'minutes': 0,\n",
       " 'transfers_out': 5693,\n",
       " 'transfers_in': 2220}"
      ]
     },
     "execution_count": 23,
     "metadata": {},
     "output_type": "execute_result"
    }
   ],
   "source": [
    "final[0]"
   ]
  },
  {
   "cell_type": "code",
   "execution_count": 24,
   "metadata": {},
   "outputs": [],
   "source": [
    "player_df = pd.DataFrame(final)"
   ]
  },
  {
   "cell_type": "code",
   "execution_count": 25,
   "metadata": {},
   "outputs": [],
   "source": [
    "player_df.sort_values(by = ['roi'], ascending = False, inplace = True)"
   ]
  },
  {
   "cell_type": "code",
   "execution_count": 26,
   "metadata": {
    "scrolled": true
   },
   "outputs": [
    {
     "data": {
      "text/html": [
       "<div>\n",
       "<style scoped>\n",
       "    .dataframe tbody tr th:only-of-type {\n",
       "        vertical-align: middle;\n",
       "    }\n",
       "\n",
       "    .dataframe tbody tr th {\n",
       "        vertical-align: top;\n",
       "    }\n",
       "\n",
       "    .dataframe thead th {\n",
       "        text-align: right;\n",
       "    }\n",
       "</style>\n",
       "<table border=\"1\" class=\"dataframe\">\n",
       "  <thead>\n",
       "    <tr style=\"text-align: right;\">\n",
       "      <th></th>\n",
       "      <th>bonus</th>\n",
       "      <th>cost</th>\n",
       "      <th>minutes</th>\n",
       "      <th>name</th>\n",
       "      <th>position</th>\n",
       "      <th>pts_per_90min</th>\n",
       "      <th>red_cards</th>\n",
       "      <th>roi</th>\n",
       "      <th>status</th>\n",
       "      <th>team_code</th>\n",
       "      <th>team_name</th>\n",
       "      <th>total_points</th>\n",
       "      <th>transfers_in</th>\n",
       "      <th>transfers_out</th>\n",
       "    </tr>\n",
       "  </thead>\n",
       "  <tbody>\n",
       "    <tr>\n",
       "      <th>132</th>\n",
       "      <td>2</td>\n",
       "      <td>4.5</td>\n",
       "      <td>90</td>\n",
       "      <td>Erik Pieters</td>\n",
       "      <td>Defender</td>\n",
       "      <td>13.85</td>\n",
       "      <td>0</td>\n",
       "      <td>3.11</td>\n",
       "      <td>available</td>\n",
       "      <td>90</td>\n",
       "      <td>Burnley</td>\n",
       "      <td>14</td>\n",
       "      <td>80271</td>\n",
       "      <td>8499</td>\n",
       "    </tr>\n",
       "    <tr>\n",
       "      <th>90</th>\n",
       "      <td>3</td>\n",
       "      <td>4.5</td>\n",
       "      <td>90</td>\n",
       "      <td>Lewis Dunk</td>\n",
       "      <td>Defender</td>\n",
       "      <td>10.88</td>\n",
       "      <td>0</td>\n",
       "      <td>2.44</td>\n",
       "      <td>available</td>\n",
       "      <td>36</td>\n",
       "      <td>Brighton</td>\n",
       "      <td>11</td>\n",
       "      <td>91120</td>\n",
       "      <td>10446</td>\n",
       "    </tr>\n",
       "    <tr>\n",
       "      <th>3</th>\n",
       "      <td>3</td>\n",
       "      <td>5.0</td>\n",
       "      <td>90</td>\n",
       "      <td>Ainsley Maitland-Niles</td>\n",
       "      <td>Defender</td>\n",
       "      <td>11.87</td>\n",
       "      <td>0</td>\n",
       "      <td>2.40</td>\n",
       "      <td>available</td>\n",
       "      <td>3</td>\n",
       "      <td>Arsenal</td>\n",
       "      <td>12</td>\n",
       "      <td>83757</td>\n",
       "      <td>7687</td>\n",
       "    </tr>\n",
       "    <tr>\n",
       "      <th>59</th>\n",
       "      <td>2</td>\n",
       "      <td>4.5</td>\n",
       "      <td>90</td>\n",
       "      <td>Chris Mepham</td>\n",
       "      <td>Defender</td>\n",
       "      <td>9.89</td>\n",
       "      <td>0</td>\n",
       "      <td>2.22</td>\n",
       "      <td>available</td>\n",
       "      <td>91</td>\n",
       "      <td>Bournemouth</td>\n",
       "      <td>10</td>\n",
       "      <td>31393</td>\n",
       "      <td>4260</td>\n",
       "    </tr>\n",
       "    <tr>\n",
       "      <th>242</th>\n",
       "      <td>3</td>\n",
       "      <td>5.5</td>\n",
       "      <td>73</td>\n",
       "      <td>Divock Origi</td>\n",
       "      <td>Forward</td>\n",
       "      <td>14.59</td>\n",
       "      <td>0</td>\n",
       "      <td>2.18</td>\n",
       "      <td>available</td>\n",
       "      <td>14</td>\n",
       "      <td>Liverpool</td>\n",
       "      <td>12</td>\n",
       "      <td>144461</td>\n",
       "      <td>20847</td>\n",
       "    </tr>\n",
       "  </tbody>\n",
       "</table>\n",
       "</div>"
      ],
      "text/plain": [
       "     bonus  cost  minutes                    name  position  pts_per_90min  \\\n",
       "132      2   4.5       90            Erik Pieters  Defender          13.85   \n",
       "90       3   4.5       90              Lewis Dunk  Defender          10.88   \n",
       "3        3   5.0       90  Ainsley Maitland-Niles  Defender          11.87   \n",
       "59       2   4.5       90            Chris Mepham  Defender           9.89   \n",
       "242      3   5.5       73            Divock Origi   Forward          14.59   \n",
       "\n",
       "     red_cards   roi     status  team_code    team_name  total_points  \\\n",
       "132          0  3.11  available         90      Burnley            14   \n",
       "90           0  2.44  available         36     Brighton            11   \n",
       "3            0  2.40  available          3      Arsenal            12   \n",
       "59           0  2.22  available         91  Bournemouth            10   \n",
       "242          0  2.18  available         14    Liverpool            12   \n",
       "\n",
       "     transfers_in  transfers_out  \n",
       "132         80271           8499  \n",
       "90          91120          10446  \n",
       "3           83757           7687  \n",
       "59          31393           4260  \n",
       "242        144461          20847  "
      ]
     },
     "execution_count": 26,
     "metadata": {},
     "output_type": "execute_result"
    }
   ],
   "source": [
    "player_df.head()"
   ]
  },
  {
   "cell_type": "code",
   "execution_count": 27,
   "metadata": {},
   "outputs": [],
   "source": [
    "team_df = pd.DataFrame(all_teams)"
   ]
  },
  {
   "cell_type": "code",
   "execution_count": 28,
   "metadata": {
    "scrolled": true
   },
   "outputs": [
    {
     "data": {
      "text/html": [
       "<div>\n",
       "<style scoped>\n",
       "    .dataframe tbody tr th:only-of-type {\n",
       "        vertical-align: middle;\n",
       "    }\n",
       "\n",
       "    .dataframe tbody tr th {\n",
       "        vertical-align: top;\n",
       "    }\n",
       "\n",
       "    .dataframe thead th {\n",
       "        text-align: right;\n",
       "    }\n",
       "</style>\n",
       "<table border=\"1\" class=\"dataframe\">\n",
       "  <thead>\n",
       "    <tr style=\"text-align: right;\">\n",
       "      <th></th>\n",
       "      <th>code</th>\n",
       "      <th>draw</th>\n",
       "      <th>form</th>\n",
       "      <th>id</th>\n",
       "      <th>loss</th>\n",
       "      <th>name</th>\n",
       "      <th>played</th>\n",
       "      <th>points</th>\n",
       "      <th>position</th>\n",
       "      <th>short_name</th>\n",
       "      <th>strength</th>\n",
       "      <th>strength_attack_away</th>\n",
       "      <th>strength_attack_home</th>\n",
       "      <th>strength_defence_away</th>\n",
       "      <th>strength_defence_home</th>\n",
       "      <th>strength_overall_away</th>\n",
       "      <th>strength_overall_home</th>\n",
       "      <th>team_division</th>\n",
       "      <th>unavailable</th>\n",
       "      <th>win</th>\n",
       "    </tr>\n",
       "  </thead>\n",
       "  <tbody>\n",
       "    <tr>\n",
       "      <th>0</th>\n",
       "      <td>3</td>\n",
       "      <td>0</td>\n",
       "      <td>None</td>\n",
       "      <td>1</td>\n",
       "      <td>0</td>\n",
       "      <td>Arsenal</td>\n",
       "      <td>0</td>\n",
       "      <td>0</td>\n",
       "      <td>0</td>\n",
       "      <td>ARS</td>\n",
       "      <td>4</td>\n",
       "      <td>1270</td>\n",
       "      <td>1240</td>\n",
       "      <td>1330</td>\n",
       "      <td>1290</td>\n",
       "      <td>1330</td>\n",
       "      <td>1250</td>\n",
       "      <td>None</td>\n",
       "      <td>False</td>\n",
       "      <td>0</td>\n",
       "    </tr>\n",
       "    <tr>\n",
       "      <th>1</th>\n",
       "      <td>7</td>\n",
       "      <td>0</td>\n",
       "      <td>None</td>\n",
       "      <td>2</td>\n",
       "      <td>0</td>\n",
       "      <td>Aston Villa</td>\n",
       "      <td>0</td>\n",
       "      <td>0</td>\n",
       "      <td>0</td>\n",
       "      <td>AVL</td>\n",
       "      <td>2</td>\n",
       "      <td>1050</td>\n",
       "      <td>1050</td>\n",
       "      <td>1070</td>\n",
       "      <td>1030</td>\n",
       "      <td>1050</td>\n",
       "      <td>990</td>\n",
       "      <td>None</td>\n",
       "      <td>False</td>\n",
       "      <td>0</td>\n",
       "    </tr>\n",
       "    <tr>\n",
       "      <th>2</th>\n",
       "      <td>91</td>\n",
       "      <td>0</td>\n",
       "      <td>None</td>\n",
       "      <td>3</td>\n",
       "      <td>0</td>\n",
       "      <td>Bournemouth</td>\n",
       "      <td>0</td>\n",
       "      <td>0</td>\n",
       "      <td>0</td>\n",
       "      <td>BOU</td>\n",
       "      <td>3</td>\n",
       "      <td>1100</td>\n",
       "      <td>1040</td>\n",
       "      <td>1170</td>\n",
       "      <td>1120</td>\n",
       "      <td>1140</td>\n",
       "      <td>1050</td>\n",
       "      <td>None</td>\n",
       "      <td>False</td>\n",
       "      <td>0</td>\n",
       "    </tr>\n",
       "    <tr>\n",
       "      <th>3</th>\n",
       "      <td>36</td>\n",
       "      <td>0</td>\n",
       "      <td>None</td>\n",
       "      <td>4</td>\n",
       "      <td>0</td>\n",
       "      <td>Brighton</td>\n",
       "      <td>0</td>\n",
       "      <td>0</td>\n",
       "      <td>0</td>\n",
       "      <td>BHA</td>\n",
       "      <td>2</td>\n",
       "      <td>1140</td>\n",
       "      <td>1040</td>\n",
       "      <td>1070</td>\n",
       "      <td>1050</td>\n",
       "      <td>1070</td>\n",
       "      <td>1000</td>\n",
       "      <td>None</td>\n",
       "      <td>False</td>\n",
       "      <td>0</td>\n",
       "    </tr>\n",
       "    <tr>\n",
       "      <th>4</th>\n",
       "      <td>90</td>\n",
       "      <td>0</td>\n",
       "      <td>None</td>\n",
       "      <td>5</td>\n",
       "      <td>0</td>\n",
       "      <td>Burnley</td>\n",
       "      <td>0</td>\n",
       "      <td>0</td>\n",
       "      <td>0</td>\n",
       "      <td>BUR</td>\n",
       "      <td>3</td>\n",
       "      <td>1030</td>\n",
       "      <td>990</td>\n",
       "      <td>1070</td>\n",
       "      <td>1060</td>\n",
       "      <td>1090</td>\n",
       "      <td>1070</td>\n",
       "      <td>None</td>\n",
       "      <td>False</td>\n",
       "      <td>0</td>\n",
       "    </tr>\n",
       "  </tbody>\n",
       "</table>\n",
       "</div>"
      ],
      "text/plain": [
       "   code  draw  form  id  loss         name  played  points  position  \\\n",
       "0     3     0  None   1     0      Arsenal       0       0         0   \n",
       "1     7     0  None   2     0  Aston Villa       0       0         0   \n",
       "2    91     0  None   3     0  Bournemouth       0       0         0   \n",
       "3    36     0  None   4     0     Brighton       0       0         0   \n",
       "4    90     0  None   5     0      Burnley       0       0         0   \n",
       "\n",
       "  short_name  strength  strength_attack_away  strength_attack_home  \\\n",
       "0        ARS         4                  1270                  1240   \n",
       "1        AVL         2                  1050                  1050   \n",
       "2        BOU         3                  1100                  1040   \n",
       "3        BHA         2                  1140                  1040   \n",
       "4        BUR         3                  1030                   990   \n",
       "\n",
       "   strength_defence_away  strength_defence_home  strength_overall_away  \\\n",
       "0                   1330                   1290                   1330   \n",
       "1                   1070                   1030                   1050   \n",
       "2                   1170                   1120                   1140   \n",
       "3                   1070                   1050                   1070   \n",
       "4                   1070                   1060                   1090   \n",
       "\n",
       "   strength_overall_home team_division  unavailable  win  \n",
       "0                   1250          None        False    0  \n",
       "1                    990          None        False    0  \n",
       "2                   1050          None        False    0  \n",
       "3                   1000          None        False    0  \n",
       "4                   1070          None        False    0  "
      ]
     },
     "execution_count": 28,
     "metadata": {},
     "output_type": "execute_result"
    }
   ],
   "source": [
    "team_df.head()"
   ]
  },
  {
   "cell_type": "code",
   "execution_count": 29,
   "metadata": {},
   "outputs": [],
   "source": [
    "team_names = list(team_df.name)"
   ]
  },
  {
   "cell_type": "code",
   "execution_count": 30,
   "metadata": {
    "scrolled": true
   },
   "outputs": [
    {
     "data": {
      "text/plain": [
       "['Arsenal',\n",
       " 'Aston Villa',\n",
       " 'Bournemouth',\n",
       " 'Brighton',\n",
       " 'Burnley',\n",
       " 'Chelsea',\n",
       " 'Crystal Palace',\n",
       " 'Everton',\n",
       " 'Leicester',\n",
       " 'Liverpool',\n",
       " 'Man City',\n",
       " 'Man Utd',\n",
       " 'Newcastle',\n",
       " 'Norwich',\n",
       " 'Sheffield Utd',\n",
       " 'Southampton',\n",
       " 'Spurs',\n",
       " 'Watford',\n",
       " 'West Ham',\n",
       " 'Wolves']"
      ]
     },
     "execution_count": 30,
     "metadata": {},
     "output_type": "execute_result"
    }
   ],
   "source": [
    "team_names"
   ]
  },
  {
   "cell_type": "markdown",
   "metadata": {},
   "source": [
    "## Create Schedule DF"
   ]
  },
  {
   "cell_type": "code",
   "execution_count": 31,
   "metadata": {},
   "outputs": [],
   "source": [
    "def extract_sched(schedules):\n",
    "    dic = {}\n",
    "    for i, item in enumerate(schedules):\n",
    "        name = item.partition(team_names[i])[1]\n",
    "        sche = item.partition(team_names[i])[2]\n",
    "        sche = sche.split()\n",
    "        clean = [item for item in sche if item != \"(A)\"]\n",
    "        clean2 = [item for item in clean if item != \"(H)\"]\n",
    "        dic[name] = clean2\n",
    "    return dic"
   ]
  },
  {
   "cell_type": "code",
   "execution_count": 32,
   "metadata": {},
   "outputs": [],
   "source": [
    "wonders = extract_sched(schedules)"
   ]
  },
  {
   "cell_type": "code",
   "execution_count": 33,
   "metadata": {},
   "outputs": [],
   "source": [
    "schedule_df = pd.DataFrame(wonders)"
   ]
  },
  {
   "cell_type": "code",
   "execution_count": 34,
   "metadata": {},
   "outputs": [],
   "source": [
    "schedule_df.index.name = 'Gameweek'"
   ]
  },
  {
   "cell_type": "code",
   "execution_count": 35,
   "metadata": {
    "scrolled": false
   },
   "outputs": [
    {
     "data": {
      "text/html": [
       "<div>\n",
       "<style scoped>\n",
       "    .dataframe tbody tr th:only-of-type {\n",
       "        vertical-align: middle;\n",
       "    }\n",
       "\n",
       "    .dataframe tbody tr th {\n",
       "        vertical-align: top;\n",
       "    }\n",
       "\n",
       "    .dataframe thead th {\n",
       "        text-align: right;\n",
       "    }\n",
       "</style>\n",
       "<table border=\"1\" class=\"dataframe\">\n",
       "  <thead>\n",
       "    <tr style=\"text-align: right;\">\n",
       "      <th></th>\n",
       "      <th>Arsenal</th>\n",
       "      <th>Aston Villa</th>\n",
       "      <th>Bournemouth</th>\n",
       "      <th>Brighton</th>\n",
       "      <th>Burnley</th>\n",
       "      <th>Chelsea</th>\n",
       "      <th>Crystal Palace</th>\n",
       "      <th>Everton</th>\n",
       "      <th>Leicester</th>\n",
       "      <th>Liverpool</th>\n",
       "      <th>Man City</th>\n",
       "      <th>Man Utd</th>\n",
       "      <th>Newcastle</th>\n",
       "      <th>Norwich</th>\n",
       "      <th>Sheffield Utd</th>\n",
       "      <th>Southampton</th>\n",
       "      <th>Spurs</th>\n",
       "      <th>Watford</th>\n",
       "      <th>West Ham</th>\n",
       "      <th>Wolves</th>\n",
       "    </tr>\n",
       "    <tr>\n",
       "      <th>Gameweek</th>\n",
       "      <th></th>\n",
       "      <th></th>\n",
       "      <th></th>\n",
       "      <th></th>\n",
       "      <th></th>\n",
       "      <th></th>\n",
       "      <th></th>\n",
       "      <th></th>\n",
       "      <th></th>\n",
       "      <th></th>\n",
       "      <th></th>\n",
       "      <th></th>\n",
       "      <th></th>\n",
       "      <th></th>\n",
       "      <th></th>\n",
       "      <th></th>\n",
       "      <th></th>\n",
       "      <th></th>\n",
       "      <th></th>\n",
       "      <th></th>\n",
       "    </tr>\n",
       "  </thead>\n",
       "  <tbody>\n",
       "    <tr>\n",
       "      <th>0</th>\n",
       "      <td>NEW</td>\n",
       "      <td>TOT</td>\n",
       "      <td>SHU</td>\n",
       "      <td>WAT</td>\n",
       "      <td>SOU</td>\n",
       "      <td>MUN</td>\n",
       "      <td>EVE</td>\n",
       "      <td>CRY</td>\n",
       "      <td>WOL</td>\n",
       "      <td>NOR</td>\n",
       "      <td>WHU</td>\n",
       "      <td>CHE</td>\n",
       "      <td>ARS</td>\n",
       "      <td>LIV</td>\n",
       "      <td>BOU</td>\n",
       "      <td>BUR</td>\n",
       "      <td>AVL</td>\n",
       "      <td>BHA</td>\n",
       "      <td>MCI</td>\n",
       "      <td>LEI</td>\n",
       "    </tr>\n",
       "    <tr>\n",
       "      <th>1</th>\n",
       "      <td>BUR</td>\n",
       "      <td>BOU</td>\n",
       "      <td>AVL</td>\n",
       "      <td>WHU</td>\n",
       "      <td>ARS</td>\n",
       "      <td>LEI</td>\n",
       "      <td>SHU</td>\n",
       "      <td>WAT</td>\n",
       "      <td>CHE</td>\n",
       "      <td>SOU</td>\n",
       "      <td>TOT</td>\n",
       "      <td>WOL</td>\n",
       "      <td>NOR</td>\n",
       "      <td>NEW</td>\n",
       "      <td>CRY</td>\n",
       "      <td>LIV</td>\n",
       "      <td>MCI</td>\n",
       "      <td>EVE</td>\n",
       "      <td>BHA</td>\n",
       "      <td>MUN</td>\n",
       "    </tr>\n",
       "    <tr>\n",
       "      <th>2</th>\n",
       "      <td>LIV</td>\n",
       "      <td>EVE</td>\n",
       "      <td>MCI</td>\n",
       "      <td>SOU</td>\n",
       "      <td>WOL</td>\n",
       "      <td>NOR</td>\n",
       "      <td>MUN</td>\n",
       "      <td>AVL</td>\n",
       "      <td>SHU</td>\n",
       "      <td>ARS</td>\n",
       "      <td>BOU</td>\n",
       "      <td>CRY</td>\n",
       "      <td>TOT</td>\n",
       "      <td>CHE</td>\n",
       "      <td>LEI</td>\n",
       "      <td>BHA</td>\n",
       "      <td>NEW</td>\n",
       "      <td>WHU</td>\n",
       "      <td>WAT</td>\n",
       "      <td>BUR</td>\n",
       "    </tr>\n",
       "    <tr>\n",
       "      <th>3</th>\n",
       "      <td>TOT</td>\n",
       "      <td>CRY</td>\n",
       "      <td>LEI</td>\n",
       "      <td>MCI</td>\n",
       "      <td>LIV</td>\n",
       "      <td>SHU</td>\n",
       "      <td>AVL</td>\n",
       "      <td>WOL</td>\n",
       "      <td>BOU</td>\n",
       "      <td>BUR</td>\n",
       "      <td>BHA</td>\n",
       "      <td>SOU</td>\n",
       "      <td>WAT</td>\n",
       "      <td>WHU</td>\n",
       "      <td>CHE</td>\n",
       "      <td>MUN</td>\n",
       "      <td>ARS</td>\n",
       "      <td>NEW</td>\n",
       "      <td>NOR</td>\n",
       "      <td>EVE</td>\n",
       "    </tr>\n",
       "    <tr>\n",
       "      <th>4</th>\n",
       "      <td>WAT</td>\n",
       "      <td>WHU</td>\n",
       "      <td>EVE</td>\n",
       "      <td>BUR</td>\n",
       "      <td>BHA</td>\n",
       "      <td>WOL</td>\n",
       "      <td>TOT</td>\n",
       "      <td>BOU</td>\n",
       "      <td>MUN</td>\n",
       "      <td>NEW</td>\n",
       "      <td>NOR</td>\n",
       "      <td>LEI</td>\n",
       "      <td>LIV</td>\n",
       "      <td>MCI</td>\n",
       "      <td>SOU</td>\n",
       "      <td>SHU</td>\n",
       "      <td>CRY</td>\n",
       "      <td>ARS</td>\n",
       "      <td>AVL</td>\n",
       "      <td>CHE</td>\n",
       "    </tr>\n",
       "  </tbody>\n",
       "</table>\n",
       "</div>"
      ],
      "text/plain": [
       "         Arsenal Aston Villa Bournemouth Brighton Burnley Chelsea  \\\n",
       "Gameweek                                                            \n",
       "0            NEW         TOT         SHU      WAT     SOU     MUN   \n",
       "1            BUR         BOU         AVL      WHU     ARS     LEI   \n",
       "2            LIV         EVE         MCI      SOU     WOL     NOR   \n",
       "3            TOT         CRY         LEI      MCI     LIV     SHU   \n",
       "4            WAT         WHU         EVE      BUR     BHA     WOL   \n",
       "\n",
       "         Crystal Palace Everton Leicester Liverpool Man City Man Utd  \\\n",
       "Gameweek                                                               \n",
       "0                   EVE     CRY       WOL       NOR      WHU     CHE   \n",
       "1                   SHU     WAT       CHE       SOU      TOT     WOL   \n",
       "2                   MUN     AVL       SHU       ARS      BOU     CRY   \n",
       "3                   AVL     WOL       BOU       BUR      BHA     SOU   \n",
       "4                   TOT     BOU       MUN       NEW      NOR     LEI   \n",
       "\n",
       "         Newcastle Norwich Sheffield Utd Southampton Spurs Watford West Ham  \\\n",
       "Gameweek                                                                      \n",
       "0              ARS     LIV           BOU         BUR   AVL     BHA      MCI   \n",
       "1              NOR     NEW           CRY         LIV   MCI     EVE      BHA   \n",
       "2              TOT     CHE           LEI         BHA   NEW     WHU      WAT   \n",
       "3              WAT     WHU           CHE         MUN   ARS     NEW      NOR   \n",
       "4              LIV     MCI           SOU         SHU   CRY     ARS      AVL   \n",
       "\n",
       "         Wolves  \n",
       "Gameweek         \n",
       "0           LEI  \n",
       "1           MUN  \n",
       "2           BUR  \n",
       "3           EVE  \n",
       "4           CHE  "
      ]
     },
     "execution_count": 35,
     "metadata": {},
     "output_type": "execute_result"
    }
   ],
   "source": [
    "schedule_df.head()"
   ]
  },
  {
   "cell_type": "code",
   "execution_count": 36,
   "metadata": {
    "scrolled": true
   },
   "outputs": [
    {
     "data": {
      "text/plain": [
       "Gameweek\n",
       "0    NEW\n",
       "1    BUR\n",
       "2    LIV\n",
       "Name: Arsenal, dtype: object"
      ]
     },
     "execution_count": 36,
     "metadata": {},
     "output_type": "execute_result"
    }
   ],
   "source": [
    "schedule_df.Arsenal[0:3]"
   ]
  },
  {
   "cell_type": "markdown",
   "metadata": {},
   "source": [
    "## Create FDR scores for calculating next-n opponents AVG strength"
   ]
  },
  {
   "cell_type": "code",
   "execution_count": 37,
   "metadata": {},
   "outputs": [],
   "source": [
    "scores = list(zip(team_df.short_name, team_df.strength))"
   ]
  },
  {
   "cell_type": "code",
   "execution_count": 38,
   "metadata": {
    "scrolled": false
   },
   "outputs": [],
   "source": [
    "scores = dict(scores)"
   ]
  },
  {
   "cell_type": "code",
   "execution_count": 200,
   "metadata": {
    "scrolled": true
   },
   "outputs": [
    {
     "data": {
      "text/plain": [
       "[('LIV', 5),\n",
       " ('MCI', 5),\n",
       " ('ARS', 4),\n",
       " ('CHE', 4),\n",
       " ('MUN', 4),\n",
       " ('TOT', 4),\n",
       " ('BOU', 3),\n",
       " ('BUR', 3),\n",
       " ('CRY', 3),\n",
       " ('EVE', 3),\n",
       " ('LEI', 3),\n",
       " ('NEW', 3),\n",
       " ('SOU', 3),\n",
       " ('WAT', 3),\n",
       " ('WHU', 3),\n",
       " ('WOL', 3),\n",
       " ('AVL', 2),\n",
       " ('BHA', 2),\n",
       " ('NOR', 2),\n",
       " ('SHU', 2)]"
      ]
     },
     "execution_count": 200,
     "metadata": {},
     "output_type": "execute_result"
    }
   ],
   "source": [
    "sorted(scores.items(), key = lambda x: x[1], reverse = True)"
   ]
  },
  {
   "cell_type": "code",
   "execution_count": 186,
   "metadata": {},
   "outputs": [],
   "source": [
    "def avg_FDR(week = gameweek, periods = next_n_games):\n",
    "    dic = {}\n",
    "    for team in schedule_df.columns:\n",
    "        oponents = schedule_df[team][(week-1):(week+periods)]\n",
    "        avg_FDR = round(sum([scores[oponent] for oponent in oponents])/len(oponents), 2)\n",
    "        dic[team] = avg_FDR\n",
    "    return dic"
   ]
  },
  {
   "cell_type": "code",
   "execution_count": 189,
   "metadata": {},
   "outputs": [],
   "source": [
    "calculate_FDR = avg_FDR()"
   ]
  },
  {
   "cell_type": "code",
   "execution_count": 190,
   "metadata": {
    "scrolled": false
   },
   "outputs": [
    {
     "data": {
      "text/plain": [
       "{'Arsenal': 4.0,\n",
       " 'Aston Villa': 3.0,\n",
       " 'Bournemouth': 3.33,\n",
       " 'Brighton': 3.67,\n",
       " 'Burnley': 4.0,\n",
       " 'Chelsea': 2.33,\n",
       " 'Crystal Palace': 2.67,\n",
       " 'Everton': 2.67,\n",
       " 'Leicester': 3.0,\n",
       " 'Liverpool': 3.33,\n",
       " 'Man City': 3.0,\n",
       " 'Man Utd': 3.0,\n",
       " 'Newcastle': 3.0,\n",
       " 'Norwich': 3.33,\n",
       " 'Sheffield Utd': 3.33,\n",
       " 'Southampton': 3.67,\n",
       " 'Spurs': 4.0,\n",
       " 'Watford': 3.0,\n",
       " 'West Ham': 2.33,\n",
       " 'Wolves': 3.33}"
      ]
     },
     "execution_count": 190,
     "metadata": {},
     "output_type": "execute_result"
    }
   ],
   "source": [
    "calculate_FDR"
   ]
  },
  {
   "cell_type": "code",
   "execution_count": 191,
   "metadata": {},
   "outputs": [],
   "source": [
    "sorted_FDR = sorted(calculate_FDR.items(), key=lambda x: x[1], reverse=True)"
   ]
  },
  {
   "cell_type": "code",
   "execution_count": 194,
   "metadata": {},
   "outputs": [
    {
     "data": {
      "text/plain": [
       "[('Arsenal', 4.0),\n",
       " ('Burnley', 4.0),\n",
       " ('Spurs', 4.0),\n",
       " ('Brighton', 3.67),\n",
       " ('Southampton', 3.67),\n",
       " ('Bournemouth', 3.33),\n",
       " ('Liverpool', 3.33),\n",
       " ('Norwich', 3.33),\n",
       " ('Sheffield Utd', 3.33),\n",
       " ('Wolves', 3.33),\n",
       " ('Aston Villa', 3.0),\n",
       " ('Leicester', 3.0),\n",
       " ('Man City', 3.0),\n",
       " ('Man Utd', 3.0),\n",
       " ('Newcastle', 3.0),\n",
       " ('Watford', 3.0),\n",
       " ('Crystal Palace', 2.67),\n",
       " ('Everton', 2.67),\n",
       " ('Chelsea', 2.33),\n",
       " ('West Ham', 2.33)]"
      ]
     },
     "execution_count": 194,
     "metadata": {},
     "output_type": "execute_result"
    }
   ],
   "source": [
    "sorted_FDR"
   ]
  },
  {
   "cell_type": "markdown",
   "metadata": {},
   "source": [
    "## Clean final list of available players by FDR score <= 3.56 and status = 'available'"
   ]
  },
  {
   "cell_type": "code",
   "execution_count": 43,
   "metadata": {
    "scrolled": false
   },
   "outputs": [
    {
     "data": {
      "text/html": [
       "<div>\n",
       "<style scoped>\n",
       "    .dataframe tbody tr th:only-of-type {\n",
       "        vertical-align: middle;\n",
       "    }\n",
       "\n",
       "    .dataframe tbody tr th {\n",
       "        vertical-align: top;\n",
       "    }\n",
       "\n",
       "    .dataframe thead th {\n",
       "        text-align: right;\n",
       "    }\n",
       "</style>\n",
       "<table border=\"1\" class=\"dataframe\">\n",
       "  <thead>\n",
       "    <tr style=\"text-align: right;\">\n",
       "      <th></th>\n",
       "      <th>bonus</th>\n",
       "      <th>cost</th>\n",
       "      <th>minutes</th>\n",
       "      <th>name</th>\n",
       "      <th>position</th>\n",
       "      <th>pts_per_90min</th>\n",
       "      <th>red_cards</th>\n",
       "      <th>roi</th>\n",
       "      <th>status</th>\n",
       "      <th>team_code</th>\n",
       "      <th>team_name</th>\n",
       "      <th>total_points</th>\n",
       "      <th>transfers_in</th>\n",
       "      <th>transfers_out</th>\n",
       "    </tr>\n",
       "  </thead>\n",
       "  <tbody>\n",
       "    <tr>\n",
       "      <th>132</th>\n",
       "      <td>2</td>\n",
       "      <td>4.5</td>\n",
       "      <td>90</td>\n",
       "      <td>Erik Pieters</td>\n",
       "      <td>Defender</td>\n",
       "      <td>13.85</td>\n",
       "      <td>0</td>\n",
       "      <td>3.11</td>\n",
       "      <td>available</td>\n",
       "      <td>90</td>\n",
       "      <td>Burnley</td>\n",
       "      <td>14</td>\n",
       "      <td>80271</td>\n",
       "      <td>8499</td>\n",
       "    </tr>\n",
       "    <tr>\n",
       "      <th>90</th>\n",
       "      <td>3</td>\n",
       "      <td>4.5</td>\n",
       "      <td>90</td>\n",
       "      <td>Lewis Dunk</td>\n",
       "      <td>Defender</td>\n",
       "      <td>10.88</td>\n",
       "      <td>0</td>\n",
       "      <td>2.44</td>\n",
       "      <td>available</td>\n",
       "      <td>36</td>\n",
       "      <td>Brighton</td>\n",
       "      <td>11</td>\n",
       "      <td>91120</td>\n",
       "      <td>10446</td>\n",
       "    </tr>\n",
       "    <tr>\n",
       "      <th>3</th>\n",
       "      <td>3</td>\n",
       "      <td>5.0</td>\n",
       "      <td>90</td>\n",
       "      <td>Ainsley Maitland-Niles</td>\n",
       "      <td>Defender</td>\n",
       "      <td>11.87</td>\n",
       "      <td>0</td>\n",
       "      <td>2.40</td>\n",
       "      <td>available</td>\n",
       "      <td>3</td>\n",
       "      <td>Arsenal</td>\n",
       "      <td>12</td>\n",
       "      <td>83757</td>\n",
       "      <td>7687</td>\n",
       "    </tr>\n",
       "    <tr>\n",
       "      <th>59</th>\n",
       "      <td>2</td>\n",
       "      <td>4.5</td>\n",
       "      <td>90</td>\n",
       "      <td>Chris Mepham</td>\n",
       "      <td>Defender</td>\n",
       "      <td>9.89</td>\n",
       "      <td>0</td>\n",
       "      <td>2.22</td>\n",
       "      <td>available</td>\n",
       "      <td>91</td>\n",
       "      <td>Bournemouth</td>\n",
       "      <td>10</td>\n",
       "      <td>31393</td>\n",
       "      <td>4260</td>\n",
       "    </tr>\n",
       "    <tr>\n",
       "      <th>242</th>\n",
       "      <td>3</td>\n",
       "      <td>5.5</td>\n",
       "      <td>73</td>\n",
       "      <td>Divock Origi</td>\n",
       "      <td>Forward</td>\n",
       "      <td>14.59</td>\n",
       "      <td>0</td>\n",
       "      <td>2.18</td>\n",
       "      <td>available</td>\n",
       "      <td>14</td>\n",
       "      <td>Liverpool</td>\n",
       "      <td>12</td>\n",
       "      <td>144461</td>\n",
       "      <td>20847</td>\n",
       "    </tr>\n",
       "  </tbody>\n",
       "</table>\n",
       "</div>"
      ],
      "text/plain": [
       "     bonus  cost  minutes                    name  position  pts_per_90min  \\\n",
       "132      2   4.5       90            Erik Pieters  Defender          13.85   \n",
       "90       3   4.5       90              Lewis Dunk  Defender          10.88   \n",
       "3        3   5.0       90  Ainsley Maitland-Niles  Defender          11.87   \n",
       "59       2   4.5       90            Chris Mepham  Defender           9.89   \n",
       "242      3   5.5       73            Divock Origi   Forward          14.59   \n",
       "\n",
       "     red_cards   roi     status  team_code    team_name  total_points  \\\n",
       "132          0  3.11  available         90      Burnley            14   \n",
       "90           0  2.44  available         36     Brighton            11   \n",
       "3            0  2.40  available          3      Arsenal            12   \n",
       "59           0  2.22  available         91  Bournemouth            10   \n",
       "242          0  2.18  available         14    Liverpool            12   \n",
       "\n",
       "     transfers_in  transfers_out  \n",
       "132         80271           8499  \n",
       "90          91120          10446  \n",
       "3           83757           7687  \n",
       "59          31393           4260  \n",
       "242        144461          20847  "
      ]
     },
     "execution_count": 43,
     "metadata": {},
     "output_type": "execute_result"
    }
   ],
   "source": [
    "player_df.head()"
   ]
  },
  {
   "cell_type": "code",
   "execution_count": 44,
   "metadata": {},
   "outputs": [
    {
     "data": {
      "text/plain": [
       "(526, 14)"
      ]
     },
     "execution_count": 44,
     "metadata": {},
     "output_type": "execute_result"
    }
   ],
   "source": [
    "player_df.shape"
   ]
  },
  {
   "cell_type": "code",
   "execution_count": 45,
   "metadata": {},
   "outputs": [],
   "source": [
    "clean_df = player_df[player_df.status == 'available']"
   ]
  },
  {
   "cell_type": "code",
   "execution_count": 46,
   "metadata": {
    "scrolled": true
   },
   "outputs": [
    {
     "data": {
      "text/plain": [
       "available    435\n",
       "Name: status, dtype: int64"
      ]
     },
     "execution_count": 46,
     "metadata": {},
     "output_type": "execute_result"
    }
   ],
   "source": [
    "clean_df.status.value_counts()"
   ]
  },
  {
   "cell_type": "markdown",
   "metadata": {},
   "source": [
    "## Remove teams with FDR scores > 3.56 from DF - optional"
   ]
  },
  {
   "cell_type": "code",
   "execution_count": 47,
   "metadata": {},
   "outputs": [],
   "source": [
    "teams_low_FDR = [key for (key,value) in calculate_FDR.items() if value <= 3.56]"
   ]
  },
  {
   "cell_type": "code",
   "execution_count": 48,
   "metadata": {},
   "outputs": [
    {
     "data": {
      "text/plain": [
       "['Aston Villa',\n",
       " 'Bournemouth',\n",
       " 'Chelsea',\n",
       " 'Crystal Palace',\n",
       " 'Everton',\n",
       " 'Leicester',\n",
       " 'Liverpool',\n",
       " 'Man City',\n",
       " 'Man Utd',\n",
       " 'Newcastle',\n",
       " 'Norwich',\n",
       " 'Sheffield Utd',\n",
       " 'Watford',\n",
       " 'West Ham',\n",
       " 'Wolves']"
      ]
     },
     "execution_count": 48,
     "metadata": {},
     "output_type": "execute_result"
    }
   ],
   "source": [
    "teams_low_FDR"
   ]
  },
  {
   "cell_type": "code",
   "execution_count": 49,
   "metadata": {
    "scrolled": false
   },
   "outputs": [
    {
     "data": {
      "text/html": [
       "<div>\n",
       "<style scoped>\n",
       "    .dataframe tbody tr th:only-of-type {\n",
       "        vertical-align: middle;\n",
       "    }\n",
       "\n",
       "    .dataframe tbody tr th {\n",
       "        vertical-align: top;\n",
       "    }\n",
       "\n",
       "    .dataframe thead th {\n",
       "        text-align: right;\n",
       "    }\n",
       "</style>\n",
       "<table border=\"1\" class=\"dataframe\">\n",
       "  <thead>\n",
       "    <tr style=\"text-align: right;\">\n",
       "      <th></th>\n",
       "      <th>bonus</th>\n",
       "      <th>cost</th>\n",
       "      <th>minutes</th>\n",
       "      <th>name</th>\n",
       "      <th>position</th>\n",
       "      <th>pts_per_90min</th>\n",
       "      <th>red_cards</th>\n",
       "      <th>roi</th>\n",
       "      <th>status</th>\n",
       "      <th>team_code</th>\n",
       "      <th>team_name</th>\n",
       "      <th>total_points</th>\n",
       "      <th>transfers_in</th>\n",
       "      <th>transfers_out</th>\n",
       "    </tr>\n",
       "  </thead>\n",
       "  <tbody>\n",
       "    <tr>\n",
       "      <th>132</th>\n",
       "      <td>2</td>\n",
       "      <td>4.5</td>\n",
       "      <td>90</td>\n",
       "      <td>Erik Pieters</td>\n",
       "      <td>Defender</td>\n",
       "      <td>13.85</td>\n",
       "      <td>0</td>\n",
       "      <td>3.11</td>\n",
       "      <td>available</td>\n",
       "      <td>90</td>\n",
       "      <td>Burnley</td>\n",
       "      <td>14</td>\n",
       "      <td>80271</td>\n",
       "      <td>8499</td>\n",
       "    </tr>\n",
       "    <tr>\n",
       "      <th>90</th>\n",
       "      <td>3</td>\n",
       "      <td>4.5</td>\n",
       "      <td>90</td>\n",
       "      <td>Lewis Dunk</td>\n",
       "      <td>Defender</td>\n",
       "      <td>10.88</td>\n",
       "      <td>0</td>\n",
       "      <td>2.44</td>\n",
       "      <td>available</td>\n",
       "      <td>36</td>\n",
       "      <td>Brighton</td>\n",
       "      <td>11</td>\n",
       "      <td>91120</td>\n",
       "      <td>10446</td>\n",
       "    </tr>\n",
       "    <tr>\n",
       "      <th>3</th>\n",
       "      <td>3</td>\n",
       "      <td>5.0</td>\n",
       "      <td>90</td>\n",
       "      <td>Ainsley Maitland-Niles</td>\n",
       "      <td>Defender</td>\n",
       "      <td>11.87</td>\n",
       "      <td>0</td>\n",
       "      <td>2.40</td>\n",
       "      <td>available</td>\n",
       "      <td>3</td>\n",
       "      <td>Arsenal</td>\n",
       "      <td>12</td>\n",
       "      <td>83757</td>\n",
       "      <td>7687</td>\n",
       "    </tr>\n",
       "    <tr>\n",
       "      <th>59</th>\n",
       "      <td>2</td>\n",
       "      <td>4.5</td>\n",
       "      <td>90</td>\n",
       "      <td>Chris Mepham</td>\n",
       "      <td>Defender</td>\n",
       "      <td>9.89</td>\n",
       "      <td>0</td>\n",
       "      <td>2.22</td>\n",
       "      <td>available</td>\n",
       "      <td>91</td>\n",
       "      <td>Bournemouth</td>\n",
       "      <td>10</td>\n",
       "      <td>31393</td>\n",
       "      <td>4260</td>\n",
       "    </tr>\n",
       "    <tr>\n",
       "      <th>242</th>\n",
       "      <td>3</td>\n",
       "      <td>5.5</td>\n",
       "      <td>73</td>\n",
       "      <td>Divock Origi</td>\n",
       "      <td>Forward</td>\n",
       "      <td>14.59</td>\n",
       "      <td>0</td>\n",
       "      <td>2.18</td>\n",
       "      <td>available</td>\n",
       "      <td>14</td>\n",
       "      <td>Liverpool</td>\n",
       "      <td>12</td>\n",
       "      <td>144461</td>\n",
       "      <td>20847</td>\n",
       "    </tr>\n",
       "  </tbody>\n",
       "</table>\n",
       "</div>"
      ],
      "text/plain": [
       "     bonus  cost  minutes                    name  position  pts_per_90min  \\\n",
       "132      2   4.5       90            Erik Pieters  Defender          13.85   \n",
       "90       3   4.5       90              Lewis Dunk  Defender          10.88   \n",
       "3        3   5.0       90  Ainsley Maitland-Niles  Defender          11.87   \n",
       "59       2   4.5       90            Chris Mepham  Defender           9.89   \n",
       "242      3   5.5       73            Divock Origi   Forward          14.59   \n",
       "\n",
       "     red_cards   roi     status  team_code    team_name  total_points  \\\n",
       "132          0  3.11  available         90      Burnley            14   \n",
       "90           0  2.44  available         36     Brighton            11   \n",
       "3            0  2.40  available          3      Arsenal            12   \n",
       "59           0  2.22  available         91  Bournemouth            10   \n",
       "242          0  2.18  available         14    Liverpool            12   \n",
       "\n",
       "     transfers_in  transfers_out  \n",
       "132         80271           8499  \n",
       "90          91120          10446  \n",
       "3           83757           7687  \n",
       "59          31393           4260  \n",
       "242        144461          20847  "
      ]
     },
     "execution_count": 49,
     "metadata": {},
     "output_type": "execute_result"
    }
   ],
   "source": [
    "clean_df.head()"
   ]
  },
  {
   "cell_type": "code",
   "execution_count": 50,
   "metadata": {},
   "outputs": [],
   "source": [
    "final_df = clean_df.loc[clean_df.team_name.isin(teams_low_FDR)]"
   ]
  },
  {
   "cell_type": "code",
   "execution_count": 51,
   "metadata": {
    "scrolled": true
   },
   "outputs": [
    {
     "data": {
      "text/html": [
       "<div>\n",
       "<style scoped>\n",
       "    .dataframe tbody tr th:only-of-type {\n",
       "        vertical-align: middle;\n",
       "    }\n",
       "\n",
       "    .dataframe tbody tr th {\n",
       "        vertical-align: top;\n",
       "    }\n",
       "\n",
       "    .dataframe thead th {\n",
       "        text-align: right;\n",
       "    }\n",
       "</style>\n",
       "<table border=\"1\" class=\"dataframe\">\n",
       "  <thead>\n",
       "    <tr style=\"text-align: right;\">\n",
       "      <th></th>\n",
       "      <th>bonus</th>\n",
       "      <th>cost</th>\n",
       "      <th>minutes</th>\n",
       "      <th>name</th>\n",
       "      <th>position</th>\n",
       "      <th>pts_per_90min</th>\n",
       "      <th>red_cards</th>\n",
       "      <th>roi</th>\n",
       "      <th>status</th>\n",
       "      <th>team_code</th>\n",
       "      <th>team_name</th>\n",
       "      <th>total_points</th>\n",
       "      <th>transfers_in</th>\n",
       "      <th>transfers_out</th>\n",
       "    </tr>\n",
       "  </thead>\n",
       "  <tbody>\n",
       "    <tr>\n",
       "      <th>59</th>\n",
       "      <td>2</td>\n",
       "      <td>4.5</td>\n",
       "      <td>90</td>\n",
       "      <td>Chris Mepham</td>\n",
       "      <td>Defender</td>\n",
       "      <td>9.89</td>\n",
       "      <td>0</td>\n",
       "      <td>2.22</td>\n",
       "      <td>available</td>\n",
       "      <td>91</td>\n",
       "      <td>Bournemouth</td>\n",
       "      <td>10</td>\n",
       "      <td>31393</td>\n",
       "      <td>4260</td>\n",
       "    </tr>\n",
       "    <tr>\n",
       "      <th>242</th>\n",
       "      <td>3</td>\n",
       "      <td>5.5</td>\n",
       "      <td>73</td>\n",
       "      <td>Divock Origi</td>\n",
       "      <td>Forward</td>\n",
       "      <td>14.59</td>\n",
       "      <td>0</td>\n",
       "      <td>2.18</td>\n",
       "      <td>available</td>\n",
       "      <td>14</td>\n",
       "      <td>Liverpool</td>\n",
       "      <td>12</td>\n",
       "      <td>144461</td>\n",
       "      <td>20847</td>\n",
       "    </tr>\n",
       "    <tr>\n",
       "      <th>295</th>\n",
       "      <td>2</td>\n",
       "      <td>5.5</td>\n",
       "      <td>90</td>\n",
       "      <td>David de Gea</td>\n",
       "      <td>Goalkeeper</td>\n",
       "      <td>9.89</td>\n",
       "      <td>0</td>\n",
       "      <td>1.82</td>\n",
       "      <td>available</td>\n",
       "      <td>1</td>\n",
       "      <td>Man Utd</td>\n",
       "      <td>10</td>\n",
       "      <td>224711</td>\n",
       "      <td>21182</td>\n",
       "    </tr>\n",
       "    <tr>\n",
       "      <th>507</th>\n",
       "      <td>3</td>\n",
       "      <td>5.0</td>\n",
       "      <td>90</td>\n",
       "      <td>Willy Boly</td>\n",
       "      <td>Defender</td>\n",
       "      <td>8.90</td>\n",
       "      <td>0</td>\n",
       "      <td>1.80</td>\n",
       "      <td>available</td>\n",
       "      <td>39</td>\n",
       "      <td>Wolves</td>\n",
       "      <td>9</td>\n",
       "      <td>18671</td>\n",
       "      <td>14669</td>\n",
       "    </tr>\n",
       "    <tr>\n",
       "      <th>269</th>\n",
       "      <td>3</td>\n",
       "      <td>12.0</td>\n",
       "      <td>90</td>\n",
       "      <td>Raheem Sterling</td>\n",
       "      <td>Midfielder</td>\n",
       "      <td>19.78</td>\n",
       "      <td>0</td>\n",
       "      <td>1.67</td>\n",
       "      <td>available</td>\n",
       "      <td>43</td>\n",
       "      <td>Man City</td>\n",
       "      <td>20</td>\n",
       "      <td>229707</td>\n",
       "      <td>13322</td>\n",
       "    </tr>\n",
       "    <tr>\n",
       "      <th>272</th>\n",
       "      <td>2</td>\n",
       "      <td>8.5</td>\n",
       "      <td>90</td>\n",
       "      <td>Riyad Mahrez</td>\n",
       "      <td>Midfielder</td>\n",
       "      <td>13.85</td>\n",
       "      <td>0</td>\n",
       "      <td>1.65</td>\n",
       "      <td>available</td>\n",
       "      <td>43</td>\n",
       "      <td>Man City</td>\n",
       "      <td>14</td>\n",
       "      <td>86025</td>\n",
       "      <td>12839</td>\n",
       "    </tr>\n",
       "    <tr>\n",
       "      <th>185</th>\n",
       "      <td>3</td>\n",
       "      <td>5.5</td>\n",
       "      <td>90</td>\n",
       "      <td>Yerry Mina</td>\n",
       "      <td>Defender</td>\n",
       "      <td>8.90</td>\n",
       "      <td>0</td>\n",
       "      <td>1.64</td>\n",
       "      <td>available</td>\n",
       "      <td>11</td>\n",
       "      <td>Everton</td>\n",
       "      <td>9</td>\n",
       "      <td>27630</td>\n",
       "      <td>6216</td>\n",
       "    </tr>\n",
       "    <tr>\n",
       "      <th>293</th>\n",
       "      <td>3</td>\n",
       "      <td>8.5</td>\n",
       "      <td>85</td>\n",
       "      <td>Marcus Rashford</td>\n",
       "      <td>Forward</td>\n",
       "      <td>13.60</td>\n",
       "      <td>0</td>\n",
       "      <td>1.53</td>\n",
       "      <td>available</td>\n",
       "      <td>1</td>\n",
       "      <td>Man Utd</td>\n",
       "      <td>13</td>\n",
       "      <td>208412</td>\n",
       "      <td>25055</td>\n",
       "    </tr>\n",
       "    <tr>\n",
       "      <th>209</th>\n",
       "      <td>3</td>\n",
       "      <td>6.0</td>\n",
       "      <td>90</td>\n",
       "      <td>Ricardo Domingos Barbosa Pereira</td>\n",
       "      <td>Defender</td>\n",
       "      <td>8.90</td>\n",
       "      <td>0</td>\n",
       "      <td>1.50</td>\n",
       "      <td>available</td>\n",
       "      <td>13</td>\n",
       "      <td>Leicester</td>\n",
       "      <td>9</td>\n",
       "      <td>11040</td>\n",
       "      <td>13809</td>\n",
       "    </tr>\n",
       "    <tr>\n",
       "      <th>166</th>\n",
       "      <td>0</td>\n",
       "      <td>4.0</td>\n",
       "      <td>90</td>\n",
       "      <td>Martin Kelly</td>\n",
       "      <td>Defender</td>\n",
       "      <td>5.93</td>\n",
       "      <td>0</td>\n",
       "      <td>1.50</td>\n",
       "      <td>available</td>\n",
       "      <td>31</td>\n",
       "      <td>Crystal Palace</td>\n",
       "      <td>6</td>\n",
       "      <td>90436</td>\n",
       "      <td>19602</td>\n",
       "    </tr>\n",
       "    <tr>\n",
       "      <th>186</th>\n",
       "      <td>2</td>\n",
       "      <td>5.5</td>\n",
       "      <td>90</td>\n",
       "      <td>Michael Keane</td>\n",
       "      <td>Defender</td>\n",
       "      <td>7.91</td>\n",
       "      <td>0</td>\n",
       "      <td>1.45</td>\n",
       "      <td>available</td>\n",
       "      <td>11</td>\n",
       "      <td>Everton</td>\n",
       "      <td>8</td>\n",
       "      <td>10784</td>\n",
       "      <td>6410</td>\n",
       "    </tr>\n",
       "    <tr>\n",
       "      <th>281</th>\n",
       "      <td>2</td>\n",
       "      <td>5.5</td>\n",
       "      <td>90</td>\n",
       "      <td>Aaron Wan-Bissaka</td>\n",
       "      <td>Defender</td>\n",
       "      <td>7.91</td>\n",
       "      <td>0</td>\n",
       "      <td>1.45</td>\n",
       "      <td>available</td>\n",
       "      <td>1</td>\n",
       "      <td>Man Utd</td>\n",
       "      <td>8</td>\n",
       "      <td>88115</td>\n",
       "      <td>34226</td>\n",
       "    </tr>\n",
       "    <tr>\n",
       "      <th>211</th>\n",
       "      <td>1</td>\n",
       "      <td>5.0</td>\n",
       "      <td>90</td>\n",
       "      <td>Jonny Evans</td>\n",
       "      <td>Defender</td>\n",
       "      <td>6.92</td>\n",
       "      <td>0</td>\n",
       "      <td>1.40</td>\n",
       "      <td>available</td>\n",
       "      <td>13</td>\n",
       "      <td>Leicester</td>\n",
       "      <td>7</td>\n",
       "      <td>3936</td>\n",
       "      <td>2227</td>\n",
       "    </tr>\n",
       "    <tr>\n",
       "      <th>259</th>\n",
       "      <td>0</td>\n",
       "      <td>6.0</td>\n",
       "      <td>90</td>\n",
       "      <td>Kyle Walker</td>\n",
       "      <td>Defender</td>\n",
       "      <td>7.91</td>\n",
       "      <td>0</td>\n",
       "      <td>1.33</td>\n",
       "      <td>available</td>\n",
       "      <td>43</td>\n",
       "      <td>Man City</td>\n",
       "      <td>8</td>\n",
       "      <td>55654</td>\n",
       "      <td>33292</td>\n",
       "    </tr>\n",
       "    <tr>\n",
       "      <th>48</th>\n",
       "      <td>2</td>\n",
       "      <td>4.5</td>\n",
       "      <td>90</td>\n",
       "      <td>Tyrone Mings</td>\n",
       "      <td>Defender</td>\n",
       "      <td>5.93</td>\n",
       "      <td>0</td>\n",
       "      <td>1.33</td>\n",
       "      <td>available</td>\n",
       "      <td>7</td>\n",
       "      <td>Aston Villa</td>\n",
       "      <td>6</td>\n",
       "      <td>19357</td>\n",
       "      <td>4500</td>\n",
       "    </tr>\n",
       "  </tbody>\n",
       "</table>\n",
       "</div>"
      ],
      "text/plain": [
       "     bonus  cost  minutes                              name    position  \\\n",
       "59       2   4.5       90                      Chris Mepham    Defender   \n",
       "242      3   5.5       73                      Divock Origi     Forward   \n",
       "295      2   5.5       90                      David de Gea  Goalkeeper   \n",
       "507      3   5.0       90                        Willy Boly    Defender   \n",
       "269      3  12.0       90                   Raheem Sterling  Midfielder   \n",
       "272      2   8.5       90                      Riyad Mahrez  Midfielder   \n",
       "185      3   5.5       90                        Yerry Mina    Defender   \n",
       "293      3   8.5       85                   Marcus Rashford     Forward   \n",
       "209      3   6.0       90  Ricardo Domingos Barbosa Pereira    Defender   \n",
       "166      0   4.0       90                      Martin Kelly    Defender   \n",
       "186      2   5.5       90                     Michael Keane    Defender   \n",
       "281      2   5.5       90                 Aaron Wan-Bissaka    Defender   \n",
       "211      1   5.0       90                       Jonny Evans    Defender   \n",
       "259      0   6.0       90                       Kyle Walker    Defender   \n",
       "48       2   4.5       90                      Tyrone Mings    Defender   \n",
       "\n",
       "     pts_per_90min  red_cards   roi     status  team_code       team_name  \\\n",
       "59            9.89          0  2.22  available         91     Bournemouth   \n",
       "242          14.59          0  2.18  available         14       Liverpool   \n",
       "295           9.89          0  1.82  available          1         Man Utd   \n",
       "507           8.90          0  1.80  available         39          Wolves   \n",
       "269          19.78          0  1.67  available         43        Man City   \n",
       "272          13.85          0  1.65  available         43        Man City   \n",
       "185           8.90          0  1.64  available         11         Everton   \n",
       "293          13.60          0  1.53  available          1         Man Utd   \n",
       "209           8.90          0  1.50  available         13       Leicester   \n",
       "166           5.93          0  1.50  available         31  Crystal Palace   \n",
       "186           7.91          0  1.45  available         11         Everton   \n",
       "281           7.91          0  1.45  available          1         Man Utd   \n",
       "211           6.92          0  1.40  available         13       Leicester   \n",
       "259           7.91          0  1.33  available         43        Man City   \n",
       "48            5.93          0  1.33  available          7     Aston Villa   \n",
       "\n",
       "     total_points  transfers_in  transfers_out  \n",
       "59             10         31393           4260  \n",
       "242            12        144461          20847  \n",
       "295            10        224711          21182  \n",
       "507             9         18671          14669  \n",
       "269            20        229707          13322  \n",
       "272            14         86025          12839  \n",
       "185             9         27630           6216  \n",
       "293            13        208412          25055  \n",
       "209             9         11040          13809  \n",
       "166             6         90436          19602  \n",
       "186             8         10784           6410  \n",
       "281             8         88115          34226  \n",
       "211             7          3936           2227  \n",
       "259             8         55654          33292  \n",
       "48              6         19357           4500  "
      ]
     },
     "execution_count": 51,
     "metadata": {},
     "output_type": "execute_result"
    }
   ],
   "source": [
    "final_df.head(15)"
   ]
  },
  {
   "cell_type": "markdown",
   "metadata": {},
   "source": [
    "## Get list of players by ROI, Total Points and Points Per 90 min"
   ]
  },
  {
   "cell_type": "code",
   "execution_count": 52,
   "metadata": {},
   "outputs": [],
   "source": [
    "players_roi = []\n",
    "for row, player in final_df.iterrows():\n",
    "    playa = dict(name = player['name'], position = player.position, team=player.team_name, cost = player.cost, points = player.total_points, minutes = player.minutes, ROI = player.roi, pts_per_90min = player.pts_per_90min)\n",
    "    players_roi.append(playa)"
   ]
  },
  {
   "cell_type": "code",
   "execution_count": 53,
   "metadata": {
    "scrolled": true
   },
   "outputs": [
    {
     "data": {
      "text/plain": [
       "[{'name': 'Chris Mepham',\n",
       "  'position': 'Defender',\n",
       "  'team': 'Bournemouth',\n",
       "  'cost': 4.5,\n",
       "  'points': 10,\n",
       "  'minutes': 90,\n",
       "  'ROI': 2.22,\n",
       "  'pts_per_90min': 9.89},\n",
       " {'name': 'Divock Origi',\n",
       "  'position': 'Forward',\n",
       "  'team': 'Liverpool',\n",
       "  'cost': 5.5,\n",
       "  'points': 12,\n",
       "  'minutes': 73,\n",
       "  'ROI': 2.18,\n",
       "  'pts_per_90min': 14.59}]"
      ]
     },
     "execution_count": 53,
     "metadata": {},
     "output_type": "execute_result"
    }
   ],
   "source": [
    "players_roi[:2]"
   ]
  },
  {
   "cell_type": "code",
   "execution_count": 54,
   "metadata": {},
   "outputs": [],
   "source": [
    "players_max_pts = sorted(players_roi, key = lambda x: x['points'], reverse = True)"
   ]
  },
  {
   "cell_type": "code",
   "execution_count": 55,
   "metadata": {},
   "outputs": [
    {
     "data": {
      "text/plain": [
       "[{'name': 'Raheem Sterling',\n",
       "  'position': 'Midfielder',\n",
       "  'team': 'Man City',\n",
       "  'cost': 12.0,\n",
       "  'points': 20,\n",
       "  'minutes': 90,\n",
       "  'ROI': 1.67,\n",
       "  'pts_per_90min': 19.78},\n",
       " {'name': 'Riyad Mahrez',\n",
       "  'position': 'Midfielder',\n",
       "  'team': 'Man City',\n",
       "  'cost': 8.5,\n",
       "  'points': 14,\n",
       "  'minutes': 90,\n",
       "  'ROI': 1.65,\n",
       "  'pts_per_90min': 13.85}]"
      ]
     },
     "execution_count": 55,
     "metadata": {},
     "output_type": "execute_result"
    }
   ],
   "source": [
    "players_max_pts[:2]"
   ]
  },
  {
   "cell_type": "code",
   "execution_count": 56,
   "metadata": {},
   "outputs": [],
   "source": [
    "players_90min = sorted(players_roi, key = lambda x: x['pts_per_90min'], reverse = True)"
   ]
  },
  {
   "cell_type": "markdown",
   "metadata": {},
   "source": [
    "### Define min amount of minutes necessary to qualify for pts_per_90min stat"
   ]
  },
  {
   "cell_type": "code",
   "execution_count": 57,
   "metadata": {},
   "outputs": [],
   "source": [
    "min_min = 35\n",
    "players_90min = [player for player in players_90min if player['minutes'] >= min_min]"
   ]
  },
  {
   "cell_type": "markdown",
   "metadata": {},
   "source": [
    "### Create player lists by position and metric we want to select by"
   ]
  },
  {
   "cell_type": "code",
   "execution_count": 58,
   "metadata": {},
   "outputs": [],
   "source": [
    "GK_roi = [item for item in players_roi if item['position'] == 'Goalkeeper']\n",
    "DF_roi = [item for item in players_roi if item['position'] == 'Defender']\n",
    "MD_roi = [item for item in players_roi if item['position'] == 'Midfielder']\n",
    "ST_roi = [item for item in players_roi if item['position'] == 'Forward']"
   ]
  },
  {
   "cell_type": "code",
   "execution_count": 59,
   "metadata": {},
   "outputs": [],
   "source": [
    "GK_pts = [item for item in players_max_pts if item['position'] == 'Goalkeeper']\n",
    "DF_pts = [item for item in players_max_pts if item['position'] == 'Defender']\n",
    "MD_pts = [item for item in players_max_pts if item['position'] == 'Midfielder']\n",
    "ST_pts = [item for item in players_max_pts if item['position'] == 'Forward']"
   ]
  },
  {
   "cell_type": "code",
   "execution_count": 60,
   "metadata": {},
   "outputs": [],
   "source": [
    "GK_90min = [item for item in players_90min if item['position'] == 'Goalkeeper']\n",
    "DF_90min = [item for item in players_90min if item['position'] == 'Defender']\n",
    "MD_90min = [item for item in players_90min if item['position'] == 'Midfielder']\n",
    "ST_90min = [item for item in players_90min if item['position'] == 'Forward']"
   ]
  },
  {
   "cell_type": "markdown",
   "metadata": {},
   "source": [
    "## Start by selecting top GKs by ROI"
   ]
  },
  {
   "cell_type": "code",
   "execution_count": 89,
   "metadata": {},
   "outputs": [
    {
     "name": "stdout",
     "output_type": "stream",
     "text": [
      "10.0\n",
      "Player Selected: David de Gea\n",
      "GK budget left: 4.5\n",
      "Player Selected: Dean Henderson\n",
      "GK budget left: 0.0\n",
      "['David de Gea', 'Dean Henderson']\n",
      "['Man Utd', 'Sheffield Utd']\n"
     ]
    }
   ],
   "source": [
    "#define money team as empty list and list that tracks count of players selectd per team\n",
    "money_team = []\n",
    "players_selected = []\n",
    "teams_selected = []\n",
    "\n",
    "#Instantiate initial count per position\n",
    "#Current players selected for each position\n",
    "DF_curr = 0\n",
    "MD_curr = 0 \n",
    "ST_curr = 0\n",
    "\n",
    "GK_budget = budget*GK_coef\n",
    "print(GK_budget)\n",
    "\n",
    "for item in GK_roi:\n",
    "    if item['cost'] <= 5.5 and item['cost'] <= GK_budget:\n",
    "        money_team.append(item)\n",
    "        players_selected.append(item['name'])\n",
    "        teams_selected.append(item['team'])\n",
    "        GK_budget -= item['cost']\n",
    "        print('Player Selected: ' + item['name'])\n",
    "        print('GK budget left: ' + str(GK_budget))\n",
    "\n",
    "print(players_selected)\n",
    "print(teams_selected)"
   ]
  },
  {
   "cell_type": "markdown",
   "metadata": {},
   "source": [
    "## Select Top player by points from DF, MD, ST"
   ]
  },
  {
   "cell_type": "code",
   "execution_count": 90,
   "metadata": {},
   "outputs": [
    {
     "name": "stdout",
     "output_type": "stream",
     "text": [
      "24.0 43.0 23.0\n",
      "Player Selected: Chris Mepham\n",
      "DF budget left: 19.5\n",
      "Player Selected: Raheem Sterling\n",
      "MD budget left: 31.0\n",
      "['David de Gea', 'Dean Henderson', 'Chris Mepham', 'Raheem Sterling']\n",
      "['Man Utd', 'Sheffield Utd', 'Bournemouth', 'Man City']\n"
     ]
    }
   ],
   "source": [
    "DF_budget = budget*DF_coef\n",
    "MD_budget = budget*MD_coef\n",
    "ST_budget = budget*ST_coef\n",
    "\n",
    "print(DF_budget, MD_budget, ST_budget)\n",
    "\n",
    "#Select Top Defender\n",
    "money_team.append(DF_pts[0])\n",
    "players_selected.append(DF_pts[0]['name'])\n",
    "teams_selected.append(DF_pts[0]['team'])\n",
    "DF_budget -= DF_pts[0]['cost']\n",
    "DF_curr += 1\n",
    "print('Player Selected: ' + DF_pts[0]['name'])\n",
    "print('DF budget left: ' + str(DF_budget))\n",
    "\n",
    "#Select Top Midfielder\n",
    "money_team.append(MD_pts[0])\n",
    "players_selected.append(MD_pts[0]['name'])\n",
    "teams_selected.append(MD_pts[0]['team'])\n",
    "MD_budget -= MD_pts[0]['cost']\n",
    "MD_curr += 1\n",
    "print('Player Selected: ' + MD_pts[0]['name'])\n",
    "print('MD budget left: ' + str(MD_budget))\n",
    "\n",
    "\n",
    "print(players_selected)\n",
    "print(teams_selected)"
   ]
  },
  {
   "cell_type": "code",
   "execution_count": 91,
   "metadata": {
    "scrolled": true
   },
   "outputs": [
    {
     "name": "stdout",
     "output_type": "stream",
     "text": [
      "Player Selected: Marcus Rashford\n",
      "ST budget left: 14.5\n",
      "5\n",
      "['David de Gea', 'Dean Henderson', 'Chris Mepham', 'Raheem Sterling', 'Marcus Rashford']\n",
      "['Man Utd', 'Sheffield Utd', 'Bournemouth', 'Man City', 'Man Utd']\n"
     ]
    }
   ],
   "source": [
    "#Select Top Striker\n",
    "\n",
    "for item in ST_pts[:3]:\n",
    "    if teams_selected.count(item['team']) < 3 and len(money_team) == 4:\n",
    "            money_team.append(item)\n",
    "            players_selected.append(item['name'])\n",
    "            teams_selected.append(item['team'])\n",
    "            ST_budget -= item['cost']\n",
    "            ST_curr += 1\n",
    "            print('Player Selected: ' + item['name'])\n",
    "            print('ST budget left: ' + str(ST_budget))\n",
    "    break\n",
    "\n",
    "print(len(money_team))\n",
    "print(players_selected)\n",
    "print(teams_selected)"
   ]
  },
  {
   "cell_type": "code",
   "execution_count": 92,
   "metadata": {},
   "outputs": [
    {
     "name": "stdout",
     "output_type": "stream",
     "text": [
      "1 1 1\n"
     ]
    }
   ],
   "source": [
    "print(DF_curr, MD_curr, ST_curr)"
   ]
  },
  {
   "cell_type": "code",
   "execution_count": 93,
   "metadata": {},
   "outputs": [
    {
     "name": "stdout",
     "output_type": "stream",
     "text": [
      "3 4 3\n"
     ]
    }
   ],
   "source": [
    "print(DF, MD, ST)"
   ]
  },
  {
   "cell_type": "markdown",
   "metadata": {},
   "source": [
    "### Fill rest of team with top ROI players"
   ]
  },
  {
   "cell_type": "code",
   "execution_count": 94,
   "metadata": {
    "scrolled": true
   },
   "outputs": [
    {
     "name": "stdout",
     "output_type": "stream",
     "text": [
      "Player Selected: Willy Boly\n",
      "DF budget left: 14.5\n",
      "Player Selected: Yerry Mina\n",
      "DF budget left: 9.0\n",
      "Player Selected: Martin Kelly\n",
      "DF budget left: 5.0\n",
      "Player Selected: Jonny Evans\n",
      "DF budget left: 0.0\n",
      "9\n",
      "['David de Gea', 'Dean Henderson', 'Chris Mepham', 'Raheem Sterling', 'Marcus Rashford', 'Willy Boly', 'Yerry Mina', 'Martin Kelly', 'Jonny Evans']\n",
      "['Man Utd', 'Sheffield Utd', 'Bournemouth', 'Man City', 'Man Utd', 'Wolves', 'Everton', 'Crystal Palace', 'Leicester']\n"
     ]
    }
   ],
   "source": [
    "for item in DF_roi:\n",
    "    if teams_selected.count(item['team']) < 3 and item['name'] not in players_selected and item['cost'] < DF_budget and DF_curr < DF:\n",
    "        money_team.append(item)\n",
    "        players_selected.append(item['name'])\n",
    "        teams_selected.append(item['team'])\n",
    "        DF_budget -= item['cost']\n",
    "        DF_curr += 1\n",
    "        print('Player Selected: ' + item['name'])\n",
    "        print('DF budget left: ' + str(DF_budget))\n",
    "    else:\n",
    "        if teams_selected.count(item['team']) < 3 and item['name'] not in players_selected and DF_max != DF_curr and item['cost'] <= DF_budget / (DF_max - DF_curr):\n",
    "            money_team.append(item)\n",
    "            players_selected.append(item['name'])\n",
    "            teams_selected.append(item['team'])\n",
    "            DF_budget -= item['cost']\n",
    "            DF_curr += 1\n",
    "            print('Player Selected: ' + item['name'])\n",
    "            print('DF budget left: ' + str(DF_budget))\n",
    "            \n",
    "            \n",
    "print(len(money_team))\n",
    "print(players_selected)\n",
    "print(teams_selected)                       "
   ]
  },
  {
   "cell_type": "markdown",
   "metadata": {},
   "source": [
    "## Fill MD position"
   ]
  },
  {
   "cell_type": "code",
   "execution_count": 95,
   "metadata": {
    "scrolled": false
   },
   "outputs": [
    {
     "name": "stdout",
     "output_type": "stream",
     "text": [
      "Player Selected: Riyad Mahrez\n",
      "MD budget left: 22.5\n",
      "Player Selected: John McGinn\n",
      "MD budget left: 17.0\n",
      "Player Selected: Andreas Pereira\n",
      "MD budget left: 12.0\n",
      "Player Selected: Kevin De Bruyne\n",
      "MD budget left: 2.5\n",
      "13\n",
      "['David de Gea', 'Dean Henderson', 'Chris Mepham', 'Raheem Sterling', 'Marcus Rashford', 'Willy Boly', 'Yerry Mina', 'Martin Kelly', 'Jonny Evans', 'Riyad Mahrez', 'John McGinn', 'Andreas Pereira', 'Kevin De Bruyne']\n",
      "['Man Utd', 'Sheffield Utd', 'Bournemouth', 'Man City', 'Man Utd', 'Wolves', 'Everton', 'Crystal Palace', 'Leicester', 'Man City', 'Aston Villa', 'Man Utd', 'Man City']\n"
     ]
    }
   ],
   "source": [
    "#move leftover DF budget to MD budget\n",
    "MD_budget += DF_budget\n",
    "\n",
    "for item in MD_roi:\n",
    "    if teams_selected.count(item['team']) < 3 and item['name'] not in players_selected and item['cost'] < MD_budget and MD_curr < MD:\n",
    "        money_team.append(item)\n",
    "        players_selected.append(item['name'])\n",
    "        teams_selected.append(item['team'])\n",
    "        MD_budget -= item['cost']\n",
    "        MD_curr += 1\n",
    "        print('Player Selected: ' + item['name'])\n",
    "        print('MD budget left: ' + str(MD_budget))\n",
    "    else:\n",
    "        if teams_selected.count(item['team']) < 3 and item['name'] not in players_selected and MD_max != MD_curr and item['cost'] <= MD_budget / (MD_max - MD_curr):\n",
    "            money_team.append(item)\n",
    "            players_selected.append(item['name'])\n",
    "            teams_selected.append(item['team'])\n",
    "            MD_budget -= item['cost']\n",
    "            MD_curr += 1\n",
    "            print('Player Selected: ' + item['name'])\n",
    "            print('MD budget left: ' + str(MD_budget))\n",
    "            \n",
    "            \n",
    "print(len(money_team))\n",
    "print(players_selected)\n",
    "print(teams_selected) "
   ]
  },
  {
   "cell_type": "markdown",
   "metadata": {},
   "source": [
    "## Fill ST position"
   ]
  },
  {
   "cell_type": "code",
   "execution_count": 96,
   "metadata": {
    "scrolled": true
   },
   "outputs": [
    {
     "name": "stdout",
     "output_type": "stream",
     "text": [
      "Player Selected: Divock Origi\n",
      "ST budget left: 11.5\n",
      "Player Selected: Billy Sharp\n",
      "ST budget left: 5.5\n",
      "15\n",
      "['David de Gea', 'Dean Henderson', 'Chris Mepham', 'Raheem Sterling', 'Marcus Rashford', 'Willy Boly', 'Yerry Mina', 'Martin Kelly', 'Jonny Evans', 'Riyad Mahrez', 'John McGinn', 'Andreas Pereira', 'Kevin De Bruyne', 'Divock Origi', 'Billy Sharp']\n",
      "['Man Utd', 'Sheffield Utd', 'Bournemouth', 'Man City', 'Man Utd', 'Wolves', 'Everton', 'Crystal Palace', 'Leicester', 'Man City', 'Aston Villa', 'Man Utd', 'Man City', 'Liverpool', 'Sheffield Utd']\n"
     ]
    }
   ],
   "source": [
    "#move leftover MD budget to ST budget\n",
    "ST_budget += MD_budget\n",
    "\n",
    "for item in ST_roi:\n",
    "    if teams_selected.count(item['team']) < 3 and item['name'] not in players_selected and item['cost'] < ST_budget and ST_curr < ST:\n",
    "        money_team.append(item)\n",
    "        players_selected.append(item['name'])\n",
    "        teams_selected.append(item['team'])\n",
    "        ST_budget -= item['cost']\n",
    "        ST_curr += 1\n",
    "        print('Player Selected: ' + item['name'])\n",
    "        print('ST budget left: ' + str(ST_budget))\n",
    "    else:\n",
    "        if teams_selected.count(item['team']) < 3 and item['name'] not in players_selected and ST_max != ST_curr and item['cost'] <= ST_budget / (ST_max - ST_curr):\n",
    "            money_team.append(item)\n",
    "            players_selected.append(item['name'])\n",
    "            teams_selected.append(item['team'])\n",
    "            ST_budget -= item['cost']\n",
    "            ST_curr += 1\n",
    "            print('Player Selected: ' + item['name'])\n",
    "            print('ST budget left: ' + str(ST_budget))\n",
    "            \n",
    "            \n",
    "print(len(money_team))\n",
    "print(players_selected)\n",
    "print(teams_selected) "
   ]
  },
  {
   "cell_type": "code",
   "execution_count": 97,
   "metadata": {},
   "outputs": [],
   "source": [
    "money_df = pd.DataFrame(money_team)"
   ]
  },
  {
   "cell_type": "code",
   "execution_count": 98,
   "metadata": {
    "scrolled": true
   },
   "outputs": [
    {
     "data": {
      "text/html": [
       "<div>\n",
       "<style scoped>\n",
       "    .dataframe tbody tr th:only-of-type {\n",
       "        vertical-align: middle;\n",
       "    }\n",
       "\n",
       "    .dataframe tbody tr th {\n",
       "        vertical-align: top;\n",
       "    }\n",
       "\n",
       "    .dataframe thead th {\n",
       "        text-align: right;\n",
       "    }\n",
       "</style>\n",
       "<table border=\"1\" class=\"dataframe\">\n",
       "  <thead>\n",
       "    <tr style=\"text-align: right;\">\n",
       "      <th></th>\n",
       "      <th>ROI</th>\n",
       "      <th>cost</th>\n",
       "      <th>minutes</th>\n",
       "      <th>name</th>\n",
       "      <th>points</th>\n",
       "      <th>position</th>\n",
       "      <th>pts_per_90min</th>\n",
       "      <th>team</th>\n",
       "    </tr>\n",
       "  </thead>\n",
       "  <tbody>\n",
       "    <tr>\n",
       "      <th>0</th>\n",
       "      <td>1.82</td>\n",
       "      <td>5.5</td>\n",
       "      <td>90</td>\n",
       "      <td>David de Gea</td>\n",
       "      <td>10</td>\n",
       "      <td>Goalkeeper</td>\n",
       "      <td>9.89</td>\n",
       "      <td>Man Utd</td>\n",
       "    </tr>\n",
       "    <tr>\n",
       "      <th>1</th>\n",
       "      <td>0.44</td>\n",
       "      <td>4.5</td>\n",
       "      <td>90</td>\n",
       "      <td>Dean Henderson</td>\n",
       "      <td>2</td>\n",
       "      <td>Goalkeeper</td>\n",
       "      <td>1.98</td>\n",
       "      <td>Sheffield Utd</td>\n",
       "    </tr>\n",
       "    <tr>\n",
       "      <th>2</th>\n",
       "      <td>2.22</td>\n",
       "      <td>4.5</td>\n",
       "      <td>90</td>\n",
       "      <td>Chris Mepham</td>\n",
       "      <td>10</td>\n",
       "      <td>Defender</td>\n",
       "      <td>9.89</td>\n",
       "      <td>Bournemouth</td>\n",
       "    </tr>\n",
       "    <tr>\n",
       "      <th>3</th>\n",
       "      <td>1.67</td>\n",
       "      <td>12.0</td>\n",
       "      <td>90</td>\n",
       "      <td>Raheem Sterling</td>\n",
       "      <td>20</td>\n",
       "      <td>Midfielder</td>\n",
       "      <td>19.78</td>\n",
       "      <td>Man City</td>\n",
       "    </tr>\n",
       "    <tr>\n",
       "      <th>4</th>\n",
       "      <td>1.53</td>\n",
       "      <td>8.5</td>\n",
       "      <td>85</td>\n",
       "      <td>Marcus Rashford</td>\n",
       "      <td>13</td>\n",
       "      <td>Forward</td>\n",
       "      <td>13.60</td>\n",
       "      <td>Man Utd</td>\n",
       "    </tr>\n",
       "    <tr>\n",
       "      <th>5</th>\n",
       "      <td>1.80</td>\n",
       "      <td>5.0</td>\n",
       "      <td>90</td>\n",
       "      <td>Willy Boly</td>\n",
       "      <td>9</td>\n",
       "      <td>Defender</td>\n",
       "      <td>8.90</td>\n",
       "      <td>Wolves</td>\n",
       "    </tr>\n",
       "    <tr>\n",
       "      <th>6</th>\n",
       "      <td>1.64</td>\n",
       "      <td>5.5</td>\n",
       "      <td>90</td>\n",
       "      <td>Yerry Mina</td>\n",
       "      <td>9</td>\n",
       "      <td>Defender</td>\n",
       "      <td>8.90</td>\n",
       "      <td>Everton</td>\n",
       "    </tr>\n",
       "    <tr>\n",
       "      <th>7</th>\n",
       "      <td>1.50</td>\n",
       "      <td>4.0</td>\n",
       "      <td>90</td>\n",
       "      <td>Martin Kelly</td>\n",
       "      <td>6</td>\n",
       "      <td>Defender</td>\n",
       "      <td>5.93</td>\n",
       "      <td>Crystal Palace</td>\n",
       "    </tr>\n",
       "    <tr>\n",
       "      <th>8</th>\n",
       "      <td>1.40</td>\n",
       "      <td>5.0</td>\n",
       "      <td>90</td>\n",
       "      <td>Jonny Evans</td>\n",
       "      <td>7</td>\n",
       "      <td>Defender</td>\n",
       "      <td>6.92</td>\n",
       "      <td>Leicester</td>\n",
       "    </tr>\n",
       "    <tr>\n",
       "      <th>9</th>\n",
       "      <td>1.65</td>\n",
       "      <td>8.5</td>\n",
       "      <td>90</td>\n",
       "      <td>Riyad Mahrez</td>\n",
       "      <td>14</td>\n",
       "      <td>Midfielder</td>\n",
       "      <td>13.85</td>\n",
       "      <td>Man City</td>\n",
       "    </tr>\n",
       "    <tr>\n",
       "      <th>10</th>\n",
       "      <td>1.27</td>\n",
       "      <td>5.5</td>\n",
       "      <td>90</td>\n",
       "      <td>John McGinn</td>\n",
       "      <td>7</td>\n",
       "      <td>Midfielder</td>\n",
       "      <td>6.92</td>\n",
       "      <td>Aston Villa</td>\n",
       "    </tr>\n",
       "    <tr>\n",
       "      <th>11</th>\n",
       "      <td>1.20</td>\n",
       "      <td>5.0</td>\n",
       "      <td>73</td>\n",
       "      <td>Andreas Pereira</td>\n",
       "      <td>6</td>\n",
       "      <td>Midfielder</td>\n",
       "      <td>7.30</td>\n",
       "      <td>Man Utd</td>\n",
       "    </tr>\n",
       "    <tr>\n",
       "      <th>12</th>\n",
       "      <td>0.74</td>\n",
       "      <td>9.5</td>\n",
       "      <td>78</td>\n",
       "      <td>Kevin De Bruyne</td>\n",
       "      <td>7</td>\n",
       "      <td>Midfielder</td>\n",
       "      <td>7.97</td>\n",
       "      <td>Man City</td>\n",
       "    </tr>\n",
       "    <tr>\n",
       "      <th>13</th>\n",
       "      <td>2.18</td>\n",
       "      <td>5.5</td>\n",
       "      <td>73</td>\n",
       "      <td>Divock Origi</td>\n",
       "      <td>12</td>\n",
       "      <td>Forward</td>\n",
       "      <td>14.59</td>\n",
       "      <td>Liverpool</td>\n",
       "    </tr>\n",
       "    <tr>\n",
       "      <th>14</th>\n",
       "      <td>1.33</td>\n",
       "      <td>6.0</td>\n",
       "      <td>8</td>\n",
       "      <td>Billy Sharp</td>\n",
       "      <td>8</td>\n",
       "      <td>Forward</td>\n",
       "      <td>80.00</td>\n",
       "      <td>Sheffield Utd</td>\n",
       "    </tr>\n",
       "  </tbody>\n",
       "</table>\n",
       "</div>"
      ],
      "text/plain": [
       "     ROI  cost  minutes             name  points    position  pts_per_90min  \\\n",
       "0   1.82   5.5       90     David de Gea      10  Goalkeeper           9.89   \n",
       "1   0.44   4.5       90   Dean Henderson       2  Goalkeeper           1.98   \n",
       "2   2.22   4.5       90     Chris Mepham      10    Defender           9.89   \n",
       "3   1.67  12.0       90  Raheem Sterling      20  Midfielder          19.78   \n",
       "4   1.53   8.5       85  Marcus Rashford      13     Forward          13.60   \n",
       "5   1.80   5.0       90       Willy Boly       9    Defender           8.90   \n",
       "6   1.64   5.5       90       Yerry Mina       9    Defender           8.90   \n",
       "7   1.50   4.0       90     Martin Kelly       6    Defender           5.93   \n",
       "8   1.40   5.0       90      Jonny Evans       7    Defender           6.92   \n",
       "9   1.65   8.5       90     Riyad Mahrez      14  Midfielder          13.85   \n",
       "10  1.27   5.5       90      John McGinn       7  Midfielder           6.92   \n",
       "11  1.20   5.0       73  Andreas Pereira       6  Midfielder           7.30   \n",
       "12  0.74   9.5       78  Kevin De Bruyne       7  Midfielder           7.97   \n",
       "13  2.18   5.5       73     Divock Origi      12     Forward          14.59   \n",
       "14  1.33   6.0        8      Billy Sharp       8     Forward          80.00   \n",
       "\n",
       "              team  \n",
       "0          Man Utd  \n",
       "1    Sheffield Utd  \n",
       "2      Bournemouth  \n",
       "3         Man City  \n",
       "4          Man Utd  \n",
       "5           Wolves  \n",
       "6          Everton  \n",
       "7   Crystal Palace  \n",
       "8        Leicester  \n",
       "9         Man City  \n",
       "10     Aston Villa  \n",
       "11         Man Utd  \n",
       "12        Man City  \n",
       "13       Liverpool  \n",
       "14   Sheffield Utd  "
      ]
     },
     "execution_count": 98,
     "metadata": {},
     "output_type": "execute_result"
    }
   ],
   "source": [
    "money_df"
   ]
  },
  {
   "cell_type": "code",
   "execution_count": 101,
   "metadata": {},
   "outputs": [
    {
     "data": {
      "text/html": [
       "<div>\n",
       "<style scoped>\n",
       "    .dataframe tbody tr th:only-of-type {\n",
       "        vertical-align: middle;\n",
       "    }\n",
       "\n",
       "    .dataframe tbody tr th {\n",
       "        vertical-align: top;\n",
       "    }\n",
       "\n",
       "    .dataframe thead th {\n",
       "        text-align: right;\n",
       "    }\n",
       "</style>\n",
       "<table border=\"1\" class=\"dataframe\">\n",
       "  <thead>\n",
       "    <tr style=\"text-align: right;\">\n",
       "      <th></th>\n",
       "      <th>ROI</th>\n",
       "      <th>cost</th>\n",
       "      <th>minutes</th>\n",
       "      <th>name</th>\n",
       "      <th>points</th>\n",
       "      <th>position</th>\n",
       "      <th>pts_per_90min</th>\n",
       "      <th>team</th>\n",
       "    </tr>\n",
       "  </thead>\n",
       "  <tbody>\n",
       "    <tr>\n",
       "      <th>0</th>\n",
       "      <td>2.18</td>\n",
       "      <td>5.5</td>\n",
       "      <td>73</td>\n",
       "      <td>Divock Origi</td>\n",
       "      <td>12</td>\n",
       "      <td>Forward</td>\n",
       "      <td>14.59</td>\n",
       "      <td>Liverpool</td>\n",
       "    </tr>\n",
       "    <tr>\n",
       "      <th>1</th>\n",
       "      <td>1.53</td>\n",
       "      <td>8.5</td>\n",
       "      <td>85</td>\n",
       "      <td>Marcus Rashford</td>\n",
       "      <td>13</td>\n",
       "      <td>Forward</td>\n",
       "      <td>13.60</td>\n",
       "      <td>Man Utd</td>\n",
       "    </tr>\n",
       "    <tr>\n",
       "      <th>2</th>\n",
       "      <td>1.33</td>\n",
       "      <td>6.0</td>\n",
       "      <td>8</td>\n",
       "      <td>Billy Sharp</td>\n",
       "      <td>8</td>\n",
       "      <td>Forward</td>\n",
       "      <td>80.00</td>\n",
       "      <td>Sheffield Utd</td>\n",
       "    </tr>\n",
       "    <tr>\n",
       "      <th>3</th>\n",
       "      <td>1.08</td>\n",
       "      <td>6.5</td>\n",
       "      <td>82</td>\n",
       "      <td>Teemu Pukki</td>\n",
       "      <td>7</td>\n",
       "      <td>Forward</td>\n",
       "      <td>7.59</td>\n",
       "      <td>Norwich</td>\n",
       "    </tr>\n",
       "    <tr>\n",
       "      <th>4</th>\n",
       "      <td>0.63</td>\n",
       "      <td>9.5</td>\n",
       "      <td>68</td>\n",
       "      <td>Gabriel Fernando de Jesus</td>\n",
       "      <td>6</td>\n",
       "      <td>Forward</td>\n",
       "      <td>7.83</td>\n",
       "      <td>Man City</td>\n",
       "    </tr>\n",
       "  </tbody>\n",
       "</table>\n",
       "</div>"
      ],
      "text/plain": [
       "    ROI  cost  minutes                       name  points position  \\\n",
       "0  2.18   5.5       73               Divock Origi      12  Forward   \n",
       "1  1.53   8.5       85            Marcus Rashford      13  Forward   \n",
       "2  1.33   6.0        8                Billy Sharp       8  Forward   \n",
       "3  1.08   6.5       82                Teemu Pukki       7  Forward   \n",
       "4  0.63   9.5       68  Gabriel Fernando de Jesus       6  Forward   \n",
       "\n",
       "   pts_per_90min           team  \n",
       "0          14.59      Liverpool  \n",
       "1          13.60        Man Utd  \n",
       "2          80.00  Sheffield Utd  \n",
       "3           7.59        Norwich  \n",
       "4           7.83       Man City  "
      ]
     },
     "execution_count": 101,
     "metadata": {},
     "output_type": "execute_result"
    }
   ],
   "source": [
    "ST_df = pd.DataFrame(ST_roi)\n",
    "ST_df.head()"
   ]
  },
  {
   "cell_type": "code",
   "execution_count": 102,
   "metadata": {},
   "outputs": [
    {
     "data": {
      "text/html": [
       "<div>\n",
       "<style scoped>\n",
       "    .dataframe tbody tr th:only-of-type {\n",
       "        vertical-align: middle;\n",
       "    }\n",
       "\n",
       "    .dataframe tbody tr th {\n",
       "        vertical-align: top;\n",
       "    }\n",
       "\n",
       "    .dataframe thead th {\n",
       "        text-align: right;\n",
       "    }\n",
       "</style>\n",
       "<table border=\"1\" class=\"dataframe\">\n",
       "  <thead>\n",
       "    <tr style=\"text-align: right;\">\n",
       "      <th></th>\n",
       "      <th>ROI</th>\n",
       "      <th>cost</th>\n",
       "      <th>minutes</th>\n",
       "      <th>name</th>\n",
       "      <th>points</th>\n",
       "      <th>position</th>\n",
       "      <th>pts_per_90min</th>\n",
       "      <th>team</th>\n",
       "    </tr>\n",
       "  </thead>\n",
       "  <tbody>\n",
       "    <tr>\n",
       "      <th>0</th>\n",
       "      <td>2.22</td>\n",
       "      <td>4.5</td>\n",
       "      <td>90</td>\n",
       "      <td>Chris Mepham</td>\n",
       "      <td>10</td>\n",
       "      <td>Defender</td>\n",
       "      <td>9.89</td>\n",
       "      <td>Bournemouth</td>\n",
       "    </tr>\n",
       "    <tr>\n",
       "      <th>1</th>\n",
       "      <td>1.80</td>\n",
       "      <td>5.0</td>\n",
       "      <td>90</td>\n",
       "      <td>Willy Boly</td>\n",
       "      <td>9</td>\n",
       "      <td>Defender</td>\n",
       "      <td>8.90</td>\n",
       "      <td>Wolves</td>\n",
       "    </tr>\n",
       "    <tr>\n",
       "      <th>2</th>\n",
       "      <td>1.64</td>\n",
       "      <td>5.5</td>\n",
       "      <td>90</td>\n",
       "      <td>Yerry Mina</td>\n",
       "      <td>9</td>\n",
       "      <td>Defender</td>\n",
       "      <td>8.90</td>\n",
       "      <td>Everton</td>\n",
       "    </tr>\n",
       "    <tr>\n",
       "      <th>3</th>\n",
       "      <td>1.50</td>\n",
       "      <td>6.0</td>\n",
       "      <td>90</td>\n",
       "      <td>Ricardo Domingos Barbosa Pereira</td>\n",
       "      <td>9</td>\n",
       "      <td>Defender</td>\n",
       "      <td>8.90</td>\n",
       "      <td>Leicester</td>\n",
       "    </tr>\n",
       "    <tr>\n",
       "      <th>4</th>\n",
       "      <td>1.50</td>\n",
       "      <td>4.0</td>\n",
       "      <td>90</td>\n",
       "      <td>Martin Kelly</td>\n",
       "      <td>6</td>\n",
       "      <td>Defender</td>\n",
       "      <td>5.93</td>\n",
       "      <td>Crystal Palace</td>\n",
       "    </tr>\n",
       "  </tbody>\n",
       "</table>\n",
       "</div>"
      ],
      "text/plain": [
       "    ROI  cost  minutes                              name  points  position  \\\n",
       "0  2.22   4.5       90                      Chris Mepham      10  Defender   \n",
       "1  1.80   5.0       90                        Willy Boly       9  Defender   \n",
       "2  1.64   5.5       90                        Yerry Mina       9  Defender   \n",
       "3  1.50   6.0       90  Ricardo Domingos Barbosa Pereira       9  Defender   \n",
       "4  1.50   4.0       90                      Martin Kelly       6  Defender   \n",
       "\n",
       "   pts_per_90min            team  \n",
       "0           9.89     Bournemouth  \n",
       "1           8.90          Wolves  \n",
       "2           8.90         Everton  \n",
       "3           8.90       Leicester  \n",
       "4           5.93  Crystal Palace  "
      ]
     },
     "execution_count": 102,
     "metadata": {},
     "output_type": "execute_result"
    }
   ],
   "source": [
    "DF_df = pd.DataFrame(DF_roi)\n",
    "DF_df.head()"
   ]
  },
  {
   "cell_type": "code",
   "execution_count": 103,
   "metadata": {
    "scrolled": false
   },
   "outputs": [
    {
     "data": {
      "text/html": [
       "<div>\n",
       "<style scoped>\n",
       "    .dataframe tbody tr th:only-of-type {\n",
       "        vertical-align: middle;\n",
       "    }\n",
       "\n",
       "    .dataframe tbody tr th {\n",
       "        vertical-align: top;\n",
       "    }\n",
       "\n",
       "    .dataframe thead th {\n",
       "        text-align: right;\n",
       "    }\n",
       "</style>\n",
       "<table border=\"1\" class=\"dataframe\">\n",
       "  <thead>\n",
       "    <tr style=\"text-align: right;\">\n",
       "      <th></th>\n",
       "      <th>ROI</th>\n",
       "      <th>cost</th>\n",
       "      <th>minutes</th>\n",
       "      <th>name</th>\n",
       "      <th>points</th>\n",
       "      <th>position</th>\n",
       "      <th>pts_per_90min</th>\n",
       "      <th>team</th>\n",
       "    </tr>\n",
       "  </thead>\n",
       "  <tbody>\n",
       "    <tr>\n",
       "      <th>0</th>\n",
       "      <td>1.67</td>\n",
       "      <td>12.0</td>\n",
       "      <td>90</td>\n",
       "      <td>Raheem Sterling</td>\n",
       "      <td>20</td>\n",
       "      <td>Midfielder</td>\n",
       "      <td>19.78</td>\n",
       "      <td>Man City</td>\n",
       "    </tr>\n",
       "    <tr>\n",
       "      <th>1</th>\n",
       "      <td>1.65</td>\n",
       "      <td>8.5</td>\n",
       "      <td>90</td>\n",
       "      <td>Riyad Mahrez</td>\n",
       "      <td>14</td>\n",
       "      <td>Midfielder</td>\n",
       "      <td>13.85</td>\n",
       "      <td>Man City</td>\n",
       "    </tr>\n",
       "    <tr>\n",
       "      <th>2</th>\n",
       "      <td>1.27</td>\n",
       "      <td>5.5</td>\n",
       "      <td>90</td>\n",
       "      <td>John McGinn</td>\n",
       "      <td>7</td>\n",
       "      <td>Midfielder</td>\n",
       "      <td>6.92</td>\n",
       "      <td>Aston Villa</td>\n",
       "    </tr>\n",
       "    <tr>\n",
       "      <th>3</th>\n",
       "      <td>1.20</td>\n",
       "      <td>5.0</td>\n",
       "      <td>73</td>\n",
       "      <td>Andreas Pereira</td>\n",
       "      <td>6</td>\n",
       "      <td>Midfielder</td>\n",
       "      <td>7.30</td>\n",
       "      <td>Man Utd</td>\n",
       "    </tr>\n",
       "    <tr>\n",
       "      <th>4</th>\n",
       "      <td>1.06</td>\n",
       "      <td>8.5</td>\n",
       "      <td>90</td>\n",
       "      <td>Paul Pogba</td>\n",
       "      <td>9</td>\n",
       "      <td>Midfielder</td>\n",
       "      <td>8.90</td>\n",
       "      <td>Man Utd</td>\n",
       "    </tr>\n",
       "  </tbody>\n",
       "</table>\n",
       "</div>"
      ],
      "text/plain": [
       "    ROI  cost  minutes             name  points    position  pts_per_90min  \\\n",
       "0  1.67  12.0       90  Raheem Sterling      20  Midfielder          19.78   \n",
       "1  1.65   8.5       90     Riyad Mahrez      14  Midfielder          13.85   \n",
       "2  1.27   5.5       90      John McGinn       7  Midfielder           6.92   \n",
       "3  1.20   5.0       73  Andreas Pereira       6  Midfielder           7.30   \n",
       "4  1.06   8.5       90       Paul Pogba       9  Midfielder           8.90   \n",
       "\n",
       "          team  \n",
       "0     Man City  \n",
       "1     Man City  \n",
       "2  Aston Villa  \n",
       "3      Man Utd  \n",
       "4      Man Utd  "
      ]
     },
     "execution_count": 103,
     "metadata": {},
     "output_type": "execute_result"
    }
   ],
   "source": [
    "MD_df = pd.DataFrame(MD_roi)\n",
    "MD_df.head()"
   ]
  },
  {
   "cell_type": "code",
   "execution_count": 104,
   "metadata": {
    "scrolled": true
   },
   "outputs": [
    {
     "data": {
      "text/html": [
       "<div>\n",
       "<style scoped>\n",
       "    .dataframe tbody tr th:only-of-type {\n",
       "        vertical-align: middle;\n",
       "    }\n",
       "\n",
       "    .dataframe tbody tr th {\n",
       "        vertical-align: top;\n",
       "    }\n",
       "\n",
       "    .dataframe thead th {\n",
       "        text-align: right;\n",
       "    }\n",
       "</style>\n",
       "<table border=\"1\" class=\"dataframe\">\n",
       "  <thead>\n",
       "    <tr style=\"text-align: right;\">\n",
       "      <th></th>\n",
       "      <th>ROI</th>\n",
       "      <th>cost</th>\n",
       "      <th>minutes</th>\n",
       "      <th>name</th>\n",
       "      <th>points</th>\n",
       "      <th>position</th>\n",
       "      <th>pts_per_90min</th>\n",
       "      <th>team</th>\n",
       "    </tr>\n",
       "  </thead>\n",
       "  <tbody>\n",
       "    <tr>\n",
       "      <th>0</th>\n",
       "      <td>2.18</td>\n",
       "      <td>5.5</td>\n",
       "      <td>73</td>\n",
       "      <td>Divock Origi</td>\n",
       "      <td>12</td>\n",
       "      <td>Forward</td>\n",
       "      <td>14.59</td>\n",
       "      <td>Liverpool</td>\n",
       "    </tr>\n",
       "    <tr>\n",
       "      <th>1</th>\n",
       "      <td>1.53</td>\n",
       "      <td>8.5</td>\n",
       "      <td>85</td>\n",
       "      <td>Marcus Rashford</td>\n",
       "      <td>13</td>\n",
       "      <td>Forward</td>\n",
       "      <td>13.60</td>\n",
       "      <td>Man Utd</td>\n",
       "    </tr>\n",
       "    <tr>\n",
       "      <th>2</th>\n",
       "      <td>1.33</td>\n",
       "      <td>6.0</td>\n",
       "      <td>8</td>\n",
       "      <td>Billy Sharp</td>\n",
       "      <td>8</td>\n",
       "      <td>Forward</td>\n",
       "      <td>80.00</td>\n",
       "      <td>Sheffield Utd</td>\n",
       "    </tr>\n",
       "    <tr>\n",
       "      <th>3</th>\n",
       "      <td>1.08</td>\n",
       "      <td>6.5</td>\n",
       "      <td>82</td>\n",
       "      <td>Teemu Pukki</td>\n",
       "      <td>7</td>\n",
       "      <td>Forward</td>\n",
       "      <td>7.59</td>\n",
       "      <td>Norwich</td>\n",
       "    </tr>\n",
       "    <tr>\n",
       "      <th>4</th>\n",
       "      <td>0.63</td>\n",
       "      <td>9.5</td>\n",
       "      <td>68</td>\n",
       "      <td>Gabriel Fernando de Jesus</td>\n",
       "      <td>6</td>\n",
       "      <td>Forward</td>\n",
       "      <td>7.83</td>\n",
       "      <td>Man City</td>\n",
       "    </tr>\n",
       "  </tbody>\n",
       "</table>\n",
       "</div>"
      ],
      "text/plain": [
       "    ROI  cost  minutes                       name  points position  \\\n",
       "0  2.18   5.5       73               Divock Origi      12  Forward   \n",
       "1  1.53   8.5       85            Marcus Rashford      13  Forward   \n",
       "2  1.33   6.0        8                Billy Sharp       8  Forward   \n",
       "3  1.08   6.5       82                Teemu Pukki       7  Forward   \n",
       "4  0.63   9.5       68  Gabriel Fernando de Jesus       6  Forward   \n",
       "\n",
       "   pts_per_90min           team  \n",
       "0          14.59      Liverpool  \n",
       "1          13.60        Man Utd  \n",
       "2          80.00  Sheffield Utd  \n",
       "3           7.59        Norwich  \n",
       "4           7.83       Man City  "
      ]
     },
     "execution_count": 104,
     "metadata": {},
     "output_type": "execute_result"
    }
   ],
   "source": [
    "ST_df = pd.DataFrame(ST_roi)\n",
    "ST_df.head()"
   ]
  },
  {
   "cell_type": "markdown",
   "metadata": {},
   "source": [
    "## Define Clean df for graphing purposes"
   ]
  },
  {
   "cell_type": "code",
   "execution_count": 147,
   "metadata": {
    "scrolled": true
   },
   "outputs": [
    {
     "data": {
      "text/html": [
       "<div>\n",
       "<style scoped>\n",
       "    .dataframe tbody tr th:only-of-type {\n",
       "        vertical-align: middle;\n",
       "    }\n",
       "\n",
       "    .dataframe tbody tr th {\n",
       "        vertical-align: top;\n",
       "    }\n",
       "\n",
       "    .dataframe thead th {\n",
       "        text-align: right;\n",
       "    }\n",
       "</style>\n",
       "<table border=\"1\" class=\"dataframe\">\n",
       "  <thead>\n",
       "    <tr style=\"text-align: right;\">\n",
       "      <th></th>\n",
       "      <th>bonus</th>\n",
       "      <th>cost</th>\n",
       "      <th>minutes</th>\n",
       "      <th>name</th>\n",
       "      <th>position</th>\n",
       "      <th>pts_per_90min</th>\n",
       "      <th>red_cards</th>\n",
       "      <th>roi</th>\n",
       "      <th>status</th>\n",
       "      <th>team_code</th>\n",
       "      <th>team_name</th>\n",
       "      <th>total_points</th>\n",
       "      <th>transfers_in</th>\n",
       "      <th>transfers_out</th>\n",
       "    </tr>\n",
       "  </thead>\n",
       "  <tbody>\n",
       "    <tr>\n",
       "      <th>132</th>\n",
       "      <td>2</td>\n",
       "      <td>4.5</td>\n",
       "      <td>90</td>\n",
       "      <td>Erik Pieters</td>\n",
       "      <td>Defender</td>\n",
       "      <td>13.85</td>\n",
       "      <td>0</td>\n",
       "      <td>3.11</td>\n",
       "      <td>available</td>\n",
       "      <td>90</td>\n",
       "      <td>Burnley</td>\n",
       "      <td>14</td>\n",
       "      <td>80271</td>\n",
       "      <td>8499</td>\n",
       "    </tr>\n",
       "    <tr>\n",
       "      <th>90</th>\n",
       "      <td>3</td>\n",
       "      <td>4.5</td>\n",
       "      <td>90</td>\n",
       "      <td>Lewis Dunk</td>\n",
       "      <td>Defender</td>\n",
       "      <td>10.88</td>\n",
       "      <td>0</td>\n",
       "      <td>2.44</td>\n",
       "      <td>available</td>\n",
       "      <td>36</td>\n",
       "      <td>Brighton</td>\n",
       "      <td>11</td>\n",
       "      <td>91120</td>\n",
       "      <td>10446</td>\n",
       "    </tr>\n",
       "    <tr>\n",
       "      <th>3</th>\n",
       "      <td>3</td>\n",
       "      <td>5.0</td>\n",
       "      <td>90</td>\n",
       "      <td>Ainsley Maitland-Niles</td>\n",
       "      <td>Defender</td>\n",
       "      <td>11.87</td>\n",
       "      <td>0</td>\n",
       "      <td>2.40</td>\n",
       "      <td>available</td>\n",
       "      <td>3</td>\n",
       "      <td>Arsenal</td>\n",
       "      <td>12</td>\n",
       "      <td>83757</td>\n",
       "      <td>7687</td>\n",
       "    </tr>\n",
       "    <tr>\n",
       "      <th>59</th>\n",
       "      <td>2</td>\n",
       "      <td>4.5</td>\n",
       "      <td>90</td>\n",
       "      <td>Chris Mepham</td>\n",
       "      <td>Defender</td>\n",
       "      <td>9.89</td>\n",
       "      <td>0</td>\n",
       "      <td>2.22</td>\n",
       "      <td>available</td>\n",
       "      <td>91</td>\n",
       "      <td>Bournemouth</td>\n",
       "      <td>10</td>\n",
       "      <td>31393</td>\n",
       "      <td>4260</td>\n",
       "    </tr>\n",
       "    <tr>\n",
       "      <th>242</th>\n",
       "      <td>3</td>\n",
       "      <td>5.5</td>\n",
       "      <td>73</td>\n",
       "      <td>Divock Origi</td>\n",
       "      <td>Forward</td>\n",
       "      <td>14.59</td>\n",
       "      <td>0</td>\n",
       "      <td>2.18</td>\n",
       "      <td>available</td>\n",
       "      <td>14</td>\n",
       "      <td>Liverpool</td>\n",
       "      <td>12</td>\n",
       "      <td>144461</td>\n",
       "      <td>20847</td>\n",
       "    </tr>\n",
       "  </tbody>\n",
       "</table>\n",
       "</div>"
      ],
      "text/plain": [
       "     bonus  cost  minutes                    name  position  pts_per_90min  \\\n",
       "132      2   4.5       90            Erik Pieters  Defender          13.85   \n",
       "90       3   4.5       90              Lewis Dunk  Defender          10.88   \n",
       "3        3   5.0       90  Ainsley Maitland-Niles  Defender          11.87   \n",
       "59       2   4.5       90            Chris Mepham  Defender           9.89   \n",
       "242      3   5.5       73            Divock Origi   Forward          14.59   \n",
       "\n",
       "     red_cards   roi     status  team_code    team_name  total_points  \\\n",
       "132          0  3.11  available         90      Burnley            14   \n",
       "90           0  2.44  available         36     Brighton            11   \n",
       "3            0  2.40  available          3      Arsenal            12   \n",
       "59           0  2.22  available         91  Bournemouth            10   \n",
       "242          0  2.18  available         14    Liverpool            12   \n",
       "\n",
       "     transfers_in  transfers_out  \n",
       "132         80271           8499  \n",
       "90          91120          10446  \n",
       "3           83757           7687  \n",
       "59          31393           4260  \n",
       "242        144461          20847  "
      ]
     },
     "execution_count": 147,
     "metadata": {},
     "output_type": "execute_result"
    }
   ],
   "source": [
    "clean_df.head()"
   ]
  },
  {
   "cell_type": "code",
   "execution_count": 144,
   "metadata": {},
   "outputs": [],
   "source": [
    "graph_roi = []\n",
    "for row, player in clean_df.iterrows():\n",
    "    playa = dict(name = player['name'], position = player.position, team=player.team_name, cost = player.cost, points = player.total_points, minutes = player.minutes, ROI = player.roi, pts_per_90min = player.pts_per_90min)\n",
    "    graph_roi.append(playa)"
   ]
  },
  {
   "cell_type": "code",
   "execution_count": 148,
   "metadata": {},
   "outputs": [],
   "source": [
    "GK_graph = clean_df[clean_df['position'] == 'Goalkeeper']\n",
    "DF_graph = clean_df[clean_df['position'] == 'Defender']\n",
    "MD_graph = clean_df[clean_df['position'] == 'Midfielder']\n",
    "ST_graph = clean_df[clean_df['position'] == 'Forward']"
   ]
  },
  {
   "cell_type": "code",
   "execution_count": 151,
   "metadata": {},
   "outputs": [],
   "source": [
    "import matplotlib.pyplot as plt\n",
    "%matplotlib inline\n",
    "from pylab import rcParams\n",
    "rcParams['figure.figsize'] = 14, 6"
   ]
  },
  {
   "cell_type": "markdown",
   "metadata": {},
   "source": [
    "## Top 10 Keepers"
   ]
  },
  {
   "cell_type": "code",
   "execution_count": 179,
   "metadata": {},
   "outputs": [
    {
     "data": {
      "text/plain": [
       "<function matplotlib.pyplot.show(*args, **kw)>"
      ]
     },
     "execution_count": 179,
     "metadata": {},
     "output_type": "execute_result"
    },
    {
     "data": {
      "image/png": "[encoded data removed]",
      "text/plain": [
       "<Figure size 1008x432 with 1 Axes>"
      ]
     },
     "metadata": {
      "needs_background": "light"
     },
     "output_type": "display_data"
    }
   ],
   "source": [
    "GK_x = GK_graph[:10].roi\n",
    "GK_y = GK_graph[:10].name\n",
    "GK_75th = round(GK_graph.describe().roi['75%'], 2)\n",
    "GK_AVG = round(GK_graph.describe().roi['mean'], 2)\n",
    "\n",
    "plt.bar(GK_y, GK_x)\n",
    "plt.axhline(y=GK_75th, color='r', linestyle='-', label='75th Precentile GK ROI = ' + str(GK_75th))\n",
    "plt.axhline(y=GK_AVG, color='#33D977', linestyle='-', label='AVG GK ROI = ' + str(GK_AVG))\n",
    "plt.ylabel('ROI', fontsize = 24, color = '#073997')\n",
    "plt.xticks(rotation=60, fontsize = 12, color = '#073997')\n",
    "plt.title('Top 10 Goalkeepers by ROI', fontsize = 24, color = '#073997')\n",
    "plt.legend( fontsize = 14)\n",
    "plt.show"
   ]
  },
  {
   "cell_type": "markdown",
   "metadata": {},
   "source": [
    "## Top 10 Defenders"
   ]
  },
  {
   "cell_type": "code",
   "execution_count": 183,
   "metadata": {
    "scrolled": false
   },
   "outputs": [
    {
     "data": {
      "text/plain": [
       "<function matplotlib.pyplot.show(*args, **kw)>"
      ]
     },
     "execution_count": 183,
     "metadata": {},
     "output_type": "execute_result"
    },
    {
     "data": {
      "image/png": "[encoded data removed]",
      "text/plain": [
       "<Figure size 1008x432 with 1 Axes>"
      ]
     },
     "metadata": {
      "needs_background": "light"
     },
     "output_type": "display_data"
    }
   ],
   "source": [
    "DF_x = DF_graph[:10].roi\n",
    "DF_y = DF_graph[:10].name\n",
    "DF_75th = round(DF_graph.describe().roi['75%'], 2)\n",
    "DF_AVG = round(DF_graph.describe().roi['mean'], 2)\n",
    "\n",
    "plt.bar(DF_y, DF_x)\n",
    "plt.axhline(y=DF_75th, color='r', linestyle='-', label='75th Precentile DF ROI = ' + str(DF_75th))\n",
    "plt.axhline(y=DF_AVG, color='#33D977', linestyle='-', label='AVG DF ROI = ' + str(DF_AVG))\n",
    "plt.ylabel('ROI', fontsize = 24, color = '#073997')\n",
    "plt.xticks(rotation=60, fontsize = 12, color = '#073997')\n",
    "plt.title('Top 10 Defenders by ROI', fontsize = 24, color = '#073997')\n",
    "plt.legend( fontsize = 14)\n",
    "plt.show"
   ]
  },
  {
   "cell_type": "markdown",
   "metadata": {},
   "source": [
    "## Top 10 MIdfielders"
   ]
  },
  {
   "cell_type": "code",
   "execution_count": 185,
   "metadata": {},
   "outputs": [
    {
     "data": {
      "text/plain": [
       "<function matplotlib.pyplot.show(*args, **kw)>"
      ]
     },
     "execution_count": 185,
     "metadata": {},
     "output_type": "execute_result"
    },
    {
     "data": {
      "image/png": "[encoded data removed]",
      "text/plain": [
       "<Figure size 1008x432 with 1 Axes>"
      ]
     },
     "metadata": {
      "needs_background": "light"
     },
     "output_type": "display_data"
    }
   ],
   "source": [
    "MD_x = MD_graph[:10].roi\n",
    "MD_y = MD_graph[:10].name\n",
    "MD_75th = round(MD_graph.describe().roi['75%'], 2)\n",
    "MD_AVG = round(MD_graph.describe().roi['mean'], 2)\n",
    "\n",
    "plt.bar(MD_y, MD_x)\n",
    "plt.axhline(y=MD_75th, color='r', linestyle='-', label='75th Precentile MD ROI = ' + str(MD_75th))\n",
    "plt.axhline(y=MD_AVG, color='#33D977', linestyle='-', label='AVG MD ROI = ' + str(MD_AVG))\n",
    "plt.ylabel('ROI', fontsize = 24, color = '#073997')\n",
    "plt.xticks(rotation=60, fontsize = 12, color = '#073997')\n",
    "plt.title('Top 10 Midfielders by ROI', fontsize = 24, color = '#073997')\n",
    "plt.legend( fontsize = 14)\n",
    "plt.show"
   ]
  },
  {
   "cell_type": "markdown",
   "metadata": {},
   "source": [
    "## Top 10 Strikers"
   ]
  },
  {
   "cell_type": "code",
   "execution_count": 184,
   "metadata": {},
   "outputs": [
    {
     "data": {
      "text/plain": [
       "<function matplotlib.pyplot.show(*args, **kw)>"
      ]
     },
     "execution_count": 184,
     "metadata": {},
     "output_type": "execute_result"
    },
    {
     "data": {
      "image/png": "[encoded data removed]",
      "text/plain": [
       "<Figure size 1008x432 with 1 Axes>"
      ]
     },
     "metadata": {
      "needs_background": "light"
     },
     "output_type": "display_data"
    }
   ],
   "source": [
    "ST_x = ST_graph[:10].roi\n",
    "ST_y = ST_graph[:10].name\n",
    "ST_75th = round(ST_graph.describe().roi['75%'], 2)\n",
    "ST_AVG = round(ST_graph.describe().roi['mean'], 2)\n",
    "\n",
    "plt.bar(ST_y, ST_x)\n",
    "plt.axhline(y=ST_75th, color='r', linestyle='-', label='75th Precentile ST ROI = ' + str(ST_75th))\n",
    "plt.axhline(y=ST_AVG, color='#33D977', linestyle='-', label='AVG ST ROI = ' + str(ST_AVG))\n",
    "plt.ylabel('ROI', fontsize = 24, color = '#073997')\n",
    "plt.xticks(rotation=60, fontsize = 12, color = '#073997')\n",
    "plt.title('Top 10 Strikers by ROI', fontsize = 24, color = '#073997')\n",
    "plt.legend( fontsize = 14)\n",
    "plt.show"
   ]
  }
 ],
 "metadata": {
  "kernelspec": {
   "display_name": "Python 3",
   "language": "python",
   "name": "python3"
  }
 },
 "nbformat": 4,
 "nbformat_minor": 2
}
